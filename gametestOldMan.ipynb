{
 "cells": [
  {
   "cell_type": "code",
   "execution_count": 9,
   "id": "8edb148a",
   "metadata": {},
   "outputs": [],
   "source": [
    "import OldMaid "
   ]
  },
  {
   "cell_type": "code",
   "execution_count": 10,
   "id": "b6aa4c69",
   "metadata": {},
   "outputs": [
    {
     "name": "stdout",
     "output_type": "stream",
     "text": [
      "[{'suit': 'spade', 'num': 1, 'color': 'black', 'map': '┏-----┓\\n| A   |\\n|  ♠  |\\n|     |\\n┕-----┚'}, {'suit': 'heart', 'num': 1, 'color': 'red', 'map': '┏-----┓\\n| A   |\\n|  ♥  |\\n|     |\\n┕-----┚'}, {'suit': 'diamond', 'num': 1, 'color': 'red', 'map': '┏-----┓\\n| A   |\\n|  ♦  |\\n|     |\\n┕-----┚'}, {'suit': 'club', 'num': 1, 'color': 'black', 'map': '┏-----┓\\n| A   |\\n|  ♣  |\\n|     |\\n┕-----┚'}, {'suit': 'spade', 'num': 2, 'color': 'black', 'map': '┏-----┓\\n| 2   |\\n|  ♠  |\\n|     |\\n┕-----┚'}, {'suit': 'heart', 'num': 2, 'color': 'red', 'map': '┏-----┓\\n| 2   |\\n|  ♥  |\\n|     |\\n┕-----┚'}, {'suit': 'diamond', 'num': 2, 'color': 'red', 'map': '┏-----┓\\n| 2   |\\n|  ♦  |\\n|     |\\n┕-----┚'}, {'suit': 'club', 'num': 2, 'color': 'black', 'map': '┏-----┓\\n| 2   |\\n|  ♣  |\\n|     |\\n┕-----┚'}, {'suit': 'spade', 'num': 3, 'color': 'black', 'map': '┏-----┓\\n| 3   |\\n|  ♠  |\\n|     |\\n┕-----┚'}, {'suit': 'heart', 'num': 3, 'color': 'red', 'map': '┏-----┓\\n| 3   |\\n|  ♥  |\\n|     |\\n┕-----┚'}, {'suit': 'diamond', 'num': 3, 'color': 'red', 'map': '┏-----┓\\n| 3   |\\n|  ♦  |\\n|     |\\n┕-----┚'}, {'suit': 'club', 'num': 3, 'color': 'black', 'map': '┏-----┓\\n| 3   |\\n|  ♣  |\\n|     |\\n┕-----┚'}, {'suit': 'spade', 'num': 4, 'color': 'black', 'map': '┏-----┓\\n| 4   |\\n|  ♠  |\\n|     |\\n┕-----┚'}, {'suit': 'heart', 'num': 4, 'color': 'red', 'map': '┏-----┓\\n| 4   |\\n|  ♥  |\\n|     |\\n┕-----┚'}, {'suit': 'diamond', 'num': 4, 'color': 'red', 'map': '┏-----┓\\n| 4   |\\n|  ♦  |\\n|     |\\n┕-----┚'}, {'suit': 'club', 'num': 4, 'color': 'black', 'map': '┏-----┓\\n| 4   |\\n|  ♣  |\\n|     |\\n┕-----┚'}, {'suit': 'spade', 'num': 5, 'color': 'black', 'map': '┏-----┓\\n| 5   |\\n|  ♠  |\\n|     |\\n┕-----┚'}, {'suit': 'heart', 'num': 5, 'color': 'red', 'map': '┏-----┓\\n| 5   |\\n|  ♥  |\\n|     |\\n┕-----┚'}, {'suit': 'diamond', 'num': 5, 'color': 'red', 'map': '┏-----┓\\n| 5   |\\n|  ♦  |\\n|     |\\n┕-----┚'}, {'suit': 'club', 'num': 5, 'color': 'black', 'map': '┏-----┓\\n| 5   |\\n|  ♣  |\\n|     |\\n┕-----┚'}, {'suit': 'spade', 'num': 6, 'color': 'black', 'map': '┏-----┓\\n| 6   |\\n|  ♠  |\\n|     |\\n┕-----┚'}, {'suit': 'heart', 'num': 6, 'color': 'red', 'map': '┏-----┓\\n| 6   |\\n|  ♥  |\\n|     |\\n┕-----┚'}, {'suit': 'diamond', 'num': 6, 'color': 'red', 'map': '┏-----┓\\n| 6   |\\n|  ♦  |\\n|     |\\n┕-----┚'}, {'suit': 'club', 'num': 6, 'color': 'black', 'map': '┏-----┓\\n| 6   |\\n|  ♣  |\\n|     |\\n┕-----┚'}, {'suit': 'spade', 'num': 7, 'color': 'black', 'map': '┏-----┓\\n| 7   |\\n|  ♠  |\\n|     |\\n┕-----┚'}, {'suit': 'heart', 'num': 7, 'color': 'red', 'map': '┏-----┓\\n| 7   |\\n|  ♥  |\\n|     |\\n┕-----┚'}, {'suit': 'diamond', 'num': 7, 'color': 'red', 'map': '┏-----┓\\n| 7   |\\n|  ♦  |\\n|     |\\n┕-----┚'}, {'suit': 'club', 'num': 7, 'color': 'black', 'map': '┏-----┓\\n| 7   |\\n|  ♣  |\\n|     |\\n┕-----┚'}, {'suit': 'spade', 'num': 8, 'color': 'black', 'map': '┏-----┓\\n| 8   |\\n|  ♠  |\\n|     |\\n┕-----┚'}, {'suit': 'heart', 'num': 8, 'color': 'red', 'map': '┏-----┓\\n| 8   |\\n|  ♥  |\\n|     |\\n┕-----┚'}, {'suit': 'diamond', 'num': 8, 'color': 'red', 'map': '┏-----┓\\n| 8   |\\n|  ♦  |\\n|     |\\n┕-----┚'}, {'suit': 'club', 'num': 8, 'color': 'black', 'map': '┏-----┓\\n| 8   |\\n|  ♣  |\\n|     |\\n┕-----┚'}, {'suit': 'spade', 'num': 9, 'color': 'black', 'map': '┏-----┓\\n| 9   |\\n|  ♠  |\\n|     |\\n┕-----┚'}, {'suit': 'heart', 'num': 9, 'color': 'red', 'map': '┏-----┓\\n| 9   |\\n|  ♥  |\\n|     |\\n┕-----┚'}, {'suit': 'diamond', 'num': 9, 'color': 'red', 'map': '┏-----┓\\n| 9   |\\n|  ♦  |\\n|     |\\n┕-----┚'}, {'suit': 'club', 'num': 9, 'color': 'black', 'map': '┏-----┓\\n| 9   |\\n|  ♣  |\\n|     |\\n┕-----┚'}, {'suit': 'spade', 'num': 10, 'color': 'black', 'map': '┏-----┓\\n|10   |\\n|  ♠  |\\n|     |\\n┕-----┚'}, {'suit': 'heart', 'num': 10, 'color': 'red', 'map': '┏-----┓\\n|10   |\\n|  ♥  |\\n|     |\\n┕-----┚'}, {'suit': 'diamond', 'num': 10, 'color': 'red', 'map': '┏-----┓\\n|10   |\\n|  ♦  |\\n|     |\\n┕-----┚'}, {'suit': 'club', 'num': 10, 'color': 'black', 'map': '┏-----┓\\n|10   |\\n|  ♣  |\\n|     |\\n┕-----┚'}, {'suit': 'spade', 'num': 11, 'color': 'black', 'map': '┏-----┓\\n| J   |\\n|  ♠  |\\n|     |\\n┕-----┚'}, {'suit': 'heart', 'num': 11, 'color': 'red', 'map': '┏-----┓\\n| J   |\\n|  ♥  |\\n|     |\\n┕-----┚'}, {'suit': 'diamond', 'num': 11, 'color': 'red', 'map': '┏-----┓\\n| J   |\\n|  ♦  |\\n|     |\\n┕-----┚'}, {'suit': 'club', 'num': 11, 'color': 'black', 'map': '┏-----┓\\n| J   |\\n|  ♣  |\\n|     |\\n┕-----┚'}, {'suit': 'spade', 'num': 12, 'color': 'black', 'map': '┏-----┓\\n| Q   |\\n|  ♠  |\\n|     |\\n┕-----┚'}, {'suit': 'heart', 'num': 12, 'color': 'red', 'map': '┏-----┓\\n| Q   |\\n|  ♥  |\\n|     |\\n┕-----┚'}, {'suit': 'diamond', 'num': 12, 'color': 'red', 'map': '┏-----┓\\n| Q   |\\n|  ♦  |\\n|     |\\n┕-----┚'}, {'suit': 'club', 'num': 12, 'color': 'black', 'map': '┏-----┓\\n| Q   |\\n|  ♣  |\\n|     |\\n┕-----┚'}, {'suit': 'spade', 'num': 13, 'color': 'black', 'map': '┏-----┓\\n| K   |\\n|  ♠  |\\n|     |\\n┕-----┚'}, {'suit': 'heart', 'num': 13, 'color': 'red', 'map': '┏-----┓\\n| K   |\\n|  ♥  |\\n|     |\\n┕-----┚'}, {'suit': 'diamond', 'num': 13, 'color': 'red', 'map': '┏-----┓\\n| K   |\\n|  ♦  |\\n|     |\\n┕-----┚'}, {'suit': 'club', 'num': 13, 'color': 'black', 'map': '┏-----┓\\n| K   |\\n|  ♣  |\\n|     |\\n┕-----┚'}, {'suit': 'joker', 'num': 0, 'color': 'black', 'map': '┏-----┓\\n| Jocker|\\n|  🃏  |\\n|     |\\n┕-----┚'}]\n"
     ]
    }
   ],
   "source": [
    "game = OldMaid.Game()"
   ]
  },
  {
   "cell_type": "code",
   "execution_count": 11,
   "id": "78df66de",
   "metadata": {},
   "outputs": [],
   "source": [
    "game.addPlayer(\"Alice\")\n",
    "game.addPlayer(\"Bob\")"
   ]
  },
  {
   "cell_type": "code",
   "execution_count": 12,
   "id": "4dc0bb18",
   "metadata": {},
   "outputs": [
    {
     "name": "stdout",
     "output_type": "stream",
     "text": [
      "게임 시작\n"
     ]
    },
    {
     "data": {
      "text/plain": [
       "True"
      ]
     },
     "execution_count": 12,
     "metadata": {},
     "output_type": "execute_result"
    }
   ],
   "source": [
    "game.startGame()"
   ]
  },
  {
   "cell_type": "code",
   "execution_count": 19,
   "id": "f7559994",
   "metadata": {},
   "outputs": [
    {
     "name": "stdout",
     "output_type": "stream",
     "text": [
      "roundStart\n",
      "게임 시작\n",
      "현재 플레이어: Alice\n",
      "라운드 1이 시작됩니다.\n"
     ]
    },
    {
     "data": {
      "text/plain": [
       "[{'player': 'server',\n",
       "  'target': 'Alice',\n",
       "  'type': 'roundStart',\n",
       "  'data': {'hand': [], 'currnetRound': 0}},\n",
       " {'player': 'server',\n",
       "  'target': 'Bob',\n",
       "  'type': 'roundStart',\n",
       "  'data': {'hand': [], 'currnetRound': 0}},\n",
       " {'player': 'server', 'target': 'all', 'type': 'turn_change', 'data': 'Alice'}]"
      ]
     },
     "execution_count": 19,
     "metadata": {},
     "output_type": "execute_result"
    }
   ],
   "source": [
    "game.action(game.currentPlayer,\"roundStart\")"
   ]
  },
  {
   "cell_type": "code",
   "execution_count": 20,
   "id": "0fce969a",
   "metadata": {},
   "outputs": [
    {
     "data": {
      "text/plain": [
       "[]"
      ]
     },
     "execution_count": 20,
     "metadata": {},
     "output_type": "execute_result"
    }
   ],
   "source": [
    "game.players[game.currentPlayer].hand"
   ]
  },
  {
   "cell_type": "code",
   "execution_count": 21,
   "id": "74bc2bf4",
   "metadata": {},
   "outputs": [
    {
     "ename": "TypeError",
     "evalue": "Game.action() takes 3 positional arguments but 4 were given",
     "output_type": "error",
     "traceback": [
      "\u001b[31m---------------------------------------------------------------------------\u001b[39m",
      "\u001b[31mTypeError\u001b[39m                                 Traceback (most recent call last)",
      "\u001b[36mCell\u001b[39m\u001b[36m \u001b[39m\u001b[32mIn[21]\u001b[39m\u001b[32m, line 1\u001b[39m\n\u001b[32m----> \u001b[39m\u001b[32m1\u001b[39m \u001b[43mgame\u001b[49m\u001b[43m.\u001b[49m\u001b[43maction\u001b[49m\u001b[43m(\u001b[49m\u001b[43mgame\u001b[49m\u001b[43m.\u001b[49m\u001b[43mcurrentPlayer\u001b[49m\u001b[43m,\u001b[49m\u001b[33;43m\"\u001b[39;49m\u001b[33;43mdropCard\u001b[39;49m\u001b[33;43m\"\u001b[39;49m\u001b[43m,\u001b[49m\u001b[43m{\u001b[49m\u001b[33;43m\"\u001b[39;49m\u001b[33;43mhand1\u001b[39;49m\u001b[33;43m\"\u001b[39;49m\u001b[43m:\u001b[49m\u001b[32;43m2\u001b[39;49m\u001b[43m,\u001b[49m\u001b[43m \u001b[49m\u001b[33;43m\"\u001b[39;49m\u001b[33;43mhand2\u001b[39;49m\u001b[33;43m\"\u001b[39;49m\u001b[43m:\u001b[49m\u001b[32;43m3\u001b[39;49m\u001b[43m}\u001b[49m\u001b[43m)\u001b[49m\n",
      "\u001b[31mTypeError\u001b[39m: Game.action() takes 3 positional arguments but 4 were given"
     ]
    }
   ],
   "source": [
    "game.action(game.currentPlayer,\"dropCard\",{\"hand1\":2, \"hand2\":3})"
   ]
  },
  {
   "cell_type": "code",
   "execution_count": 22,
   "id": "08c9f614",
   "metadata": {},
   "outputs": [
    {
     "name": "stdout",
     "output_type": "stream",
     "text": [
      "{'player': 'Alice', 'type': 'playerState'}\n",
      "{'player': 'Alice', 'type': 'playerState'} <class 'dict'>\n",
      "Alice의 상태 요청\n"
     ]
    },
    {
     "ename": "TypeError",
     "evalue": "list indices must be integers or slices, not str",
     "output_type": "error",
     "traceback": [
      "\u001b[31m---------------------------------------------------------------------------\u001b[39m",
      "\u001b[31mTypeError\u001b[39m                                 Traceback (most recent call last)",
      "\u001b[36mCell\u001b[39m\u001b[36m \u001b[39m\u001b[32mIn[22]\u001b[39m\u001b[32m, line 1\u001b[39m\n\u001b[32m----> \u001b[39m\u001b[32m1\u001b[39m \u001b[43mgame\u001b[49m\u001b[43m.\u001b[49m\u001b[43maction\u001b[49m\u001b[43m(\u001b[49m\u001b[43mgame\u001b[49m\u001b[43m.\u001b[49m\u001b[43mcurrentPlayer\u001b[49m\u001b[43m,\u001b[49m\u001b[43m{\u001b[49m\u001b[33;43m\"\u001b[39;49m\u001b[33;43mplayer\u001b[39;49m\u001b[33;43m\"\u001b[39;49m\u001b[43m:\u001b[49m\u001b[43mgame\u001b[49m\u001b[43m.\u001b[49m\u001b[43mcurrentPlayer\u001b[49m\u001b[43m,\u001b[49m\u001b[33;43m\"\u001b[39;49m\u001b[33;43mtype\u001b[39;49m\u001b[33;43m\"\u001b[39;49m\u001b[43m:\u001b[49m\u001b[33;43m\"\u001b[39;49m\u001b[33;43mplayerState\u001b[39;49m\u001b[33;43m\"\u001b[39;49m\u001b[43m}\u001b[49m\u001b[43m)\u001b[49m\n",
      "\u001b[36mFile \u001b[39m\u001b[32mc:\\Users\\js000\\OneDrive\\Documents\\GitHub\\Back-end\\OldMaid\\game.py:68\u001b[39m, in \u001b[36mGame.action\u001b[39m\u001b[34m(self, player, action)\u001b[39m\n\u001b[32m     66\u001b[39m \u001b[38;5;28;01mif\u001b[39;00m player \u001b[38;5;129;01min\u001b[39;00m \u001b[38;5;28mself\u001b[39m.players:\n\u001b[32m     67\u001b[39m     playerState = [(hand.suit, hand.num) \u001b[38;5;28;01mfor\u001b[39;00m hand \u001b[38;5;129;01min\u001b[39;00m \u001b[38;5;28mself\u001b[39m.players[player].hand]\n\u001b[32m---> \u001b[39m\u001b[32m68\u001b[39m     \u001b[43mplayerState\u001b[49m\u001b[43m[\u001b[49m\u001b[33;43m\"\u001b[39;49m\u001b[33;43mplayers\u001b[39;49m\u001b[33;43m\"\u001b[39;49m\u001b[43m]\u001b[49m = {name:{\u001b[33m\"\u001b[39m\u001b[33malive\u001b[39m\u001b[33m\"\u001b[39m:p.alive,\u001b[33m\"\u001b[39m\u001b[33mhandCount\u001b[39m\u001b[33m\"\u001b[39m:\u001b[38;5;28mlen\u001b[39m(p.hand)} \u001b[38;5;28;01mfor\u001b[39;00m name, p \u001b[38;5;129;01min\u001b[39;00m \u001b[38;5;28mself\u001b[39m.players.items()}\n\u001b[32m     69\u001b[39m     \u001b[38;5;28mself\u001b[39m.tasks.append({\u001b[33m\"\u001b[39m\u001b[33mplayer\u001b[39m\u001b[33m\"\u001b[39m:\u001b[33m\"\u001b[39m\u001b[33mserver\u001b[39m\u001b[33m\"\u001b[39m,\u001b[33m\"\u001b[39m\u001b[33mtarget\u001b[39m\u001b[33m\"\u001b[39m:player,\u001b[33m\"\u001b[39m\u001b[33mtype\u001b[39m\u001b[33m\"\u001b[39m:\u001b[33m\"\u001b[39m\u001b[33mplayerState\u001b[39m\u001b[33m\"\u001b[39m,\u001b[33m\"\u001b[39m\u001b[33mdata\u001b[39m\u001b[33m\"\u001b[39m:playerState})\n\u001b[32m     70\u001b[39m \u001b[38;5;28;01melse\u001b[39;00m:\n",
      "\u001b[31mTypeError\u001b[39m: list indices must be integers or slices, not str"
     ]
    }
   ],
   "source": [
    "game.action(game.currentPlayer,{\"player\":game.currentPlayer,\"type\":\"playerState\"})"
   ]
  },
  {
   "cell_type": "code",
   "execution_count": null,
   "id": "fdb9b66c",
   "metadata": {},
   "outputs": [
    {
     "name": "stdout",
     "output_type": "stream",
     "text": [
      "dropCard\n",
      "Bob가 카드를 냈습니다.\n",
      "Bob가 낸 핸드 번호: 3, 6\n",
      "Bob가 낸 카드: (heart, 3), (diamond, 3)\n"
     ]
    },
    {
     "data": {
      "text/plain": [
       "[{'player': 'Bob',\n",
       "  'target': 'all',\n",
       "  'type': 'takeCard',\n",
       "  'data': {'hand1': 3, 'hand2': 6, 'from': 'Bob'}}]"
      ]
     },
     "execution_count": 39,
     "metadata": {},
     "output_type": "execute_result"
    }
   ],
   "source": [
    "game.action(game.currentPlayer,\"dropCard\",{\"hand1\":3, \"hand2\":6})\n"
   ]
  },
  {
   "cell_type": "code",
   "execution_count": null,
   "id": "78353f1b",
   "metadata": {},
   "outputs": [],
   "source": [
    "{\"type\":\"playerState\"}"
   ]
  },
  {
   "cell_type": "code",
   "execution_count": null,
   "id": "2e2209bc",
   "metadata": {},
   "outputs": [],
   "source": [
    "{\"type\":\"dropCard\",\"data\":{\"hand1\":3,\"hand2\":6}}"
   ]
  },
  {
   "cell_type": "code",
   "execution_count": null,
   "id": "4f1b9151",
   "metadata": {},
   "outputs": [
    {
     "name": "stdout",
     "output_type": "stream",
     "text": [
      "takeCard\n",
      "다음 플레이어: Bob\n",
      "Alice가 Bob에게서 카드를 가져왔습니다: (club, 7)\n"
     ]
    },
    {
     "data": {
      "text/plain": [
       "[{'player': 'Alice',\n",
       "  'target': 'all',\n",
       "  'type': 'takeCard',\n",
       "  'data': {'hand': 1, 'from': 'Bob'}},\n",
       " {'player': 'Alice',\n",
       "  'target': 'Alice',\n",
       "  'type': 'takeedCard',\n",
       "  'data': {'card': ('club', 7), 'from': 'Bob'}},\n",
       " {'player': 'server', 'target': 'all', 'type': 'turn_change', 'data': 'Bob'}]"
      ]
     },
     "execution_count": 30,
     "metadata": {},
     "output_type": "execute_result"
    }
   ],
   "source": [
    "game.action(game.currentPlayer,\"takeCard\",{\"hand\":1})"
   ]
  }
 ],
 "metadata": {
  "kernelspec": {
   "display_name": ".venv",
   "language": "python",
   "name": "python3"
  },
  "language_info": {
   "codemirror_mode": {
    "name": "ipython",
    "version": 3
   },
   "file_extension": ".py",
   "mimetype": "text/x-python",
   "name": "python",
   "nbconvert_exporter": "python",
   "pygments_lexer": "ipython3",
   "version": "3.13.1"
  }
 },
 "nbformat": 4,
 "nbformat_minor": 5
}
