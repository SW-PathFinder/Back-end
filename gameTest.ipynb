{
 "cells": [
  {
   "cell_type": "markdown",
   "metadata": {},
   "source": [
    "### error comments\n",
    "1. path\n",
    "    1. 이미 카드가 존재합니다.\n",
    "    2. 주변 카드가 조건을 만족하지 않습니다.\n",
    "    3. 카드가 연결되지 않습니다.\n",
    "2. rockFail\n",
    "    1. 파괴할 수 없는 카드입니다.\n",
    "3. viewMap\n",
    "    1. 잘못된 위치정보입니다.\n",
    "4. sabotage\n",
    "    1. 이미 제한된 장비입니다.\n",
    "5. repair\n",
    "    1. 수리할 수 있는 장비가 없습니다.\n",
    "6. discard\n",
    "    1. 잘못된 카드 번호입니다.\n",
    "7. reversePath\n",
    "    1. 행동카드는 회전이 불가능합니다.\n",
    "    "
   ]
  },
  {
   "cell_type": "markdown",
   "metadata": {},
   "source": []
  },
  {
   "cell_type": "code",
   "execution_count": null,
   "metadata": {},
   "outputs": [
    {
     "name": "stdout",
     "output_type": "stream",
     "text": [
      "home: (10, 5), gold: (8, 13), rock: [(12, 13), (10, 13)]\n",
      "게임 시작\n",
      "Board reset\n",
      "home: (10, 5), gold: (12, 13), rock: [(10, 13), (8, 13)]\n",
      "라운드 1이 시작됩니다.\n",
      "라운드 1이 시작됩니다.\n"
     ]
    },
    {
     "data": {
      "text/plain": [
       "[{'player': 'server',\n",
       "  'target': '조남훈',\n",
       "  'type': 'roundStart',\n",
       "  'data': {'hand': [(1, False),\n",
       "    (26, False),\n",
       "    (1, True),\n",
       "    (3, True),\n",
       "    (7, False),\n",
       "    (11, True)],\n",
       "   'role': 'worker',\n",
       "   'currentRound': 1}},\n",
       " {'player': 'server',\n",
       "  'target': '김도훈',\n",
       "  'type': 'roundStart',\n",
       "  'data': {'hand': [(2, True),\n",
       "    (17, False),\n",
       "    (19, False),\n",
       "    (2, False),\n",
       "    (23, False),\n",
       "    (3, False)],\n",
       "   'role': 'saboteur',\n",
       "   'currentRound': 1}},\n",
       " {'player': 'server',\n",
       "  'target': '김두현',\n",
       "  'type': 'roundStart',\n",
       "  'data': {'hand': [(1, True),\n",
       "    (16, True),\n",
       "    (26, False),\n",
       "    (8, True),\n",
       "    (4, True),\n",
       "    (15, False)],\n",
       "   'role': 'worker',\n",
       "   'currentRound': 1}},\n",
       " {'player': 'server',\n",
       "  'target': '김재훈',\n",
       "  'type': 'roundStart',\n",
       "  'data': {'hand': [(5, False),\n",
       "    (5, True),\n",
       "    (17, False),\n",
       "    (22, False),\n",
       "    (18, False),\n",
       "    (6, True)],\n",
       "   'role': 'worker',\n",
       "   'currentRound': 1}},\n",
       " {'player': 'server', 'target': 'all', 'type': 'turn_change', 'data': '조남훈'}]"
      ]
     },
     "execution_count": 1,
     "metadata": {},
     "output_type": "execute_result"
    }
   ],
   "source": [
    "import importlib\n",
    "import logic.game as sabo\n",
    "import logic.board as board\n",
    "from logic.card import Card\n",
    "def show_hand():\n",
    "    print(f\"current player : {game.currentPlayer} {game.players[game.currentPlayer].limit}\")\n",
    "    for index,i in enumerate(game.players[game.currentPlayer].hand):\n",
    "        print(f\"{index} : {i}\")\n",
    "        if i.type == \"path\":\n",
    "            for j in i.map:\n",
    "                for k in j:\n",
    "                    print(k, end=\"\")\n",
    "                print()\n",
    "        else:\n",
    "            print(\"type : \",i.Info[\"type\"])\n",
    "            print(\"info : \",i.Info[\"info\"])\n",
    "\n",
    "importlib.reload(sabo)\n",
    "importlib.reload(board)\n",
    "\n",
    "\n",
    "game = sabo.Game()\n",
    "game.addPlayer(\"김도훈\")\n",
    "game.addPlayer(\"김재훈\")\n",
    "game.addPlayer(\"김두현\")\n",
    "# game.addPlayer(\"송하영\")\n",
    "# game.addPlayer(\"이다미\")\n",
    "game.addPlayer(\"조남훈\")\n",
    "game.startGame()\n",
    "# game.roundStart()\n",
    "game.action(\"all\",{\"type\":\"roundStart\"})\n",
    "# print(game.cards)"
   ]
  },
  {
   "cell_type": "code",
   "execution_count": null,
   "metadata": {},
   "outputs": [
    {
     "name": "stdout",
     "output_type": "stream",
     "text": [
      "path:  [(10, 5), (10, 6)]\n",
      "path:  [(10, 5), (10, 6), (10, 7)]\n",
      "path:  [(10, 5), (10, 6), (10, 7), (10, 8)]\n",
      "path:  [(10, 5), (10, 6), (10, 7), (10, 8), (10, 9)]\n",
      "path:  [(10, 5), (10, 6), (10, 7), (10, 8), (10, 9), (10, 10)]\n",
      "path:  [(10, 5), (10, 6), (10, 7), (10, 8), (10, 9), (10, 10), (10, 11)]\n",
      "path:  [(10, 5), (10, 6), (10, 7), (10, 8), (10, 9), (10, 10), (9, 10), (9, 11)]\n",
      "path:  [(10, 5), (10, 6), (10, 7), (10, 8), (10, 9), (10, 10), (9, 10), (9, 11), (8, 11)]\n",
      "path:  [(10, 5), (10, 6), (10, 7), (10, 8), (10, 9), (10, 10), (10, 11), (11, 11)]\n",
      "path:  [(10, 5), (10, 6), (10, 7), (10, 8), (10, 9), (10, 10), (10, 11), (11, 11), (12, 11)]\n"
     ]
    },
    {
     "data": {
      "text/plain": [
       "True"
      ]
     },
     "execution_count": 2,
     "metadata": {},
     "output_type": "execute_result"
    }
   ],
   "source": [
    "game.board.addCard(Card(3),10,6)\n",
    "game.board.addCard(Card(3),10,7)\n",
    "game.board.addCard(Card(3),10,8)\n",
    "game.board.addCard(Card(3),10,9)\n",
    "game.board.addCard(Card(3),10,10)\n",
    "game.board.addCard(Card(3),10,11)\n",
    "game.board.addCard(Card(3),9,11)\n",
    "game.board.addCard(Card(3),8,11)\n",
    "game.board.addCard(Card(3),11,11)\n",
    "game.board.addCard(Card(3),12,11)\n",
    "# game.board.addCard(Card(3),10,12)\n"
   ]
  },
  {
   "cell_type": "code",
   "execution_count": 3,
   "metadata": {},
   "outputs": [],
   "source": [
    "# game.action(game.currentPlayer,{\"type\":\"endTime\"})\n",
    "\n",
    "# game.action(game.currentPlayer,{\"type\":\"reversePath\",\"data\":{\"handNum\":0}})\n",
    "# show_hand()"
   ]
  },
  {
   "cell_type": "code",
   "execution_count": 4,
   "metadata": {},
   "outputs": [
    {
     "name": "stdout",
     "output_type": "stream",
     "text": [
      "current player : 조남훈 {'mineCart': False, 'pickaxe': False, 'lantern': False}\n",
      "0 : <logic.card.Card object at 0x00000252541E6BA0>\n",
      "┏--┳--┓\n",
      "|  |  |\n",
      "┣--╋--┫\n",
      "|  |  |\n",
      "┕--┻--┚\n",
      "1 : <logic.card.Card object at 0x0000025272E3C4D0>\n",
      "type :  viewMap\n",
      "info :  viewMap\n",
      "2 : <logic.card.Card object at 0x0000025272DCDC70>\n",
      "┏--┳--┓\n",
      "|  |  |\n",
      "|  |  |\n",
      "|  |  |\n",
      "┕--┻--┚\n",
      "3 : <logic.card.Card object at 0x0000025272DCD880>\n",
      "┏--┳--┓\n",
      "|  |  |\n",
      "┣--╋--┫\n",
      "|  |  |\n",
      "┕--┻--┚\n",
      "4 : <logic.card.Card object at 0x0000025272DCCE60>\n",
      "┏--┳--┓\n",
      "|  |  |\n",
      "|  ┕--┫\n",
      "|     |\n",
      "┕-----┚\n",
      "5 : <logic.card.Card object at 0x0000025272DCC9E0>\n",
      "┏--┳--┓\n",
      "|  |  |\n",
      "┣-- --┫\n",
      "|  |  |\n",
      "┕--┻--┚\n"
     ]
    }
   ],
   "source": [
    "card = Card(3)\n",
    "game.players[game.currentPlayer].hand[0]=card\n",
    "show_hand()\n"
   ]
  },
  {
   "cell_type": "code",
   "execution_count": 5,
   "metadata": {},
   "outputs": [
    {
     "data": {
      "text/plain": [
       "{'조남훈': <logic.player.Player at 0x2525434dbf0>,\n",
       " '김도훈': <logic.player.Player at 0x25272cde060>,\n",
       " '김두현': <logic.player.Player at 0x2525434df20>,\n",
       " '김재훈': <logic.player.Player at 0x2525437a210>}"
      ]
     },
     "execution_count": 5,
     "metadata": {},
     "output_type": "execute_result"
    }
   ],
   "source": [
    "game.players"
   ]
  },
  {
   "cell_type": "code",
   "execution_count": 6,
   "metadata": {},
   "outputs": [
    {
     "name": "stdout",
     "output_type": "stream",
     "text": [
      "name: 조남훈 role: worker limit: {'mineCart': False, 'pickaxe': False, 'lantern': False}\n",
      "players dict_keys(['조남훈', '김도훈', '김두현', '김재훈'])\n",
      "path:  [(10, 5), (10, 6), (10, 7), (10, 8), (10, 9), (10, 10), (10, 11), (10, 12)]\n",
      "arrive rock (10, 13)\n",
      "end : True, endType : rock, checkNoneCard : False\n",
      "len(self.cards) :  42\n",
      "game continue\n"
     ]
    },
    {
     "data": {
      "text/plain": [
       "[{'player': '조남훈',\n",
       "  'target': 'all',\n",
       "  'type': 'path',\n",
       "  'data': {'x': 10, 'y': 12, 'card': 3, 'reverse': False}},\n",
       " {'player': '조남훈', 'target': '조남훈', 'type': 'drawCard', 'data': {'card': 3}},\n",
       " {'player': '김도훈', 'target': 'all', 'type': 'turn_change', 'data': '김도훈'},\n",
       " {'player': '김도훈',\n",
       "  'target': 'all',\n",
       "  'type': 'rock_found',\n",
       "  'data': {'x': 10, 'y': 13, 'card': -5, 'reverse': True}}]"
      ]
     },
     "execution_count": 6,
     "metadata": {},
     "output_type": "execute_result"
    }
   ],
   "source": [
    "print(f\"name: {game.players[game.currentPlayer].name} role: {game.players[game.currentPlayer].role} limit: {game.players[game.currentPlayer].limit}\")\n",
    "print(\"players\", game.players.keys())\n",
    "\n",
    "game.players[game.currentPlayer].hand[0]=card\n",
    "game.action(game.currentPlayer,{\"type\":\"path\",\"data\":{\"x\":10,\"y\":12,\"handNum\":0}})"
   ]
  },
  {
   "cell_type": "code",
   "execution_count": 7,
   "metadata": {},
   "outputs": [
    {
     "name": "stdout",
     "output_type": "stream",
     "text": [
      "name: 김도훈 role: saboteur limit: {'mineCart': False, 'pickaxe': False, 'lantern': False}\n",
      "players dict_keys(['조남훈', '김도훈', '김두현', '김재훈'])\n",
      "path:  [(10, 5), (10, 6), (10, 7), (10, 8), (10, 9), (10, 10), (9, 10), (9, 11), (8, 11), (8, 12)]\n",
      "arrice rock (8, 13)\n",
      "end : True, endType : rock, checkNoneCard : False\n",
      "len(self.cards) :  41\n",
      "game continue\n"
     ]
    },
    {
     "data": {
      "text/plain": [
       "[{'player': '김도훈',\n",
       "  'target': 'all',\n",
       "  'type': 'path',\n",
       "  'data': {'x': 8, 'y': 12, 'card': 3, 'reverse': False}},\n",
       " {'player': '김도훈', 'target': '김도훈', 'type': 'drawCard', 'data': {'card': 27}},\n",
       " {'player': '김두현', 'target': 'all', 'type': 'turn_change', 'data': '김두현'},\n",
       " {'player': '김두현',\n",
       "  'target': 'all',\n",
       "  'type': 'rock_found',\n",
       "  'data': {'x': 8, 'y': 13, 'card': -3, 'reverse': True}}]"
      ]
     },
     "execution_count": 7,
     "metadata": {},
     "output_type": "execute_result"
    }
   ],
   "source": [
    "print(f\"name: {game.players[game.currentPlayer].name} role: {game.players[game.currentPlayer].role} limit: {game.players[game.currentPlayer].limit}\")\n",
    "print(\"players\", game.players.keys())\n",
    "\n",
    "game.players[game.currentPlayer].hand[0]=card\n",
    "game.action(game.currentPlayer,{\"type\":\"path\",\"data\":{\"x\":8,\"y\":12,\"handNum\":0}})"
   ]
  },
  {
   "cell_type": "code",
   "execution_count": 8,
   "metadata": {},
   "outputs": [
    {
     "name": "stdout",
     "output_type": "stream",
     "text": [
      "name: 김두현 role: worker limit: {'mineCart': False, 'pickaxe': False, 'lantern': False}\n",
      "players dict_keys(['조남훈', '김도훈', '김두현', '김재훈'])\n",
      "path:  [(10, 5), (10, 6), (10, 7), (10, 8), (10, 9), (10, 10), (10, 11), (10, 12), (11, 12), (12, 12)]\n",
      "game end\n",
      "end : True, endType : gold, checkNoneCard : False\n",
      "len(self.cards) :  40\n",
      "['김재훈', '조남훈', '김도훈', '김두현']\n",
      "['김재훈', '조남훈', '김도훈', '김두현']\n",
      "['김재훈', '조남훈', '김도훈', '김두현']\n",
      "['김재훈', '조남훈', '김도훈', '김두현']\n",
      "['김재훈', '조남훈', '김도훈', '김두현']\n",
      "['김재훈', '조남훈', '김도훈', '김두현']\n",
      "self.players : {'조남훈': <logic.player.Player object at 0x000002525434DBF0>, '김도훈': <logic.player.Player object at 0x0000025272CDE060>, '김두현': <logic.player.Player object at 0x000002525434DF20>, '김재훈': <logic.player.Player object at 0x000002525437A210>}\n",
      "김두현에게 3 금이 배분되었습니다.\n",
      "김두현에게 3 금이 배분되었습니다.\n",
      "조남훈에게 1 금이 배분되었습니다.\n",
      "조남훈에게 1 금이 배분되었습니다.\n",
      "김재훈에게 1 금이 배분되었습니다.\n",
      "김재훈에게 1 금이 배분되었습니다.\n",
      "라운드가 종료되었습니다.\n",
      "게임 시작\n",
      "Board reset\n",
      "home: (10, 5), gold: (8, 13), rock: [(10, 13), (12, 13)]\n",
      "게임이 시작되었습니다.\n",
      "라운드 2이 시작됩니다.\n",
      "다음 라운드로 넘어갑니다.\n"
     ]
    },
    {
     "data": {
      "text/plain": [
       "[{'player': '김두현',\n",
       "  'target': 'all',\n",
       "  'type': 'path',\n",
       "  'data': {'x': 12, 'y': 12, 'card': 3, 'reverse': False}},\n",
       " {'player': '김두현',\n",
       "  'target': 'all',\n",
       "  'type': 'round_end',\n",
       "  'data': {'winner': 'worker',\n",
       "   'roles': {'조남훈': 'worker',\n",
       "    '김도훈': 'saboteur',\n",
       "    '김두현': 'worker',\n",
       "    '김재훈': 'worker'},\n",
       "   'currentPlayer': '김두현'}},\n",
       " {'player': '김두현',\n",
       "  'target': '김두현',\n",
       "  'type': 'getGold',\n",
       "  'data': {'gold': 3, 'players': ['김재훈', '조남훈', '김도훈', '김두현']}},\n",
       " {'player': '김두현',\n",
       "  'target': '조남훈',\n",
       "  'type': 'getGold',\n",
       "  'data': {'gold': 1, 'players': ['김재훈', '조남훈', '김도훈', '김두현']}},\n",
       " {'player': '김두현',\n",
       "  'target': '김재훈',\n",
       "  'type': 'getGold',\n",
       "  'data': {'gold': 1, 'players': ['김재훈', '조남훈', '김도훈', '김두현']}},\n",
       " {'player': 'server',\n",
       "  'target': '조남훈',\n",
       "  'type': 'roundStart',\n",
       "  'data': {'hand': [(26, False),\n",
       "    (7, False),\n",
       "    (9, True),\n",
       "    (6, False),\n",
       "    (3, False),\n",
       "    (18, False)],\n",
       "   'role': 'saboteur',\n",
       "   'currentRound': 2}},\n",
       " {'player': 'server',\n",
       "  'target': '김도훈',\n",
       "  'type': 'roundStart',\n",
       "  'data': {'hand': [(6, False),\n",
       "    (27, False),\n",
       "    (2, True),\n",
       "    (7, False),\n",
       "    (5, True),\n",
       "    (26, False)],\n",
       "   'role': 'worker',\n",
       "   'currentRound': 2}},\n",
       " {'player': 'server',\n",
       "  'target': '김두현',\n",
       "  'type': 'roundStart',\n",
       "  'data': {'hand': [(5, False),\n",
       "    (25, False),\n",
       "    (17, False),\n",
       "    (3, True),\n",
       "    (18, False),\n",
       "    (26, False)],\n",
       "   'role': 'worker',\n",
       "   'currentRound': 2}},\n",
       " {'player': 'server',\n",
       "  'target': '김재훈',\n",
       "  'type': 'roundStart',\n",
       "  'data': {'hand': [(20, False),\n",
       "    (2, False),\n",
       "    (4, False),\n",
       "    (27, False),\n",
       "    (1, True),\n",
       "    (7, False)],\n",
       "   'role': 'worker',\n",
       "   'currentRound': 2}},\n",
       " {'player': 'server', 'target': 'all', 'type': 'turn_change', 'data': '조남훈'}]"
      ]
     },
     "execution_count": 8,
     "metadata": {},
     "output_type": "execute_result"
    }
   ],
   "source": [
    "print(f\"name: {game.players[game.currentPlayer].name} role: {game.players[game.currentPlayer].role} limit: {game.players[game.currentPlayer].limit}\")\n",
    "print(\"players\", game.players.keys())\n",
    "game.players[game.currentPlayer].hand[0]=card\n",
    "game.action(game.currentPlayer,{\"type\":\"path\",\"data\":{\"x\":12,\"y\":12,\"handNum\":0}})"
   ]
  },
  {
   "cell_type": "code",
   "execution_count": 9,
   "metadata": {},
   "outputs": [
    {
     "data": {
      "text/plain": [
       "[{'player': 'server',\n",
       "  'target': '조남훈',\n",
       "  'type': 'error',\n",
       "  'data': '돌 찾기 카드는 돌 찾기에만 사용할 수 있습니다.'}]"
      ]
     },
     "execution_count": 9,
     "metadata": {},
     "output_type": "execute_result"
    }
   ],
   "source": [
    "game.action(game.currentPlayer,{\"type\":\"rockFail\",\"data\":{\"x\":10,\"y\":6,\"handNum\":2}})"
   ]
  },
  {
   "cell_type": "code",
   "execution_count": 10,
   "metadata": {},
   "outputs": [],
   "source": [
    "from copy import deepcopy\n",
    "backup_game = deepcopy(game)"
   ]
  },
  {
   "cell_type": "code",
   "execution_count": 11,
   "metadata": {},
   "outputs": [],
   "source": [
    "game.board = backup_game.board"
   ]
  },
  {
   "cell_type": "code",
   "execution_count": 12,
   "metadata": {},
   "outputs": [
    {
     "name": "stdout",
     "output_type": "stream",
     "text": [
      "game continue\n",
      "end : False, endType : None, checkNoneCard : False\n",
      "len(self.cards) :  42\n"
     ]
    },
    {
     "data": {
      "text/plain": [
       "[{'player': '조남훈', 'target': 'all', 'type': 'discard', 'data': {'handNum': 0}},\n",
       " {'player': '조남훈', 'target': '조남훈', 'type': 'drawCard', 'data': {'card': 22}},\n",
       " {'player': '김도훈', 'target': 'all', 'type': 'turn_change', 'data': '김도훈'}]"
      ]
     },
     "execution_count": 12,
     "metadata": {},
     "output_type": "execute_result"
    }
   ],
   "source": [
    "game.action(game.currentPlayer,{\"type\":\"discard\",\"data\":{\"handNum\":0}})\n"
   ]
  },
  {
   "cell_type": "code",
   "execution_count": 13,
   "metadata": {},
   "outputs": [
    {
     "name": "stdout",
     "output_type": "stream",
     "text": [
      "42\n"
     ]
    }
   ],
   "source": [
    "print(len(game.cards))\n",
    "# for card in game.cards:\n",
    "#     print(card.map)"
   ]
  },
  {
   "cell_type": "code",
   "execution_count": 14,
   "metadata": {},
   "outputs": [
    {
     "data": {
      "text/plain": [
       "[{'player': 'server',\n",
       "  'target': '김도훈',\n",
       "  'type': 'error',\n",
       "  'data': '맵 보기 카드는 맵 보기 행동에만 사용할 수 있습니다.'}]"
      ]
     },
     "execution_count": 14,
     "metadata": {},
     "output_type": "execute_result"
    }
   ],
   "source": [
    "game.action(game.currentPlayer,{\"type\":\"viewMap\",\"data\":{\"x\":10,\"y\":13,\"handNum\":0}})"
   ]
  },
  {
   "cell_type": "code",
   "execution_count": 15,
   "metadata": {},
   "outputs": [
    {
     "data": {
      "text/plain": [
       "[{'player': '김도훈',\n",
       "  'target': '김도훈',\n",
       "  'type': 'reversePath',\n",
       "  'data': {'card': 5}}]"
      ]
     },
     "execution_count": 15,
     "metadata": {},
     "output_type": "execute_result"
    }
   ],
   "source": [
    "game.action(game.currentPlayer,{\"type\":\"reversePath\",\"data\":{\"handNum\":4}})"
   ]
  },
  {
   "cell_type": "code",
   "execution_count": 16,
   "metadata": {},
   "outputs": [
    {
     "data": {
      "text/plain": [
       "[{'player': 'server',\n",
       "  'target': '김도훈',\n",
       "  'type': 'error',\n",
       "  'data': '사보타주 카드는 사보타주에만 사용할 수 있습니다.'}]"
      ]
     },
     "execution_count": 16,
     "metadata": {},
     "output_type": "execute_result"
    }
   ],
   "source": [
    "game.action(game.currentPlayer,{\"type\":\"sabotage\",\"data\":{\"target\":\"김두현\",\"handNum\":3}})"
   ]
  },
  {
   "cell_type": "code",
   "execution_count": 17,
   "metadata": {},
   "outputs": [
    {
     "data": {
      "text/plain": [
       "[{'player': 'server',\n",
       "  'target': '김도훈',\n",
       "  'type': 'error',\n",
       "  'data': '수리 카드는 수리에만 사용할 수 있습니다.'}]"
      ]
     },
     "execution_count": 17,
     "metadata": {},
     "output_type": "execute_result"
    }
   ],
   "source": [
    "game.action(game.currentPlayer,{\"type\":\"repair\",\"data\":{\"target\":\"김재훈\",\"handNum\":5}})"
   ]
  },
  {
   "cell_type": "code",
   "execution_count": 18,
   "metadata": {},
   "outputs": [
    {
     "name": "stdout",
     "output_type": "stream",
     "text": [
      "game continue\n",
      "end : False, endType : None, checkNoneCard : False\n",
      "len(self.cards) :  41\n"
     ]
    },
    {
     "data": {
      "text/plain": [
       "[{'player': '김도훈', 'target': 'all', 'type': 'discard', 'data': {'handNum': 4}},\n",
       " {'player': '김도훈', 'target': '김도훈', 'type': 'drawCard', 'data': {'card': 11}},\n",
       " {'player': '김두현', 'target': 'all', 'type': 'turn_change', 'data': '김두현'}]"
      ]
     },
     "execution_count": 18,
     "metadata": {},
     "output_type": "execute_result"
    }
   ],
   "source": [
    "game.action(game.currentPlayer, {\"type\":\"discard\",\"data\":{\"handNum\":4}})"
   ]
  },
  {
   "cell_type": "code",
   "execution_count": 19,
   "metadata": {},
   "outputs": [
    {
     "name": "stdout",
     "output_type": "stream",
     "text": [
      "path:  [(10, 5), (10, 6)]\n",
      "game continue\n",
      "end : False, endType : None, checkNoneCard : False\n",
      "len(self.cards) :  40\n"
     ]
    },
    {
     "data": {
      "text/plain": [
       "[{'player': '김두현',\n",
       "  'target': 'all',\n",
       "  'type': 'path',\n",
       "  'data': {'x': 10, 'y': 6, 'card': 3, 'reverse': True}},\n",
       " {'player': '김두현', 'target': '김두현', 'type': 'drawCard', 'data': {'card': 2}},\n",
       " {'player': '김재훈', 'target': 'all', 'type': 'turn_change', 'data': '김재훈'}]"
      ]
     },
     "execution_count": 19,
     "metadata": {},
     "output_type": "execute_result"
    }
   ],
   "source": [
    "game.action(game.currentPlayer,{\"type\":\"path\",\"data\":{\"x\":10,\"y\":6,\"handNum\":3}})"
   ]
  },
  {
   "cell_type": "code",
   "execution_count": 20,
   "metadata": {},
   "outputs": [
    {
     "ename": "TypeError",
     "evalue": "can only concatenate str (not \"int\") to str",
     "output_type": "error",
     "traceback": [
      "\u001b[31m---------------------------------------------------------------------------\u001b[39m",
      "\u001b[31mTypeError\u001b[39m                                 Traceback (most recent call last)",
      "\u001b[36mCell\u001b[39m\u001b[36m \u001b[39m\u001b[32mIn[20]\u001b[39m\u001b[32m, line 1\u001b[39m\n\u001b[32m----> \u001b[39m\u001b[32m1\u001b[39m \u001b[43mgame\u001b[49m\u001b[43m.\u001b[49m\u001b[43mplayers\u001b[49m\u001b[43m[\u001b[49m\u001b[43mgame\u001b[49m\u001b[43m.\u001b[49m\u001b[43mcurrentPlayer\u001b[49m\u001b[43m]\u001b[49m\u001b[43m.\u001b[49m\u001b[43mhand\u001b[49m\u001b[43m[\u001b[49m\u001b[32;43m3\u001b[39;49m\u001b[43m]\u001b[49m\u001b[43m.\u001b[49m\u001b[43mreversePathCard\u001b[49m\u001b[43m(\u001b[49m\u001b[43m)\u001b[49m\n",
      "\u001b[36mFile \u001b[39m\u001b[32mc:\\Users\\js000\\OneDrive\\Documents\\GitHub\\Back-end\\logic\\card.py:53\u001b[39m, in \u001b[36mCard.reversePathCard\u001b[39m\u001b[34m(self)\u001b[39m\n\u001b[32m     51\u001b[39m \u001b[38;5;28mself\u001b[39m.flip = \u001b[38;5;129;01mnot\u001b[39;00m \u001b[38;5;28mself\u001b[39m.flip\n\u001b[32m     52\u001b[39m \u001b[38;5;28mself\u001b[39m.map = flip_map(\u001b[38;5;28mself\u001b[39m.map)\n\u001b[32m---> \u001b[39m\u001b[32m53\u001b[39m \u001b[38;5;28mself\u001b[39m.path = [\u001b[38;5;28;43mtuple\u001b[39;49m\u001b[43m(\u001b[49m\u001b[43m(\u001b[49m\u001b[43mx\u001b[49m\u001b[43m+\u001b[49m\u001b[32;43m1\u001b[39;49m\u001b[43m)\u001b[49m\u001b[43m \u001b[49m\u001b[43m%\u001b[49m\u001b[43m \u001b[49m\u001b[32;43m4\u001b[39;49m\u001b[43m \u001b[49m\u001b[43m+\u001b[49m\u001b[32;43m1\u001b[39;49m\u001b[43m \u001b[49m\u001b[38;5;28;43;01mif\u001b[39;49;00m\u001b[43m \u001b[49m\u001b[43mx\u001b[49m\u001b[43m \u001b[49m\u001b[43m!=\u001b[49m\u001b[43m \u001b[49m\u001b[32;43m0\u001b[39;49m\u001b[43m \u001b[49m\u001b[38;5;28;43;01melse\u001b[39;49;00m\u001b[43m \u001b[49m\u001b[43mx\u001b[49m\u001b[43m \u001b[49m\u001b[38;5;28;43;01mfor\u001b[39;49;00m\u001b[43m \u001b[49m\u001b[43mx\u001b[49m\u001b[43m \u001b[49m\u001b[38;5;129;43;01min\u001b[39;49;00m\u001b[43m \u001b[49m\u001b[43mtup\u001b[49m\u001b[43m)\u001b[49m \u001b[38;5;28;01mfor\u001b[39;00m tup \u001b[38;5;129;01min\u001b[39;00m \u001b[38;5;28mself\u001b[39m.path]\n",
      "\u001b[36mFile \u001b[39m\u001b[32mc:\\Users\\js000\\OneDrive\\Documents\\GitHub\\Back-end\\logic\\card.py:53\u001b[39m, in \u001b[36m<genexpr>\u001b[39m\u001b[34m(.0)\u001b[39m\n\u001b[32m     51\u001b[39m \u001b[38;5;28mself\u001b[39m.flip = \u001b[38;5;129;01mnot\u001b[39;00m \u001b[38;5;28mself\u001b[39m.flip\n\u001b[32m     52\u001b[39m \u001b[38;5;28mself\u001b[39m.map = flip_map(\u001b[38;5;28mself\u001b[39m.map)\n\u001b[32m---> \u001b[39m\u001b[32m53\u001b[39m \u001b[38;5;28mself\u001b[39m.path = [\u001b[38;5;28mtuple\u001b[39m((\u001b[43mx\u001b[49m\u001b[43m+\u001b[49m\u001b[32;43m1\u001b[39;49m) % \u001b[32m4\u001b[39m +\u001b[32m1\u001b[39m \u001b[38;5;28;01mif\u001b[39;00m x != \u001b[32m0\u001b[39m \u001b[38;5;28;01melse\u001b[39;00m x \u001b[38;5;28;01mfor\u001b[39;00m x \u001b[38;5;129;01min\u001b[39;00m tup) \u001b[38;5;28;01mfor\u001b[39;00m tup \u001b[38;5;129;01min\u001b[39;00m \u001b[38;5;28mself\u001b[39m.path]\n",
      "\u001b[31mTypeError\u001b[39m: can only concatenate str (not \"int\") to str"
     ]
    }
   ],
   "source": [
    "game.players[game.currentPlayer].hand[3].reversePathCard()"
   ]
  },
  {
   "cell_type": "code",
   "execution_count": null,
   "metadata": {},
   "outputs": [
    {
     "data": {
      "text/plain": [
       "[{'player': 'server',\n",
       "  'target': '김도훈',\n",
       "  'type': 'error',\n",
       "  'data': '경로 카드는 경로 추가에만 사용할 수 있습니다.'}]"
      ]
     },
     "execution_count": 21,
     "metadata": {},
     "output_type": "execute_result"
    }
   ],
   "source": [
    "game.action(game.currentPlayer,{\"type\":\"path\",\"data\":{\"x\":10,\"y\":6,\"handNum\":3}})"
   ]
  },
  {
   "cell_type": "code",
   "execution_count": null,
   "metadata": {},
   "outputs": [
    {
     "name": "stdout",
     "output_type": "stream",
     "text": [
      "current player : 김도훈 {'mineCart': False, 'pickaxe': False, 'lantern': False}\n",
      "0 : <logic.card.Card object at 0x000002AE908CFAD0>\n",
      "┏--┳--┓\n",
      "|  |  |\n",
      "|  |  |\n",
      "|  |  |\n",
      "┕--┻--┚\n",
      "1 : <logic.card.Card object at 0x000002AE9089A570>\n",
      "┏--┳--┓\n",
      "|  |  |\n",
      "┣--╋--┫\n",
      "|  |  |\n",
      "┕--┻--┚\n",
      "2 : <logic.card.Card object at 0x000002AE9089BB60>\n",
      "type :  repair\n",
      "info :  ['lantern']\n",
      "3 : <logic.card.Card object at 0x000002AE908EC200>\n",
      "type :  repair\n",
      "info :  ['pickaxe']\n",
      "4 : <logic.card.Card object at 0x000002AE9089BDA0>\n",
      "┏--┳--┓\n",
      "|  |  |\n",
      "|     |\n",
      "|  |  |\n",
      "┕--┻--┚\n",
      "5 : <logic.card.Card object at 0x000002AE9089B260>\n",
      "type :  sabotage\n",
      "info :  lantern\n"
     ]
    }
   ],
   "source": [
    "show_hand()"
   ]
  },
  {
   "cell_type": "code",
   "execution_count": null,
   "metadata": {},
   "outputs": [],
   "source": [
    "game.players[game.currentPlayer].hand[0].reversePathCard()"
   ]
  },
  {
   "cell_type": "code",
   "execution_count": null,
   "metadata": {},
   "outputs": [
    {
     "name": "stdout",
     "output_type": "stream",
     "text": [
      "path:  [(10, 5), (11, 5)]\n",
      "game continue\n",
      "end : False, endType : None, checkNoneCard : False\n",
      "len(self.cards) :  40\n"
     ]
    },
    {
     "data": {
      "text/plain": [
       "[{'player': '김도훈',\n",
       "  'target': 'all',\n",
       "  'type': 'path',\n",
       "  'data': {'x': 11, 'y': 5, 'card': 9, 'reverse': False}},\n",
       " {'player': '김도훈', 'target': '김도훈', 'type': 'drawCard', 'data': {'card': 20}},\n",
       " {'player': '조남훈', 'target': 'all', 'type': 'turn_change', 'data': '조남훈'}]"
      ]
     },
     "execution_count": 24,
     "metadata": {},
     "output_type": "execute_result"
    }
   ],
   "source": [
    "game.action(game.currentPlayer,{\"type\":\"path\",\"data\":{\"x\":11,\"y\":5,\"handNum\":4}})"
   ]
  },
  {
   "cell_type": "code",
   "execution_count": null,
   "metadata": {},
   "outputs": [
    {
     "name": "stdout",
     "output_type": "stream",
     "text": [
      "current player : 조남훈 {'mineCart': False, 'pickaxe': False, 'lantern': False}\n",
      "0 : <logic.card.Card object at 0x000002AE908EF5C0>\n",
      "type :  rockFail\n",
      "info :  rockFail\n",
      "1 : <logic.card.Card object at 0x000002AE908EC320>\n",
      "type :  viewMap\n",
      "info :  viewMap\n",
      "2 : <logic.card.Card object at 0x000002AE9089B770>\n",
      "┏-----┓\n",
      "|     |\n",
      "┣--┓  |\n",
      "|  |  |\n",
      "┕--┻--┚\n",
      "3 : <logic.card.Card object at 0x000002AE9089ADE0>\n",
      "┏--┳--┓\n",
      "|  |  |\n",
      "|  ┣--┫\n",
      "|  |  |\n",
      "┕--┻--┚\n",
      "4 : <logic.card.Card object at 0x000002AE9089B9B0>\n",
      "┏--┳--┓\n",
      "|  |  |\n",
      "┣--╋--┫\n",
      "|  |  |\n",
      "┕--┻--┚\n",
      "5 : <logic.card.Card object at 0x000002AE9089A4E0>\n",
      "┏-----┓\n",
      "|     |\n",
      "┣--┓  |\n",
      "|  |  |\n",
      "┕--┻--┚\n"
     ]
    }
   ],
   "source": [
    "show_hand()"
   ]
  },
  {
   "cell_type": "code",
   "execution_count": null,
   "metadata": {},
   "outputs": [
    {
     "ename": "TypeError",
     "evalue": "can only concatenate str (not \"int\") to str",
     "output_type": "error",
     "traceback": [
      "\u001b[31m---------------------------------------------------------------------------\u001b[39m",
      "\u001b[31mTypeError\u001b[39m                                 Traceback (most recent call last)",
      "\u001b[36mCell\u001b[39m\u001b[36m \u001b[39m\u001b[32mIn[26]\u001b[39m\u001b[32m, line 1\u001b[39m\n\u001b[32m----> \u001b[39m\u001b[32m1\u001b[39m \u001b[43mgame\u001b[49m\u001b[43m.\u001b[49m\u001b[43mplayers\u001b[49m\u001b[43m[\u001b[49m\u001b[43mgame\u001b[49m\u001b[43m.\u001b[49m\u001b[43mcurrentPlayer\u001b[49m\u001b[43m]\u001b[49m\u001b[43m.\u001b[49m\u001b[43mhand\u001b[49m\u001b[43m[\u001b[49m\u001b[32;43m0\u001b[39;49m\u001b[43m]\u001b[49m\u001b[43m.\u001b[49m\u001b[43mreversePathCard\u001b[49m\u001b[43m(\u001b[49m\u001b[43m)\u001b[49m\n",
      "\u001b[36mFile \u001b[39m\u001b[32mc:\\Users\\js000\\OneDrive\\Documents\\GitHub\\Back-end\\logic\\card.py:53\u001b[39m, in \u001b[36mCard.reversePathCard\u001b[39m\u001b[34m(self)\u001b[39m\n\u001b[32m     51\u001b[39m \u001b[38;5;28mself\u001b[39m.flip = \u001b[38;5;129;01mnot\u001b[39;00m \u001b[38;5;28mself\u001b[39m.flip\n\u001b[32m     52\u001b[39m \u001b[38;5;28mself\u001b[39m.map = flip_map(\u001b[38;5;28mself\u001b[39m.map)\n\u001b[32m---> \u001b[39m\u001b[32m53\u001b[39m \u001b[38;5;28mself\u001b[39m.path = [\u001b[38;5;28;43mtuple\u001b[39;49m\u001b[43m(\u001b[49m\u001b[43m(\u001b[49m\u001b[43mx\u001b[49m\u001b[43m+\u001b[49m\u001b[32;43m1\u001b[39;49m\u001b[43m)\u001b[49m\u001b[43m \u001b[49m\u001b[43m%\u001b[49m\u001b[43m \u001b[49m\u001b[32;43m4\u001b[39;49m\u001b[43m \u001b[49m\u001b[43m+\u001b[49m\u001b[32;43m1\u001b[39;49m\u001b[43m \u001b[49m\u001b[38;5;28;43;01mif\u001b[39;49;00m\u001b[43m \u001b[49m\u001b[43mx\u001b[49m\u001b[43m \u001b[49m\u001b[43m!=\u001b[49m\u001b[43m \u001b[49m\u001b[32;43m0\u001b[39;49m\u001b[43m \u001b[49m\u001b[38;5;28;43;01melse\u001b[39;49;00m\u001b[43m \u001b[49m\u001b[43mx\u001b[49m\u001b[43m \u001b[49m\u001b[38;5;28;43;01mfor\u001b[39;49;00m\u001b[43m \u001b[49m\u001b[43mx\u001b[49m\u001b[43m \u001b[49m\u001b[38;5;129;43;01min\u001b[39;49;00m\u001b[43m \u001b[49m\u001b[43mtup\u001b[49m\u001b[43m)\u001b[49m \u001b[38;5;28;01mfor\u001b[39;00m tup \u001b[38;5;129;01min\u001b[39;00m \u001b[38;5;28mself\u001b[39m.path]\n",
      "\u001b[36mFile \u001b[39m\u001b[32mc:\\Users\\js000\\OneDrive\\Documents\\GitHub\\Back-end\\logic\\card.py:53\u001b[39m, in \u001b[36m<genexpr>\u001b[39m\u001b[34m(.0)\u001b[39m\n\u001b[32m     51\u001b[39m \u001b[38;5;28mself\u001b[39m.flip = \u001b[38;5;129;01mnot\u001b[39;00m \u001b[38;5;28mself\u001b[39m.flip\n\u001b[32m     52\u001b[39m \u001b[38;5;28mself\u001b[39m.map = flip_map(\u001b[38;5;28mself\u001b[39m.map)\n\u001b[32m---> \u001b[39m\u001b[32m53\u001b[39m \u001b[38;5;28mself\u001b[39m.path = [\u001b[38;5;28mtuple\u001b[39m((\u001b[43mx\u001b[49m\u001b[43m+\u001b[49m\u001b[32;43m1\u001b[39;49m) % \u001b[32m4\u001b[39m +\u001b[32m1\u001b[39m \u001b[38;5;28;01mif\u001b[39;00m x != \u001b[32m0\u001b[39m \u001b[38;5;28;01melse\u001b[39;00m x \u001b[38;5;28;01mfor\u001b[39;00m x \u001b[38;5;129;01min\u001b[39;00m tup) \u001b[38;5;28;01mfor\u001b[39;00m tup \u001b[38;5;129;01min\u001b[39;00m \u001b[38;5;28mself\u001b[39m.path]\n",
      "\u001b[31mTypeError\u001b[39m: can only concatenate str (not \"int\") to str"
     ]
    }
   ],
   "source": [
    "game.players[game.currentPlayer].hand[0].reversePathCard()"
   ]
  },
  {
   "cell_type": "code",
   "execution_count": null,
   "metadata": {},
   "outputs": [
    {
     "name": "stdout",
     "output_type": "stream",
     "text": [
      "error at left\n",
      "error nearPathVerification\n",
      "game continue\n",
      "end : False, endType : None, checkNoneCard : False\n",
      "len(self.cards) :  39\n"
     ]
    },
    {
     "data": {
      "text/plain": [
       "[{'player': 'server',\n",
       "  'target': '김도훈',\n",
       "  'type': 'error',\n",
       "  'data': '주변 카드가 조건을 만족하지 않습니다.'}]"
      ]
     },
     "execution_count": 27,
     "metadata": {},
     "output_type": "execute_result"
    }
   ],
   "source": [
    "game.action(game.currentPlayer,{\"type\":\"path\",\"data\":{\"x\":10,\"y\":6,\"handNum\":0}})"
   ]
  },
  {
   "cell_type": "code",
   "execution_count": null,
   "metadata": {},
   "outputs": [
    {
     "data": {
      "text/plain": [
       "[(8, 13), (10, 5), (10, 13), (11, 5), (12, 13)]"
      ]
     },
     "execution_count": 28,
     "metadata": {},
     "output_type": "execute_result"
    }
   ],
   "source": [
    "[n for n,attr in game.board.path.nodes(data=True) if attr.get(\"active\") == True]"
   ]
  },
  {
   "cell_type": "code",
   "execution_count": null,
   "metadata": {},
   "outputs": [
    {
     "data": {
      "text/plain": [
       "EdgeView([((7, 13), (8, 13)), ((8, 12), (8, 13)), ((8, 13), (8, 14)), ((8, 13), (9, 13)), ((9, 5), (10, 5)), ((9, 13), (10, 13)), ((10, 4), (10, 5)), ((10, 5), (10, 6)), ((10, 5), (11, 5)), ((10, 12), (10, 13)), ((10, 13), (10, 14)), ((10, 13), (11, 13)), ((11, 4), (11, 5)), ((11, 5), (11, 6)), ((11, 13), (12, 13)), ((12, 12), (12, 13)), ((12, 13), (12, 14)), ((12, 13), (13, 13))])"
      ]
     },
     "execution_count": 29,
     "metadata": {},
     "output_type": "execute_result"
    }
   ],
   "source": [
    "game.board.path.edges"
   ]
  },
  {
   "cell_type": "code",
   "execution_count": null,
   "metadata": {},
   "outputs": [],
   "source": []
  },
  {
   "cell_type": "code",
   "execution_count": null,
   "metadata": {},
   "outputs": [
    {
     "ename": "AttributeError",
     "evalue": "'AtlasView' object has no attribute 'edges'",
     "output_type": "error",
     "traceback": [
      "\u001b[31m---------------------------------------------------------------------------\u001b[39m",
      "\u001b[31mAttributeError\u001b[39m                            Traceback (most recent call last)",
      "\u001b[36mCell\u001b[39m\u001b[36m \u001b[39m\u001b[32mIn[30]\u001b[39m\u001b[32m, line 3\u001b[39m\n\u001b[32m      1\u001b[39m path = game.board.path[(\u001b[32m10\u001b[39m,\u001b[32m6\u001b[39m)]\n\u001b[32m----> \u001b[39m\u001b[32m3\u001b[39m \u001b[43mpath\u001b[49m\u001b[43m.\u001b[49m\u001b[43medges\u001b[49m()\n",
      "\u001b[31mAttributeError\u001b[39m: 'AtlasView' object has no attribute 'edges'"
     ]
    }
   ],
   "source": [
    "path = game.board.path[(10,6)]\n",
    "\n",
    "path.edges()\n"
   ]
  },
  {
   "cell_type": "code",
   "execution_count": null,
   "metadata": {},
   "outputs": [],
   "source": []
  },
  {
   "cell_type": "code",
   "execution_count": null,
   "metadata": {},
   "outputs": [],
   "source": []
  },
  {
   "cell_type": "code",
   "execution_count": null,
   "metadata": {},
   "outputs": [],
   "source": [
    "print(list(path.edges))"
   ]
  },
  {
   "cell_type": "code",
   "execution_count": null,
   "metadata": {},
   "outputs": [],
   "source": []
  },
  {
   "cell_type": "code",
   "execution_count": null,
   "metadata": {},
   "outputs": [],
   "source": []
  },
  {
   "cell_type": "code",
   "execution_count": null,
   "metadata": {},
   "outputs": [],
   "source": []
  },
  {
   "cell_type": "code",
   "execution_count": null,
   "metadata": {},
   "outputs": [],
   "source": []
  },
  {
   "cell_type": "code",
   "execution_count": null,
   "metadata": {},
   "outputs": [],
   "source": []
  },
  {
   "cell_type": "code",
   "execution_count": null,
   "metadata": {},
   "outputs": [
    {
     "name": "stdout",
     "output_type": "stream",
     "text": [
      "current player : 송하영\n",
      "0 : <card.Card object at 0x11305af90>\n",
      "┏--┳--┓\n",
      "|  |  |\n",
      "┣--   |\n",
      "|     |\n",
      "┕-----┚\n",
      "1 : <card.Card object at 0x11305a450>\n",
      "┏--┳--┓\n",
      "|  |  |\n",
      "|  ┣--┫\n",
      "|  |  |\n",
      "┕--┻--┚\n",
      "2 : <card.Card object at 0x11305a510>\n",
      "┏--┳--┓\n",
      "|  |  |\n",
      "┣--┻--┫\n",
      "|     |\n",
      "┕-----┚\n",
      "3 : <card.Card object at 0x11305a690>\n",
      "┏-----┓\n",
      "|     |\n",
      "┣-----┫\n",
      "|     |\n",
      "┕-----┚\n",
      "4 : <card.Card object at 0x10dd6afc0>\n",
      "┏-----┓\n",
      "|     |\n",
      "|   --┫\n",
      "|     |\n",
      "┕-----┚\n"
     ]
    }
   ],
   "source": [
    "show_hand()"
   ]
  },
  {
   "cell_type": "code",
   "execution_count": null,
   "metadata": {},
   "outputs": [],
   "source": [
    "game.players[game.currentPlayer].hand[0].reversePathCard()"
   ]
  },
  {
   "cell_type": "code",
   "execution_count": null,
   "metadata": {},
   "outputs": [
    {
     "name": "stdout",
     "output_type": "stream",
     "text": [
      "current player : 송하영\n",
      "0 : <card.Card object at 0x11305af90>\n",
      "┏-----┓\n",
      "|     |\n",
      "|   --┫\n",
      "|  |  |\n",
      "┕--┻--┚\n",
      "1 : <card.Card object at 0x11305a450>\n",
      "┏--┳--┓\n",
      "|  |  |\n",
      "|  ┣--┫\n",
      "|  |  |\n",
      "┕--┻--┚\n",
      "2 : <card.Card object at 0x11305a510>\n",
      "┏--┳--┓\n",
      "|  |  |\n",
      "┣--┻--┫\n",
      "|     |\n",
      "┕-----┚\n",
      "3 : <card.Card object at 0x11305a690>\n",
      "┏-----┓\n",
      "|     |\n",
      "┣-----┫\n",
      "|     |\n",
      "┕-----┚\n",
      "4 : <card.Card object at 0x10dd6afc0>\n",
      "┏-----┓\n",
      "|     |\n",
      "|   --┫\n",
      "|     |\n",
      "┕-----┚\n"
     ]
    }
   ],
   "source": [
    "show_hand()"
   ]
  },
  {
   "cell_type": "code",
   "execution_count": null,
   "metadata": {},
   "outputs": [
    {
     "name": "stdout",
     "output_type": "stream",
     "text": [
      "action :  {'type': 'path', 'data': {'x': 10, 'y': 7, 'handNum': 0}}\n",
      "[<card.Card object at 0x11305af90>, <card.Card object at 0x11305a450>, <card.Card object at 0x11305a510>, <card.Card object at 0x11305a690>, <card.Card object at 0x10dd6afc0>]\n",
      "error totalPathVerification\n",
      "Result :  (False, 'error totalPathVerification')\n"
     ]
    },
    {
     "data": {
      "text/plain": [
       "[{'type': 'error', 'data': 'error totalPathVerification'}]"
      ]
     },
     "execution_count": 11,
     "metadata": {},
     "output_type": "execute_result"
    }
   ],
   "source": [
    "game.action(game.currentPlayer,{\"type\":\"path\",\"data\":{\"x\":10,\"y\":7,\"handNum\":0}})"
   ]
  },
  {
   "cell_type": "code",
   "execution_count": null,
   "metadata": {},
   "outputs": [
    {
     "name": "stdout",
     "output_type": "stream",
     "text": [
      "action :  {'type': 'path', 'data': {'x': 9, 'y': 6, 'handNum': 0}}\n",
      "[<card.Card object at 0x11305af90>, <card.Card object at 0x11305a450>, <card.Card object at 0x11305a510>, <card.Card object at 0x11305a690>, <card.Card object at 0x10dd6afc0>]\n",
      "error totalPathVerification\n",
      "Result :  (False, 'error totalPathVerification')\n"
     ]
    },
    {
     "data": {
      "text/plain": [
       "[{'type': 'error', 'data': 'error totalPathVerification'}]"
      ]
     },
     "execution_count": 15,
     "metadata": {},
     "output_type": "execute_result"
    }
   ],
   "source": [
    "game.action(game.currentPlayer,{\"type\":\"path\",\"data\":{\"x\":9,\"y\":6,\"handNum\":0}})"
   ]
  },
  {
   "cell_type": "code",
   "execution_count": null,
   "metadata": {},
   "outputs": [
    {
     "name": "stdout",
     "output_type": "stream",
     "text": [
      "action :  {'type': 'path', 'data': {'x': 10, 'y': 6, 'card': 3}}\n",
      "{'type': 'path', 'info': [(1, 2, 3, 4), False], 'map': array([['┏', '-', '-', '┳', '-', '-', '┓'],\n",
      "       ['|', ' ', ' ', '|', ' ', ' ', '|'],\n",
      "       ['┣', '-', '-', '╋', '-', '-', '┫'],\n",
      "       ['|', ' ', ' ', '|', ' ', ' ', '|'],\n",
      "       ['┕', '-', '-', '┻', '-', '-', '┚']], dtype='<U1')}\n",
      "Result :  True\n"
     ]
    },
    {
     "data": {
      "text/plain": [
       "[{'type': 'path', 'data': {'x': 10, 'y': 6, 'card': 3}},\n",
       " {'type': 'turn_change', 'data': 1}]"
      ]
     },
     "metadata": {},
     "output_type": "display_data"
    }
   ],
   "source": [
    "game.action(0,{\"type\":\"path\",\"data\":{\"x\":10,\"y\":6,\"card\":3}})"
   ]
  },
  {
   "cell_type": "code",
   "execution_count": null,
   "metadata": {},
   "outputs": [
    {
     "data": {
      "text/plain": [
       "1"
      ]
     },
     "metadata": {},
     "output_type": "display_data"
    }
   ],
   "source": [
    "game.current_player"
   ]
  },
  {
   "cell_type": "code",
   "execution_count": null,
   "metadata": {},
   "outputs": [
    {
     "data": {
      "text/plain": [
       "[{'type': 'error', 'data': 'not your turn'}]"
      ]
     },
     "metadata": {},
     "output_type": "display_data"
    }
   ],
   "source": [
    "game.action(0,{\"type\":\"path\",\"data\":{\"x\":10,\"y\":6,\"card\":3}})"
   ]
  },
  {
   "cell_type": "code",
   "execution_count": null,
   "metadata": {},
   "outputs": [
    {
     "name": "stdout",
     "output_type": "stream",
     "text": [
      "action :  {'type': 'path', 'data': {'x': 10, 'y': 6, 'card': 3}}\n",
      "{'type': 'path', 'info': [(1, 2, 3, 4), False], 'map': array([['┏', '-', '-', '┳', '-', '-', '┓'],\n",
      "       ['|', ' ', ' ', '|', ' ', ' ', '|'],\n",
      "       ['┣', '-', '-', '╋', '-', '-', '┫'],\n",
      "       ['|', ' ', ' ', '|', ' ', ' ', '|'],\n",
      "       ['┕', '-', '-', '┻', '-', '-', '┚']], dtype='<U1')}\n",
      "Result :  (False, 'error emptyVerification')\n"
     ]
    },
    {
     "data": {
      "text/plain": [
       "[{'type': 'error', 'data': 'error emptyVerification'}]"
      ]
     },
     "metadata": {},
     "output_type": "display_data"
    }
   ],
   "source": [
    "game.action(1,{\"type\":\"path\",\"data\":{\"x\":10,\"y\":6,\"card\":3}})"
   ]
  },
  {
   "cell_type": "code",
   "execution_count": null,
   "metadata": {},
   "outputs": [
    {
     "name": "stdout",
     "output_type": "stream",
     "text": [
      "action :  {'type': 'path', 'data': {'x': 10, 'y': 7, 'card': 3}}\n",
      "{'type': 'path', 'info': [(1, 2, 3, 4), False], 'map': array([['┏', '-', '-', '┳', '-', '-', '┓'],\n",
      "       ['|', ' ', ' ', '|', ' ', ' ', '|'],\n",
      "       ['┣', '-', '-', '╋', '-', '-', '┫'],\n",
      "       ['|', ' ', ' ', '|', ' ', ' ', '|'],\n",
      "       ['┕', '-', '-', '┻', '-', '-', '┚']], dtype='<U1')}\n",
      "Result :  True\n"
     ]
    },
    {
     "data": {
      "text/plain": [
       "[{'type': 'path', 'data': {'x': 10, 'y': 7, 'card': 3}},\n",
       " {'type': 'turn_change', 'data': 2}]"
      ]
     },
     "metadata": {},
     "output_type": "display_data"
    }
   ],
   "source": [
    "game.action(1,{\"type\":\"path\",\"data\":{\"x\":10,\"y\":7,\"card\":3}})"
   ]
  },
  {
   "cell_type": "code",
   "execution_count": null,
   "metadata": {},
   "outputs": [
    {
     "name": "stdout",
     "output_type": "stream",
     "text": [
      "action :  {'type': 'path', 'data': {'x': 10, 'y': 7, 'card': 3}}\n",
      "{'type': 'path', 'info': [(1, 2, 3, 4), False], 'map': array([['┏', '-', '-', '┳', '-', '-', '┓'],\n",
      "       ['|', ' ', ' ', '|', ' ', ' ', '|'],\n",
      "       ['┣', '-', '-', '╋', '-', '-', '┫'],\n",
      "       ['|', ' ', ' ', '|', ' ', ' ', '|'],\n",
      "       ['┕', '-', '-', '┻', '-', '-', '┚']], dtype='<U1')}\n",
      "Result :  (False, 'error emptyVerification')\n"
     ]
    },
    {
     "data": {
      "text/plain": [
       "[{'type': 'error', 'data': 'error emptyVerification'}]"
      ]
     },
     "metadata": {},
     "output_type": "display_data"
    }
   ],
   "source": [
    "game.action(2,{\"type\":\"path\",\"data\":{\"x\":10,\"y\":7,\"card\":3}})"
   ]
  },
  {
   "cell_type": "code",
   "execution_count": null,
   "metadata": {},
   "outputs": [
    {
     "name": "stdout",
     "output_type": "stream",
     "text": [
      "{'type': 'path', 'info': [(0, 0), False], 'map': array([[' ', ' ', ' ', ' ', ' ', ' ', ' '],\n",
      "       [' ', ' ', ' ', ' ', ' ', ' ', ' '],\n",
      "       [' ', ' ', ' ', ' ', ' ', ' ', ' '],\n",
      "       [' ', ' ', ' ', ' ', ' ', ' ', ' '],\n",
      "       [' ', ' ', ' ', ' ', ' ', ' ', ' ']], dtype='<U1')}\n"
     ]
    },
    {
     "data": {
      "text/plain": [
       "True"
      ]
     },
     "metadata": {},
     "output_type": "display_data"
    }
   ],
   "source": [
    "game.board.rockFail(10,7)"
   ]
  },
  {
   "cell_type": "code",
   "execution_count": null,
   "metadata": {},
   "outputs": [
    {
     "name": "stdout",
     "output_type": "stream",
     "text": [
      "action :  {'type': 'path', 'data': {'x': 10, 'y': 7, 'card': 3}}\n",
      "{'type': 'path', 'info': [(1, 2, 3, 4), False], 'map': array([['┏', '-', '-', '┳', '-', '-', '┓'],\n",
      "       ['|', ' ', ' ', '|', ' ', ' ', '|'],\n",
      "       ['┣', '-', '-', '╋', '-', '-', '┫'],\n",
      "       ['|', ' ', ' ', '|', ' ', ' ', '|'],\n",
      "       ['┕', '-', '-', '┻', '-', '-', '┚']], dtype='<U1')}\n",
      "Result :  (False, 'error emptyVerification')\n"
     ]
    },
    {
     "data": {
      "text/plain": [
       "[{'type': 'error', 'data': 'error emptyVerification'}]"
      ]
     },
     "metadata": {},
     "output_type": "display_data"
    }
   ],
   "source": [
    "game.action(3,{\"type\":\"path\",\"data\":{\"x\":10,\"y\":7,\"card\":3}})"
   ]
  },
  {
   "cell_type": "code",
   "execution_count": null,
   "metadata": {},
   "outputs": [
    {
     "name": "stdout",
     "output_type": "stream",
     "text": [
      "action :  {'type': 'rockFail', 'data': {'x': 10, 'y': 6}}\n",
      "{'type': 'path', 'info': [(0, 0), False], 'map': array([[' ', ' ', ' ', ' ', ' ', ' ', ' '],\n",
      "       [' ', ' ', ' ', ' ', ' ', ' ', ' '],\n",
      "       [' ', ' ', ' ', ' ', ' ', ' ', ' '],\n",
      "       [' ', ' ', ' ', ' ', ' ', ' ', ' '],\n",
      "       [' ', ' ', ' ', ' ', ' ', ' ', ' ']], dtype='<U1')}\n"
     ]
    },
    {
     "data": {
      "text/plain": [
       "[{'type': 'rockFail', 'data': {'x': 10, 'y': 6}},\n",
       " {'type': 'turn_change', 'data': 3}]"
      ]
     },
     "metadata": {},
     "output_type": "display_data"
    }
   ],
   "source": [
    "game.action(2,{\"type\":\"rockFail\",\"data\":{\"x\":10,\"y\":6}})"
   ]
  },
  {
   "cell_type": "code",
   "execution_count": null,
   "metadata": {},
   "outputs": [
    {
     "data": {
      "text/plain": [
       "[{'type': 'error', 'data': 'not your turn'}]"
      ]
     },
     "metadata": {},
     "output_type": "display_data"
    }
   ],
   "source": [
    "game.action(5,{\"type\":\"path\",\"data\":{\"x\":10,\"y\":6,\"card\":3}})"
   ]
  },
  {
   "cell_type": "code",
   "execution_count": null,
   "metadata": {},
   "outputs": [
    {
     "name": "stdout",
     "output_type": "stream",
     "text": [
      "                                                                                                                                                                               \n",
      "                                                                                                                                                                               \n",
      "( 0, 0) ( 0, 1) ( 0, 2) ( 0, 3) ( 0, 4) ( 0, 5) ( 0, 6) ( 0, 7) ( 0, 8) ( 0, 9) ( 0,10) ( 0,11) ( 0,12) ( 0,13) ( 0,14) ( 0,15) ( 0,16) ( 0,17) ( 0,18) ( 0,19) ( 0,20) ( 0,21)\n",
      "                                                                                                                                                                               \n",
      "                                                                                                                                                                               \n",
      "                                                                                                                                                                               \n",
      "                                                                                                                                                                               \n",
      "( 1, 0) ( 1, 1) ( 1, 2) ( 1, 3) ( 1, 4) ( 1, 5) ( 1, 6) ( 1, 7) ( 1, 8) ( 1, 9) ( 1,10) ( 1,11) ( 1,12) ( 1,13) ( 1,14) ( 1,15) ( 1,16) ( 1,17) ( 1,18) ( 1,19) ( 1,20) ( 1,21)\n",
      "                                                                                                                                                                               \n",
      "                                                                                                                                                                               \n",
      "                                                                                                                                                                               \n",
      "                                                                                                                                                                               \n",
      "( 2, 0) ( 2, 1) ( 2, 2) ( 2, 3) ( 2, 4) ( 2, 5) ( 2, 6) ( 2, 7) ( 2, 8) ( 2, 9) ( 2,10) ( 2,11) ( 2,12) ( 2,13) ( 2,14) ( 2,15) ( 2,16) ( 2,17) ( 2,18) ( 2,19) ( 2,20) ( 2,21)\n",
      "                                                                                                                                                                               \n",
      "                                                                                                                                                                               \n",
      "                                                                                                                                                                               \n",
      "                                                                                                                                                                               \n",
      "( 3, 0) ( 3, 1) ( 3, 2) ( 3, 3) ( 3, 4) ( 3, 5) ( 3, 6) ( 3, 7) ( 3, 8) ( 3, 9) ( 3,10) ( 3,11) ( 3,12) ( 3,13) ( 3,14) ( 3,15) ( 3,16) ( 3,17) ( 3,18) ( 3,19) ( 3,20) ( 3,21)\n",
      "                                                                                                                                                                               \n",
      "                                                                                                                                                                               \n",
      "                                                                                                                                                                               \n",
      "                                                                                                                                                                               \n",
      "( 4, 0) ( 4, 1) ( 4, 2) ( 4, 3) ( 4, 4) ( 4, 5) ( 4, 6) ( 4, 7) ( 4, 8) ( 4, 9) ( 4,10) ( 4,11) ( 4,12) ( 4,13) ( 4,14) ( 4,15) ( 4,16) ( 4,17) ( 4,18) ( 4,19) ( 4,20) ( 4,21)\n",
      "                                                                                                                                                                               \n",
      "                                                                                                                                                                               \n",
      "                                                                                                                                                                               \n",
      "                                                                                                                                                                               \n",
      "( 5, 0) ( 5, 1) ( 5, 2) ( 5, 3) ( 5, 4) ( 5, 5) ( 5, 6) ( 5, 7) ( 5, 8) ( 5, 9) ( 5,10) ( 5,11) ( 5,12) ( 5,13) ( 5,14) ( 5,15) ( 5,16) ( 5,17) ( 5,18) ( 5,19) ( 5,20) ( 5,21)\n",
      "                                                                                                                                                                               \n",
      "                                                                                                                                                                               \n",
      "                                                                                                                                                                               \n",
      "                                                                                                                                                                               \n",
      "( 6, 0) ( 6, 1) ( 6, 2) ( 6, 3) ( 6, 4) ( 6, 5) ( 6, 6) ( 6, 7) ( 6, 8) ( 6, 9) ( 6,10) ( 6,11) ( 6,12) ( 6,13) ( 6,14) ( 6,15) ( 6,16) ( 6,17) ( 6,18) ( 6,19) ( 6,20) ( 6,21)\n",
      "                                                                                                                                                                               \n",
      "                                                                                                                                                                               \n",
      "                                                                                                                                                                               \n",
      "                                                                                                                                                                               \n",
      "( 7, 0) ( 7, 1) ( 7, 2) ( 7, 3) ( 7, 4) ( 7, 5) ( 7, 6) ( 7, 7) ( 7, 8) ( 7, 9) ( 7,10) ( 7,11) ( 7,12) ( 7,13) ( 7,14) ( 7,15) ( 7,16) ( 7,17) ( 7,18) ( 7,19) ( 7,20) ( 7,21)\n",
      "                                                                                                                                                                               \n",
      "                                                                                                                                                                               \n",
      "                                                                                                        ┏-----┓                                                                \n",
      "                                                                                                        |#####|                                                                \n",
      "( 8, 0) ( 8, 1) ( 8, 2) ( 8, 3) ( 8, 4) ( 8, 5) ( 8, 6) ( 8, 7) ( 8, 8) ( 8, 9) ( 8,10) ( 8,11) ( 8,12) |#####| ( 8,14) ( 8,15) ( 8,16) ( 8,17) ( 8,18) ( 8,19) ( 8,20) ( 8,21)\n",
      "                                                                                                        |hiden|                                                                \n",
      "                                                                                                        ┕-----┚                                                                \n",
      "                                                                                                                                                                               \n",
      "                                                                                                                                                                               \n",
      "( 9, 0) ( 9, 1) ( 9, 2) ( 9, 3) ( 9, 4) ( 9, 5) ( 9, 6) ( 9, 7) ( 9, 8) ( 9, 9) ( 9,10) ( 9,11) ( 9,12) ( 9,13) ( 9,14) ( 9,15) ( 9,16) ( 9,17) ( 9,18) ( 9,19) ( 9,20) ( 9,21)\n",
      "                                                                                                                                                                               \n",
      "                                                                                                                                                                               \n",
      "                                        ┏--┳--┓ ┏--┳--┓ ┏--┳--┓                                         ┏--┳--┓                                                                \n",
      "                                        |##|##| |  |  | |  |  |                                         |  |##|                                                                \n",
      "(10, 0) (10, 1) (10, 2) (10, 3) (10, 4) ┣--╋--┫ ┣--╋--┫ ┣--╋--┫ (10, 8) (10, 9) (10,10) (10,11) (10,12) |  ┕--┫ (10,14) (10,15) (10,16) (10,17) (10,18) (10,19) (10,20) (10,21)\n",
      "                                        |##|##| |  |  | |  |  |                                         |hiden|                                                                \n",
      "                                        ┕--┻--┚ ┕--┻--┚ ┕--┻--┚                                         ┕-----┚                                                                \n",
      "                                                                                                                                                                               \n",
      "                                                                                                                                                                               \n",
      "(11, 0) (11, 1) (11, 2) (11, 3) (11, 4) (11, 5) (11, 6) (11, 7) (11, 8) (11, 9) (11,10) (11,11) (11,12) (11,13) (11,14) (11,15) (11,16) (11,17) (11,18) (11,19) (11,20) (11,21)\n",
      "                                                                                                                                                                               \n",
      "                                                                                                                                                                               \n",
      "                                                                                                        ┏--┳--┓                                                                \n",
      "                                                                                                        |  |##|                                                                \n",
      "(12, 0) (12, 1) (12, 2) (12, 3) (12, 4) (12, 5) (12, 6) (12, 7) (12, 8) (12, 9) (12,10) (12,11) (12,12) |  ┕--┫ (12,14) (12,15) (12,16) (12,17) (12,18) (12,19) (12,20) (12,21)\n",
      "                                                                                                        |hiden|                                                                \n",
      "                                                                                                        ┕-----┚                                                                \n",
      "                                                                                                                                                                               \n",
      "                                                                                                                                                                               \n",
      "(13, 0) (13, 1) (13, 2) (13, 3) (13, 4) (13, 5) (13, 6) (13, 7) (13, 8) (13, 9) (13,10) (13,11) (13,12) (13,13) (13,14) (13,15) (13,16) (13,17) (13,18) (13,19) (13,20) (13,21)\n",
      "                                                                                                                                                                               \n",
      "                                                                                                                                                                               \n",
      "                                                                                                                                                                               \n",
      "                                                                                                                                                                               \n",
      "(14, 0) (14, 1) (14, 2) (14, 3) (14, 4) (14, 5) (14, 6) (14, 7) (14, 8) (14, 9) (14,10) (14,11) (14,12) (14,13) (14,14) (14,15) (14,16) (14,17) (14,18) (14,19) (14,20) (14,21)\n",
      "                                                                                                                                                                               \n",
      "                                                                                                                                                                               \n",
      "                                                                                                                                                                               \n",
      "                                                                                                                                                                               \n",
      "(15, 0) (15, 1) (15, 2) (15, 3) (15, 4) (15, 5) (15, 6) (15, 7) (15, 8) (15, 9) (15,10) (15,11) (15,12) (15,13) (15,14) (15,15) (15,16) (15,17) (15,18) (15,19) (15,20) (15,21)\n",
      "                                                                                                                                                                               \n",
      "                                                                                                                                                                               \n",
      "                                                                                                                                                                               \n",
      "                                                                                                                                                                               \n",
      "(16, 0) (16, 1) (16, 2) (16, 3) (16, 4) (16, 5) (16, 6) (16, 7) (16, 8) (16, 9) (16,10) (16,11) (16,12) (16,13) (16,14) (16,15) (16,16) (16,17) (16,18) (16,19) (16,20) (16,21)\n",
      "                                                                                                                                                                               \n",
      "                                                                                                                                                                               \n",
      "                                                                                                                                                                               \n",
      "                                                                                                                                                                               \n",
      "(17, 0) (17, 1) (17, 2) (17, 3) (17, 4) (17, 5) (17, 6) (17, 7) (17, 8) (17, 9) (17,10) (17,11) (17,12) (17,13) (17,14) (17,15) (17,16) (17,17) (17,18) (17,19) (17,20) (17,21)\n",
      "                                                                                                                                                                               \n",
      "                                                                                                                                                                               \n",
      "                                                                                                                                                                               \n",
      "                                                                                                                                                                               \n",
      "(18, 0) (18, 1) (18, 2) (18, 3) (18, 4) (18, 5) (18, 6) (18, 7) (18, 8) (18, 9) (18,10) (18,11) (18,12) (18,13) (18,14) (18,15) (18,16) (18,17) (18,18) (18,19) (18,20) (18,21)\n",
      "                                                                                                                                                                               \n",
      "                                                                                                                                                                               \n",
      "                                                                                                                                                                               \n",
      "                                                                                                                                                                               \n",
      "(19, 0) (19, 1) (19, 2) (19, 3) (19, 4) (19, 5) (19, 6) (19, 7) (19, 8) (19, 9) (19,10) (19,11) (19,12) (19,13) (19,14) (19,15) (19,16) (19,17) (19,18) (19,19) (19,20) (19,21)\n",
      "                                                                                                                                                                               \n",
      "                                                                                                                                                                               \n",
      "                                                                                                                                                                               \n",
      "                                                                                                                                                                               \n",
      "(20, 0) (20, 1) (20, 2) (20, 3) (20, 4) (20, 5) (20, 6) (20, 7) (20, 8) (20, 9) (20,10) (20,11) (20,12) (20,13) (20,14) (20,15) (20,16) (20,17) (20,18) (20,19) (20,20) (20,21)\n",
      "                                                                                                                                                                               \n",
      "                                                                                                                                                                               \n",
      "                                                                                                                                                                               \n",
      "                                                                                                                                                                               \n",
      "(21, 0) (21, 1) (21, 2) (21, 3) (21, 4) (21, 5) (21, 6) (21, 7) (21, 8) (21, 9) (21,10) (21,11) (21,12) (21,13) (21,14) (21,15) (21,16) (21,17) (21,18) (21,19) (21,20) (21,21)\n",
      "                                                                                                                                                                               \n",
      "                                                                                                                                                                               \n"
     ]
    }
   ],
   "source": [
    "game.board.showBoard()"
   ]
  },
  {
   "cell_type": "code",
   "execution_count": null,
   "metadata": {},
   "outputs": [
    {
     "name": "stdout",
     "output_type": "stream",
     "text": [
      "action :  {'type': 'path', 'data': {'x': 11, 'y': 6, 'card': 3}}\n",
      "{'type': 'path', 'info': [(1, 2, 3, 4), False], 'map': array([['┏', '-', '-', '┳', '-', '-', '┓'],\n",
      "       ['|', ' ', ' ', '|', ' ', ' ', '|'],\n",
      "       ['┣', '-', '-', '╋', '-', '-', '┫'],\n",
      "       ['|', ' ', ' ', '|', ' ', ' ', '|'],\n",
      "       ['┕', '-', '-', '┻', '-', '-', '┚']], dtype='<U1')}\n",
      "Result :  True\n"
     ]
    },
    {
     "data": {
      "text/plain": [
       "[{'type': 'path', 'data': {'x': 11, 'y': 6, 'card': 3}},\n",
       " {'type': 'turn_change', 'data': 4}]"
      ]
     },
     "metadata": {},
     "output_type": "display_data"
    }
   ],
   "source": [
    "game.action(3,{\"type\":\"path\",\"data\":{\"x\":11,\"y\":6,\"card\":3}})\n"
   ]
  },
  {
   "cell_type": "code",
   "execution_count": null,
   "metadata": {},
   "outputs": [
    {
     "data": {
      "text/plain": [
       "4"
      ]
     },
     "metadata": {},
     "output_type": "display_data"
    }
   ],
   "source": [
    "game.current_player"
   ]
  },
  {
   "cell_type": "code",
   "execution_count": null,
   "metadata": {},
   "outputs": [
    {
     "name": "stdout",
     "output_type": "stream",
     "text": [
      "game continue\n",
      "False\n"
     ]
    }
   ],
   "source": [
    "print(game.board.checkEnd())"
   ]
  },
  {
   "cell_type": "code",
   "execution_count": null,
   "metadata": {},
   "outputs": [
    {
     "data": {
      "text/plain": [
       "{'id': '',\n",
       " 'name': '김도훈',\n",
       " 'role': 'saboteur',\n",
       " 'hand': [<card.Card at 0x114798ef0>,\n",
       "  <card.Card at 0x114741af0>,\n",
       "  <card.Card at 0x114799e50>,\n",
       "  <card.Card at 0x11479a2d0>,\n",
       "  <card.Card at 0x114799490>],\n",
       " 'gold': 0,\n",
       " 'limit': False,\n",
       " 'alive': True}"
      ]
     },
     "metadata": {},
     "output_type": "display_data"
    }
   ],
   "source": [
    "game.players[\"김도훈\"].__dict__"
   ]
  },
  {
   "cell_type": "code",
   "execution_count": null,
   "metadata": {},
   "outputs": [
    {
     "data": {
      "text/plain": [
       "<bound method Card.reversePathCard of <card.Card object at 0x1147416d0>>"
      ]
     },
     "metadata": {},
     "output_type": "display_data"
    }
   ],
   "source": [
    "game.players[\"이다미\"].hand[-1].reversePathCard"
   ]
  },
  {
   "cell_type": "code",
   "execution_count": null,
   "metadata": {},
   "outputs": [
    {
     "name": "stdout",
     "output_type": "stream",
     "text": [
      "4\n",
      "┏--┳--┓\n",
      "|  |  |\n",
      "┣--╋--┫\n",
      "|  |  |\n",
      "┕--┻--┚\n",
      "{'type': 'action', 'info': ('rockFail',)}\n",
      "┏--┳--┓\n",
      "|  |  |\n",
      "┣-- --┫\n",
      "|     |\n",
      "┕-----┚\n",
      "┏--┳--┓\n",
      "|  |  |\n",
      "|   --┫\n",
      "|     |\n",
      "┕-----┚\n",
      "┏--┳--┓\n",
      "|  |  |\n",
      "|  ┕--┫\n",
      "|     |\n",
      "┕-----┚\n"
     ]
    }
   ],
   "source": [
    "print(game.current_player)\n",
    "for i in game.players[\"이다미\"].hand:\n",
    "    if type(i.map)!=type(None):\n",
    "        for j in i.map:\n",
    "            for k in j:\n",
    "                print(k, end=\"\")\n",
    "            print()\n",
    "    else:\n",
    "        print(i.Info)"
   ]
  },
  {
   "cell_type": "code",
   "execution_count": null,
   "metadata": {},
   "outputs": [
    {
     "name": "stdout",
     "output_type": "stream",
     "text": [
      "action :  {'type': 'path', 'data': {'x': 10, 'y': 8, 'card': 3}}\n",
      "{'type': 'path', 'info': [(1, 2, 3, 4), False], 'map': array([['┏', '-', '-', '┳', '-', '-', '┓'],\n",
      "       ['|', ' ', ' ', '|', ' ', ' ', '|'],\n",
      "       ['┣', '-', '-', '╋', '-', '-', '┫'],\n",
      "       ['|', ' ', ' ', '|', ' ', ' ', '|'],\n",
      "       ['┕', '-', '-', '┻', '-', '-', '┚']], dtype='<U1')}\n",
      "Result :  True\n"
     ]
    },
    {
     "data": {
      "text/plain": [
       "[{'type': 'path', 'data': {'x': 10, 'y': 8, 'card': 3}},\n",
       " {'type': 'turn_change', 'data': 5}]"
      ]
     },
     "metadata": {},
     "output_type": "display_data"
    }
   ],
   "source": [
    "hand = 0 \n",
    "card = game.players[\"이다미\"].hand[hand].num\n",
    "game.action(4,{\"type\":\"path\",\"data\":{\"x\":10,\"y\":8,\"card\":card}})\n"
   ]
  },
  {
   "cell_type": "code",
   "execution_count": null,
   "metadata": {},
   "outputs": [
    {
     "name": "stdout",
     "output_type": "stream",
     "text": [
      "                                                                                                                                                                               \n",
      "                                                                                                                                                                               \n",
      "( 0, 0) ( 0, 1) ( 0, 2) ( 0, 3) ( 0, 4) ( 0, 5) ( 0, 6) ( 0, 7) ( 0, 8) ( 0, 9) ( 0,10) ( 0,11) ( 0,12) ( 0,13) ( 0,14) ( 0,15) ( 0,16) ( 0,17) ( 0,18) ( 0,19) ( 0,20) ( 0,21)\n",
      "                                                                                                                                                                               \n",
      "                                                                                                                                                                               \n",
      "                                                                                                                                                                               \n",
      "                                                                                                                                                                               \n",
      "( 1, 0) ( 1, 1) ( 1, 2) ( 1, 3) ( 1, 4) ( 1, 5) ( 1, 6) ( 1, 7) ( 1, 8) ( 1, 9) ( 1,10) ( 1,11) ( 1,12) ( 1,13) ( 1,14) ( 1,15) ( 1,16) ( 1,17) ( 1,18) ( 1,19) ( 1,20) ( 1,21)\n",
      "                                                                                                                                                                               \n",
      "                                                                                                                                                                               \n",
      "                                                                                                                                                                               \n",
      "                                                                                                                                                                               \n",
      "( 2, 0) ( 2, 1) ( 2, 2) ( 2, 3) ( 2, 4) ( 2, 5) ( 2, 6) ( 2, 7) ( 2, 8) ( 2, 9) ( 2,10) ( 2,11) ( 2,12) ( 2,13) ( 2,14) ( 2,15) ( 2,16) ( 2,17) ( 2,18) ( 2,19) ( 2,20) ( 2,21)\n",
      "                                                                                                                                                                               \n",
      "                                                                                                                                                                               \n",
      "                                                                                                                                                                               \n",
      "                                                                                                                                                                               \n",
      "( 3, 0) ( 3, 1) ( 3, 2) ( 3, 3) ( 3, 4) ( 3, 5) ( 3, 6) ( 3, 7) ( 3, 8) ( 3, 9) ( 3,10) ( 3,11) ( 3,12) ( 3,13) ( 3,14) ( 3,15) ( 3,16) ( 3,17) ( 3,18) ( 3,19) ( 3,20) ( 3,21)\n",
      "                                                                                                                                                                               \n",
      "                                                                                                                                                                               \n",
      "                                                                                                                                                                               \n",
      "                                                                                                                                                                               \n",
      "( 4, 0) ( 4, 1) ( 4, 2) ( 4, 3) ( 4, 4) ( 4, 5) ( 4, 6) ( 4, 7) ( 4, 8) ( 4, 9) ( 4,10) ( 4,11) ( 4,12) ( 4,13) ( 4,14) ( 4,15) ( 4,16) ( 4,17) ( 4,18) ( 4,19) ( 4,20) ( 4,21)\n",
      "                                                                                                                                                                               \n",
      "                                                                                                                                                                               \n",
      "                                                                                                                                                                               \n",
      "                                                                                                                                                                               \n",
      "( 5, 0) ( 5, 1) ( 5, 2) ( 5, 3) ( 5, 4) ( 5, 5) ( 5, 6) ( 5, 7) ( 5, 8) ( 5, 9) ( 5,10) ( 5,11) ( 5,12) ( 5,13) ( 5,14) ( 5,15) ( 5,16) ( 5,17) ( 5,18) ( 5,19) ( 5,20) ( 5,21)\n",
      "                                                                                                                                                                               \n",
      "                                                                                                                                                                               \n",
      "                                                                                                                                                                               \n",
      "                                                                                                                                                                               \n",
      "( 6, 0) ( 6, 1) ( 6, 2) ( 6, 3) ( 6, 4) ( 6, 5) ( 6, 6) ( 6, 7) ( 6, 8) ( 6, 9) ( 6,10) ( 6,11) ( 6,12) ( 6,13) ( 6,14) ( 6,15) ( 6,16) ( 6,17) ( 6,18) ( 6,19) ( 6,20) ( 6,21)\n",
      "                                                                                                                                                                               \n",
      "                                                                                                                                                                               \n",
      "                                                                                                                                                                               \n",
      "                                                                                                                                                                               \n",
      "( 7, 0) ( 7, 1) ( 7, 2) ( 7, 3) ( 7, 4) ( 7, 5) ( 7, 6) ( 7, 7) ( 7, 8) ( 7, 9) ( 7,10) ( 7,11) ( 7,12) ( 7,13) ( 7,14) ( 7,15) ( 7,16) ( 7,17) ( 7,18) ( 7,19) ( 7,20) ( 7,21)\n",
      "                                                                                                                                                                               \n",
      "                                                                                                                                                                               \n",
      "                                                                                                        ┏-----┓                                                                \n",
      "                                                                                                        |#####|                                                                \n",
      "( 8, 0) ( 8, 1) ( 8, 2) ( 8, 3) ( 8, 4) ( 8, 5) ( 8, 6) ( 8, 7) ( 8, 8) ( 8, 9) ( 8,10) ( 8,11) ( 8,12) |#####| ( 8,14) ( 8,15) ( 8,16) ( 8,17) ( 8,18) ( 8,19) ( 8,20) ( 8,21)\n",
      "                                                                                                        |hiden|                                                                \n",
      "                                                                                                        ┕-----┚                                                                \n",
      "                                                                                                                                                                               \n",
      "                                                                                                                                                                               \n",
      "( 9, 0) ( 9, 1) ( 9, 2) ( 9, 3) ( 9, 4) ( 9, 5) ( 9, 6) ( 9, 7) ( 9, 8) ( 9, 9) ( 9,10) ( 9,11) ( 9,12) ( 9,13) ( 9,14) ( 9,15) ( 9,16) ( 9,17) ( 9,18) ( 9,19) ( 9,20) ( 9,21)\n",
      "                                                                                                                                                                               \n",
      "                                                                                                                                                                               \n",
      "                                        ┏--┳--┓ ┏--┳--┓ ┏--┳--┓ ┏--┳--┓                                 ┏--┳--┓                                                                \n",
      "                                        |##|##| |  |  | |  |  | |  |  |                                 |  |##|                                                                \n",
      "(10, 0) (10, 1) (10, 2) (10, 3) (10, 4) ┣--╋--┫ ┣--╋--┫ ┣--╋--┫ ┣--╋--┫ (10, 9) (10,10) (10,11) (10,12) |  ┕--┫ (10,14) (10,15) (10,16) (10,17) (10,18) (10,19) (10,20) (10,21)\n",
      "                                        |##|##| |  |  | |  |  | |  |  |                                 |hiden|                                                                \n",
      "                                        ┕--┻--┚ ┕--┻--┚ ┕--┻--┚ ┕--┻--┚                                 ┕-----┚                                                                \n",
      "                                                ┏--┳--┓                                                                                                                        \n",
      "                                                |  |  |                                                                                                                        \n",
      "(11, 0) (11, 1) (11, 2) (11, 3) (11, 4) (11, 5) ┣--╋--┫ (11, 7) (11, 8) (11, 9) (11,10) (11,11) (11,12) (11,13) (11,14) (11,15) (11,16) (11,17) (11,18) (11,19) (11,20) (11,21)\n",
      "                                                |  |  |                                                                                                                        \n",
      "                                                ┕--┻--┚                                                                                                                        \n",
      "                                                                                                        ┏--┳--┓                                                                \n",
      "                                                                                                        |  |##|                                                                \n",
      "(12, 0) (12, 1) (12, 2) (12, 3) (12, 4) (12, 5) (12, 6) (12, 7) (12, 8) (12, 9) (12,10) (12,11) (12,12) |  ┕--┫ (12,14) (12,15) (12,16) (12,17) (12,18) (12,19) (12,20) (12,21)\n",
      "                                                                                                        |hiden|                                                                \n",
      "                                                                                                        ┕-----┚                                                                \n",
      "                                                                                                                                                                               \n",
      "                                                                                                                                                                               \n",
      "(13, 0) (13, 1) (13, 2) (13, 3) (13, 4) (13, 5) (13, 6) (13, 7) (13, 8) (13, 9) (13,10) (13,11) (13,12) (13,13) (13,14) (13,15) (13,16) (13,17) (13,18) (13,19) (13,20) (13,21)\n",
      "                                                                                                                                                                               \n",
      "                                                                                                                                                                               \n",
      "                                                                                                                                                                               \n",
      "                                                                                                                                                                               \n",
      "(14, 0) (14, 1) (14, 2) (14, 3) (14, 4) (14, 5) (14, 6) (14, 7) (14, 8) (14, 9) (14,10) (14,11) (14,12) (14,13) (14,14) (14,15) (14,16) (14,17) (14,18) (14,19) (14,20) (14,21)\n",
      "                                                                                                                                                                               \n",
      "                                                                                                                                                                               \n",
      "                                                                                                                                                                               \n",
      "                                                                                                                                                                               \n",
      "(15, 0) (15, 1) (15, 2) (15, 3) (15, 4) (15, 5) (15, 6) (15, 7) (15, 8) (15, 9) (15,10) (15,11) (15,12) (15,13) (15,14) (15,15) (15,16) (15,17) (15,18) (15,19) (15,20) (15,21)\n",
      "                                                                                                                                                                               \n",
      "                                                                                                                                                                               \n",
      "                                                                                                                                                                               \n",
      "                                                                                                                                                                               \n",
      "(16, 0) (16, 1) (16, 2) (16, 3) (16, 4) (16, 5) (16, 6) (16, 7) (16, 8) (16, 9) (16,10) (16,11) (16,12) (16,13) (16,14) (16,15) (16,16) (16,17) (16,18) (16,19) (16,20) (16,21)\n",
      "                                                                                                                                                                               \n",
      "                                                                                                                                                                               \n",
      "                                                                                                                                                                               \n",
      "                                                                                                                                                                               \n",
      "(17, 0) (17, 1) (17, 2) (17, 3) (17, 4) (17, 5) (17, 6) (17, 7) (17, 8) (17, 9) (17,10) (17,11) (17,12) (17,13) (17,14) (17,15) (17,16) (17,17) (17,18) (17,19) (17,20) (17,21)\n",
      "                                                                                                                                                                               \n",
      "                                                                                                                                                                               \n",
      "                                                                                                                                                                               \n",
      "                                                                                                                                                                               \n",
      "(18, 0) (18, 1) (18, 2) (18, 3) (18, 4) (18, 5) (18, 6) (18, 7) (18, 8) (18, 9) (18,10) (18,11) (18,12) (18,13) (18,14) (18,15) (18,16) (18,17) (18,18) (18,19) (18,20) (18,21)\n",
      "                                                                                                                                                                               \n",
      "                                                                                                                                                                               \n",
      "                                                                                                                                                                               \n",
      "                                                                                                                                                                               \n",
      "(19, 0) (19, 1) (19, 2) (19, 3) (19, 4) (19, 5) (19, 6) (19, 7) (19, 8) (19, 9) (19,10) (19,11) (19,12) (19,13) (19,14) (19,15) (19,16) (19,17) (19,18) (19,19) (19,20) (19,21)\n",
      "                                                                                                                                                                               \n",
      "                                                                                                                                                                               \n",
      "                                                                                                                                                                               \n",
      "                                                                                                                                                                               \n",
      "(20, 0) (20, 1) (20, 2) (20, 3) (20, 4) (20, 5) (20, 6) (20, 7) (20, 8) (20, 9) (20,10) (20,11) (20,12) (20,13) (20,14) (20,15) (20,16) (20,17) (20,18) (20,19) (20,20) (20,21)\n",
      "                                                                                                                                                                               \n",
      "                                                                                                                                                                               \n",
      "                                                                                                                                                                               \n",
      "                                                                                                                                                                               \n",
      "(21, 0) (21, 1) (21, 2) (21, 3) (21, 4) (21, 5) (21, 6) (21, 7) (21, 8) (21, 9) (21,10) (21,11) (21,12) (21,13) (21,14) (21,15) (21,16) (21,17) (21,18) (21,19) (21,20) (21,21)\n",
      "                                                                                                                                                                               \n",
      "                                                                                                                                                                               \n"
     ]
    }
   ],
   "source": [
    "game.board.showBoard()"
   ]
  },
  {
   "cell_type": "markdown",
   "metadata": {},
   "source": []
  },
  {
   "cell_type": "code",
   "execution_count": null,
   "metadata": {},
   "outputs": [
    {
     "data": {
      "text/plain": [
       "True"
      ]
     },
     "metadata": {},
     "output_type": "display_data"
    }
   ],
   "source": [
    "game.board.addCard(3,10,6)\n",
    "game.board.addCard(3,10,7)\n",
    "game.board.addCard(3,10,8)\n",
    "game.board.addCard(3,10,9)\n",
    "game.board.addCard(3,10,10)\n",
    "game.board.addCard(3,10,11)\n",
    "game.board.addCard(3,10,12)\n",
    "# game.board.addCard(3,9,12)\n",
    "# game.board.addCard(3,8,12)\n",
    "game.board.addCard(3,11,12)\n",
    "game.board.addCard(3,12,12)"
   ]
  },
  {
   "cell_type": "code",
   "execution_count": null,
   "metadata": {},
   "outputs": [],
   "source": [
    "# 손서진 200666299465"
   ]
  }
 ],
 "metadata": {
  "kernelspec": {
   "display_name": ".venv",
   "language": "python",
   "name": "python3"
  },
  "language_info": {
   "codemirror_mode": {
    "name": "ipython",
    "version": 3
   },
   "file_extension": ".py",
   "mimetype": "text/x-python",
   "name": "python",
   "nbconvert_exporter": "python",
   "pygments_lexer": "ipython3",
   "version": "3.13.1"
  }
 },
 "nbformat": 4,
 "nbformat_minor": 2
}
