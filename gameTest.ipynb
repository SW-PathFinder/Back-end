{
 "cells": [
  {
   "cell_type": "code",
   "execution_count": 5,
   "metadata": {},
   "outputs": [
    {
     "name": "stdout",
     "output_type": "stream",
     "text": [
      "home: (10, 5), gold: (10, 13), rock: [(12, 13), (8, 13)]\n",
      "게임이 시작되었습니다.\n",
      "현재 플레이어: 김도훈\n",
      "현재플레이어 핸드 : []\n",
      "{'id': '', 'name': '김도훈', 'role': 'worker', 'hand': [], 'gold': 0, 'limit': {'mineCart': False, 'pickaxe': False, 'lantern': False}, 'alive': True}\n",
      "게임 시작\n",
      "Board reset\n",
      "home: (10, 5), gold: (8, 13), rock: [(12, 13), (10, 13)]\n",
      "라운드 1이 시작됩니다.\n"
     ]
    },
    {
     "data": {
      "text/plain": [
       "[{'player': '김도훈',\n",
       "  'target': '김도훈',\n",
       "  'type': 'roundStart',\n",
       "  'data': {'hand': [(18, 'lantern'),\n",
       "    (4, False),\n",
       "    (26, 'viewMap'),\n",
       "    (9, False),\n",
       "    (22, ['pickaxe']),\n",
       "    (9, False)],\n",
       "   'role': 'worker',\n",
       "   'currnetRound': 1}},\n",
       " {'player': '김도훈',\n",
       "  'target': '김재훈',\n",
       "  'type': 'roundStart',\n",
       "  'data': {'hand': [(1, False),\n",
       "    (8, False),\n",
       "    (13, False),\n",
       "    (21, ['lantern']),\n",
       "    (12, False),\n",
       "    (7, False)],\n",
       "   'role': 'worker',\n",
       "   'currnetRound': 1}},\n",
       " {'player': '김도훈',\n",
       "  'target': '조남훈',\n",
       "  'type': 'roundStart',\n",
       "  'data': {'hand': [(13, False),\n",
       "    (4, False),\n",
       "    (17, 'mineCart'),\n",
       "    (14, False),\n",
       "    (1, False),\n",
       "    (5, False)],\n",
       "   'role': 'worker',\n",
       "   'currnetRound': 1}},\n",
       " {'player': '김도훈',\n",
       "  'target': '김두현',\n",
       "  'type': 'roundStart',\n",
       "  'data': {'hand': [(2, False),\n",
       "    (20, ['mineCart']),\n",
       "    (26, 'viewMap'),\n",
       "    (12, False),\n",
       "    (4, False),\n",
       "    (6, False)],\n",
       "   'role': 'saboteur',\n",
       "   'currnetRound': 1}},\n",
       " {'player': '김도훈', 'target': 'all', 'type': 'turn_change', 'data': '김도훈'}]"
      ]
     },
     "execution_count": 5,
     "metadata": {},
     "output_type": "execute_result"
    }
   ],
   "source": [
    "import importlib\n",
    "import apps.logic.game as sabo\n",
    "import apps.logic.board as board\n",
    "from apps.logic.card import Card\n",
    "def show_hand():\n",
    "    print(f\"current player : {game.currentPlayer} {game.players[game.currentPlayer].limit}\")\n",
    "    for index,i in enumerate(game.players[game.currentPlayer].hand):\n",
    "        print(f\"{index} : {i}\")\n",
    "        if i.type == \"path\":\n",
    "            for j in i.map:\n",
    "                for k in j:\n",
    "                    print(k, end=\"\")\n",
    "                print()\n",
    "        else:\n",
    "            print(\"type : \",i.Info[\"type\"])\n",
    "            print(\"info : \",i.Info[\"info\"])\n",
    "\n",
    "importlib.reload(sabo)\n",
    "importlib.reload(board)\n",
    "\n",
    "\n",
    "game = sabo.Game()\n",
    "game.addPlayer(\"김도훈\")\n",
    "game.addPlayer(\"김재훈\")\n",
    "game.addPlayer(\"김두현\")\n",
    "# game.addPlayer(\"송하영\")\n",
    "# game.addPlayer(\"이다미\")\n",
    "game.addPlayer(\"조남훈\")\n",
    "game.startGame()\n",
    "# game.roundStart()\n",
    "game.action(\"all\",\"roundStart\")\n",
    "# print(game.cards)"
   ]
  },
  {
   "cell_type": "code",
   "execution_count": 2,
   "metadata": {},
   "outputs": [
    {
     "name": "stdout",
     "output_type": "stream",
     "text": [
      "[<apps.logic.card.Card object at 0x000002DA79156AD0>, <apps.logic.card.Card object at 0x000002DA79157550>, <apps.logic.card.Card object at 0x000002DA79161250>, <apps.logic.card.Card object at 0x000002DA791619D0>, <apps.logic.card.Card object at 0x000002DA791495D0>, <apps.logic.card.Card object at 0x000002DA79156350>]\n",
      "action :  {'type': 'discard', 'data': {'handNum': 0}}\n",
      "game continue\n",
      "59\n",
      "[<apps.logic.card.Card object at 0x000002DA791616D0>, <apps.logic.card.Card object at 0x000002DA79154E50>, <apps.logic.card.Card object at 0x000002DA79148FD0>, <apps.logic.card.Card object at 0x000002DA79149A50>, <apps.logic.card.Card object at 0x000002DA791610D0>, <apps.logic.card.Card object at 0x000002DA79148950>]\n",
      "action :  {'type': 'discard', 'data': {'handNum': 0}}\n",
      "game continue\n",
      "58\n",
      "[<apps.logic.card.Card object at 0x000002DA79154850>, <apps.logic.card.Card object at 0x000002DA79154550>, <apps.logic.card.Card object at 0x000002DA79148650>, <apps.logic.card.Card object at 0x000002DA79157850>, <apps.logic.card.Card object at 0x000002DA79149450>, <apps.logic.card.Card object at 0x000002DA791564D0>]\n",
      "action :  {'type': 'discard', 'data': {'handNum': 0}}\n",
      "game continue\n",
      "57\n",
      "[<apps.logic.card.Card object at 0x000002DA791546D0>, <apps.logic.card.Card object at 0x000002DA79160050>, <apps.logic.card.Card object at 0x000002DA79148C50>, <apps.logic.card.Card object at 0x000002DA791567D0>, <apps.logic.card.Card object at 0x000002DA79160DD0>, <apps.logic.card.Card object at 0x000002DA791579D0>]\n",
      "action :  {'type': 'discard', 'data': {'handNum': 0}}\n",
      "game continue\n",
      "56\n",
      "[<apps.logic.card.Card object at 0x000002DA79157550>, <apps.logic.card.Card object at 0x000002DA79161250>, <apps.logic.card.Card object at 0x000002DA791619D0>, <apps.logic.card.Card object at 0x000002DA791495D0>, <apps.logic.card.Card object at 0x000002DA79156350>, <apps.logic.card.Card object at 0x000002DA791607D0>]\n",
      "action :  {'type': 'discard', 'data': {'handNum': 0}}\n",
      "game continue\n",
      "55\n",
      "[<apps.logic.card.Card object at 0x000002DA79154E50>, <apps.logic.card.Card object at 0x000002DA79148FD0>, <apps.logic.card.Card object at 0x000002DA79149A50>, <apps.logic.card.Card object at 0x000002DA791610D0>, <apps.logic.card.Card object at 0x000002DA79148950>, <apps.logic.card.Card object at 0x000002DA79157250>]\n",
      "action :  {'type': 'discard', 'data': {'handNum': 0}}\n",
      "game continue\n",
      "54\n",
      "[<apps.logic.card.Card object at 0x000002DA79154550>, <apps.logic.card.Card object at 0x000002DA79148650>, <apps.logic.card.Card object at 0x000002DA79157850>, <apps.logic.card.Card object at 0x000002DA79149450>, <apps.logic.card.Card object at 0x000002DA791564D0>, <apps.logic.card.Card object at 0x000002DA79156050>]\n",
      "action :  {'type': 'discard', 'data': {'handNum': 0}}\n",
      "game continue\n",
      "53\n",
      "[<apps.logic.card.Card object at 0x000002DA79160050>, <apps.logic.card.Card object at 0x000002DA79148C50>, <apps.logic.card.Card object at 0x000002DA791567D0>, <apps.logic.card.Card object at 0x000002DA79160DD0>, <apps.logic.card.Card object at 0x000002DA791579D0>, <apps.logic.card.Card object at 0x000002DA791487D0>]\n",
      "action :  {'type': 'discard', 'data': {'handNum': 0}}\n",
      "game continue\n",
      "52\n",
      "[<apps.logic.card.Card object at 0x000002DA79161250>, <apps.logic.card.Card object at 0x000002DA791619D0>, <apps.logic.card.Card object at 0x000002DA791495D0>, <apps.logic.card.Card object at 0x000002DA79156350>, <apps.logic.card.Card object at 0x000002DA791607D0>, <apps.logic.card.Card object at 0x000002DA79160C50>]\n",
      "action :  {'type': 'discard', 'data': {'handNum': 0}}\n",
      "game continue\n",
      "51\n",
      "[<apps.logic.card.Card object at 0x000002DA79148FD0>, <apps.logic.card.Card object at 0x000002DA79149A50>, <apps.logic.card.Card object at 0x000002DA791610D0>, <apps.logic.card.Card object at 0x000002DA79148950>, <apps.logic.card.Card object at 0x000002DA79157250>, <apps.logic.card.Card object at 0x000002DA791601D0>]\n",
      "action :  {'type': 'discard', 'data': {'handNum': 0}}\n",
      "game continue\n",
      "50\n",
      "[<apps.logic.card.Card object at 0x000002DA79148650>, <apps.logic.card.Card object at 0x000002DA79157850>, <apps.logic.card.Card object at 0x000002DA79149450>, <apps.logic.card.Card object at 0x000002DA791564D0>, <apps.logic.card.Card object at 0x000002DA79156050>, <apps.logic.card.Card object at 0x000002DA79160AD0>]\n",
      "action :  {'type': 'discard', 'data': {'handNum': 0}}\n",
      "game continue\n",
      "49\n",
      "[<apps.logic.card.Card object at 0x000002DA79148C50>, <apps.logic.card.Card object at 0x000002DA791567D0>, <apps.logic.card.Card object at 0x000002DA79160DD0>, <apps.logic.card.Card object at 0x000002DA791579D0>, <apps.logic.card.Card object at 0x000002DA791487D0>, <apps.logic.card.Card object at 0x000002DA791561D0>]\n",
      "action :  {'type': 'discard', 'data': {'handNum': 0}}\n",
      "game continue\n",
      "48\n",
      "[<apps.logic.card.Card object at 0x000002DA791619D0>, <apps.logic.card.Card object at 0x000002DA791495D0>, <apps.logic.card.Card object at 0x000002DA79156350>, <apps.logic.card.Card object at 0x000002DA791607D0>, <apps.logic.card.Card object at 0x000002DA79160C50>, <apps.logic.card.Card object at 0x000002DA79155A50>]\n",
      "action :  {'type': 'discard', 'data': {'handNum': 0}}\n",
      "game continue\n",
      "47\n",
      "[<apps.logic.card.Card object at 0x000002DA79149A50>, <apps.logic.card.Card object at 0x000002DA791610D0>, <apps.logic.card.Card object at 0x000002DA79148950>, <apps.logic.card.Card object at 0x000002DA79157250>, <apps.logic.card.Card object at 0x000002DA791601D0>, <apps.logic.card.Card object at 0x000002DA79162150>]\n",
      "action :  {'type': 'discard', 'data': {'handNum': 0}}\n",
      "game continue\n",
      "46\n",
      "[<apps.logic.card.Card object at 0x000002DA79157850>, <apps.logic.card.Card object at 0x000002DA79149450>, <apps.logic.card.Card object at 0x000002DA791564D0>, <apps.logic.card.Card object at 0x000002DA79156050>, <apps.logic.card.Card object at 0x000002DA79160AD0>, <apps.logic.card.Card object at 0x000002DA791480D0>]\n",
      "action :  {'type': 'discard', 'data': {'handNum': 0}}\n",
      "game continue\n",
      "45\n",
      "[<apps.logic.card.Card object at 0x000002DA791567D0>, <apps.logic.card.Card object at 0x000002DA79160DD0>, <apps.logic.card.Card object at 0x000002DA791579D0>, <apps.logic.card.Card object at 0x000002DA791487D0>, <apps.logic.card.Card object at 0x000002DA791561D0>, <apps.logic.card.Card object at 0x000002DA791549D0>]\n",
      "action :  {'type': 'discard', 'data': {'handNum': 0}}\n",
      "game continue\n",
      "44\n",
      "[<apps.logic.card.Card object at 0x000002DA791495D0>, <apps.logic.card.Card object at 0x000002DA79156350>, <apps.logic.card.Card object at 0x000002DA791607D0>, <apps.logic.card.Card object at 0x000002DA79160C50>, <apps.logic.card.Card object at 0x000002DA79155A50>, <apps.logic.card.Card object at 0x000002DA79160950>]\n",
      "action :  {'type': 'discard', 'data': {'handNum': 0}}\n",
      "game continue\n",
      "43\n",
      "[<apps.logic.card.Card object at 0x000002DA791610D0>, <apps.logic.card.Card object at 0x000002DA79148950>, <apps.logic.card.Card object at 0x000002DA79157250>, <apps.logic.card.Card object at 0x000002DA791601D0>, <apps.logic.card.Card object at 0x000002DA79162150>, <apps.logic.card.Card object at 0x000002DA79155BD0>]\n",
      "action :  {'type': 'discard', 'data': {'handNum': 0}}\n",
      "game continue\n",
      "42\n",
      "[<apps.logic.card.Card object at 0x000002DA79149450>, <apps.logic.card.Card object at 0x000002DA791564D0>, <apps.logic.card.Card object at 0x000002DA79156050>, <apps.logic.card.Card object at 0x000002DA79160AD0>, <apps.logic.card.Card object at 0x000002DA791480D0>, <apps.logic.card.Card object at 0x000002DA79155ED0>]\n",
      "action :  {'type': 'discard', 'data': {'handNum': 0}}\n",
      "game continue\n",
      "41\n",
      "[<apps.logic.card.Card object at 0x000002DA79160DD0>, <apps.logic.card.Card object at 0x000002DA791579D0>, <apps.logic.card.Card object at 0x000002DA791487D0>, <apps.logic.card.Card object at 0x000002DA791561D0>, <apps.logic.card.Card object at 0x000002DA791549D0>, <apps.logic.card.Card object at 0x000002DA79155450>]\n",
      "action :  {'type': 'discard', 'data': {'handNum': 0}}\n",
      "game continue\n",
      "40\n",
      "[<apps.logic.card.Card object at 0x000002DA79156350>, <apps.logic.card.Card object at 0x000002DA791607D0>, <apps.logic.card.Card object at 0x000002DA79160C50>, <apps.logic.card.Card object at 0x000002DA79155A50>, <apps.logic.card.Card object at 0x000002DA79160950>, <apps.logic.card.Card object at 0x000002DA791573D0>]\n",
      "action :  {'type': 'discard', 'data': {'handNum': 0}}\n",
      "game continue\n",
      "39\n",
      "[<apps.logic.card.Card object at 0x000002DA79148950>, <apps.logic.card.Card object at 0x000002DA79157250>, <apps.logic.card.Card object at 0x000002DA791601D0>, <apps.logic.card.Card object at 0x000002DA79162150>, <apps.logic.card.Card object at 0x000002DA79155BD0>, <apps.logic.card.Card object at 0x000002DA79156650>]\n",
      "action :  {'type': 'discard', 'data': {'handNum': 0}}\n",
      "game continue\n",
      "38\n",
      "[<apps.logic.card.Card object at 0x000002DA791564D0>, <apps.logic.card.Card object at 0x000002DA79156050>, <apps.logic.card.Card object at 0x000002DA79160AD0>, <apps.logic.card.Card object at 0x000002DA791480D0>, <apps.logic.card.Card object at 0x000002DA79155ED0>, <apps.logic.card.Card object at 0x000002DA79161E50>]\n",
      "action :  {'type': 'discard', 'data': {'handNum': 0}}\n",
      "game continue\n",
      "37\n",
      "[<apps.logic.card.Card object at 0x000002DA791579D0>, <apps.logic.card.Card object at 0x000002DA791487D0>, <apps.logic.card.Card object at 0x000002DA791561D0>, <apps.logic.card.Card object at 0x000002DA791549D0>, <apps.logic.card.Card object at 0x000002DA79155450>, <apps.logic.card.Card object at 0x000002DA79149150>]\n",
      "action :  {'type': 'discard', 'data': {'handNum': 0}}\n",
      "game continue\n",
      "36\n",
      "[<apps.logic.card.Card object at 0x000002DA791607D0>, <apps.logic.card.Card object at 0x000002DA79160C50>, <apps.logic.card.Card object at 0x000002DA79155A50>, <apps.logic.card.Card object at 0x000002DA79160950>, <apps.logic.card.Card object at 0x000002DA791573D0>, <apps.logic.card.Card object at 0x000002DA79155750>]\n",
      "action :  {'type': 'discard', 'data': {'handNum': 0}}\n",
      "game continue\n",
      "35\n",
      "[<apps.logic.card.Card object at 0x000002DA79157250>, <apps.logic.card.Card object at 0x000002DA791601D0>, <apps.logic.card.Card object at 0x000002DA79162150>, <apps.logic.card.Card object at 0x000002DA79155BD0>, <apps.logic.card.Card object at 0x000002DA79156650>, <apps.logic.card.Card object at 0x000002DA791492D0>]\n",
      "action :  {'type': 'discard', 'data': {'handNum': 0}}\n",
      "game continue\n",
      "34\n",
      "[<apps.logic.card.Card object at 0x000002DA79156050>, <apps.logic.card.Card object at 0x000002DA79160AD0>, <apps.logic.card.Card object at 0x000002DA791480D0>, <apps.logic.card.Card object at 0x000002DA79155ED0>, <apps.logic.card.Card object at 0x000002DA79161E50>, <apps.logic.card.Card object at 0x000002DA79149750>]\n",
      "action :  {'type': 'discard', 'data': {'handNum': 0}}\n",
      "game continue\n",
      "33\n",
      "[<apps.logic.card.Card object at 0x000002DA791487D0>, <apps.logic.card.Card object at 0x000002DA791561D0>, <apps.logic.card.Card object at 0x000002DA791549D0>, <apps.logic.card.Card object at 0x000002DA79155450>, <apps.logic.card.Card object at 0x000002DA79149150>, <apps.logic.card.Card object at 0x000002DA791558D0>]\n",
      "action :  {'type': 'discard', 'data': {'handNum': 0}}\n",
      "game continue\n",
      "32\n",
      "[<apps.logic.card.Card object at 0x000002DA79160C50>, <apps.logic.card.Card object at 0x000002DA79155A50>, <apps.logic.card.Card object at 0x000002DA79160950>, <apps.logic.card.Card object at 0x000002DA791573D0>, <apps.logic.card.Card object at 0x000002DA79155750>, <apps.logic.card.Card object at 0x000002DA791543D0>]\n",
      "action :  {'type': 'discard', 'data': {'handNum': 0}}\n",
      "game continue\n",
      "31\n",
      "[<apps.logic.card.Card object at 0x000002DA791601D0>, <apps.logic.card.Card object at 0x000002DA79162150>, <apps.logic.card.Card object at 0x000002DA79155BD0>, <apps.logic.card.Card object at 0x000002DA79156650>, <apps.logic.card.Card object at 0x000002DA791492D0>, <apps.logic.card.Card object at 0x000002DA791552D0>]\n",
      "action :  {'type': 'discard', 'data': {'handNum': 0}}\n",
      "game continue\n",
      "30\n",
      "[<apps.logic.card.Card object at 0x000002DA79160AD0>, <apps.logic.card.Card object at 0x000002DA791480D0>, <apps.logic.card.Card object at 0x000002DA79155ED0>, <apps.logic.card.Card object at 0x000002DA79161E50>, <apps.logic.card.Card object at 0x000002DA79149750>, <apps.logic.card.Card object at 0x000002DA79157E50>]\n",
      "action :  {'type': 'discard', 'data': {'handNum': 0}}\n",
      "game continue\n",
      "29\n",
      "[<apps.logic.card.Card object at 0x000002DA791561D0>, <apps.logic.card.Card object at 0x000002DA791549D0>, <apps.logic.card.Card object at 0x000002DA79155450>, <apps.logic.card.Card object at 0x000002DA79149150>, <apps.logic.card.Card object at 0x000002DA791558D0>, <apps.logic.card.Card object at 0x000002DA79161FD0>]\n",
      "action :  {'type': 'discard', 'data': {'handNum': 0}}\n",
      "game continue\n",
      "28\n",
      "[<apps.logic.card.Card object at 0x000002DA79155A50>, <apps.logic.card.Card object at 0x000002DA79160950>, <apps.logic.card.Card object at 0x000002DA791573D0>, <apps.logic.card.Card object at 0x000002DA79155750>, <apps.logic.card.Card object at 0x000002DA791543D0>, <apps.logic.card.Card object at 0x000002DA7911B5D0>]\n",
      "action :  {'type': 'discard', 'data': {'handNum': 0}}\n",
      "game continue\n",
      "27\n",
      "[<apps.logic.card.Card object at 0x000002DA79162150>, <apps.logic.card.Card object at 0x000002DA79155BD0>, <apps.logic.card.Card object at 0x000002DA79156650>, <apps.logic.card.Card object at 0x000002DA791492D0>, <apps.logic.card.Card object at 0x000002DA791552D0>, <apps.logic.card.Card object at 0x000002DA79154B50>]\n",
      "action :  {'type': 'discard', 'data': {'handNum': 0}}\n",
      "game continue\n",
      "26\n",
      "[<apps.logic.card.Card object at 0x000002DA791480D0>, <apps.logic.card.Card object at 0x000002DA79155ED0>, <apps.logic.card.Card object at 0x000002DA79161E50>, <apps.logic.card.Card object at 0x000002DA79149750>, <apps.logic.card.Card object at 0x000002DA79157E50>, <apps.logic.card.Card object at 0x000002DA79155150>]\n",
      "action :  {'type': 'discard', 'data': {'handNum': 0}}\n",
      "game continue\n",
      "25\n",
      "[<apps.logic.card.Card object at 0x000002DA791549D0>, <apps.logic.card.Card object at 0x000002DA79155450>, <apps.logic.card.Card object at 0x000002DA79149150>, <apps.logic.card.Card object at 0x000002DA791558D0>, <apps.logic.card.Card object at 0x000002DA79161FD0>, <apps.logic.card.Card object at 0x000002DA791576D0>]\n",
      "action :  {'type': 'discard', 'data': {'handNum': 0}}\n",
      "game continue\n",
      "24\n",
      "[<apps.logic.card.Card object at 0x000002DA79160950>, <apps.logic.card.Card object at 0x000002DA791573D0>, <apps.logic.card.Card object at 0x000002DA79155750>, <apps.logic.card.Card object at 0x000002DA791543D0>, <apps.logic.card.Card object at 0x000002DA7911B5D0>, <apps.logic.card.Card object at 0x000002DA791540D0>]\n",
      "action :  {'type': 'discard', 'data': {'handNum': 0}}\n",
      "game continue\n",
      "23\n",
      "[<apps.logic.card.Card object at 0x000002DA79155BD0>, <apps.logic.card.Card object at 0x000002DA79156650>, <apps.logic.card.Card object at 0x000002DA791492D0>, <apps.logic.card.Card object at 0x000002DA791552D0>, <apps.logic.card.Card object at 0x000002DA79154B50>, <apps.logic.card.Card object at 0x000002DA79148350>]\n",
      "action :  {'type': 'discard', 'data': {'handNum': 0}}\n",
      "game continue\n",
      "22\n",
      "[<apps.logic.card.Card object at 0x000002DA79155ED0>, <apps.logic.card.Card object at 0x000002DA79161E50>, <apps.logic.card.Card object at 0x000002DA79149750>, <apps.logic.card.Card object at 0x000002DA79157E50>, <apps.logic.card.Card object at 0x000002DA79155150>, <apps.logic.card.Card object at 0x000002DA79160350>]\n",
      "action :  {'type': 'discard', 'data': {'handNum': 0}}\n",
      "game continue\n",
      "21\n",
      "[<apps.logic.card.Card object at 0x000002DA79155450>, <apps.logic.card.Card object at 0x000002DA79149150>, <apps.logic.card.Card object at 0x000002DA791558D0>, <apps.logic.card.Card object at 0x000002DA79161FD0>, <apps.logic.card.Card object at 0x000002DA791576D0>, <apps.logic.card.Card object at 0x000002DA79156C50>]\n",
      "action :  {'type': 'discard', 'data': {'handNum': 0}}\n",
      "game continue\n",
      "20\n",
      "[<apps.logic.card.Card object at 0x000002DA791573D0>, <apps.logic.card.Card object at 0x000002DA79155750>, <apps.logic.card.Card object at 0x000002DA791543D0>, <apps.logic.card.Card object at 0x000002DA7911B5D0>, <apps.logic.card.Card object at 0x000002DA791540D0>, <apps.logic.card.Card object at 0x000002DA79156DD0>]\n",
      "action :  {'type': 'discard', 'data': {'handNum': 0}}\n",
      "game continue\n",
      "19\n",
      "[<apps.logic.card.Card object at 0x000002DA79156650>, <apps.logic.card.Card object at 0x000002DA791492D0>, <apps.logic.card.Card object at 0x000002DA791552D0>, <apps.logic.card.Card object at 0x000002DA79154B50>, <apps.logic.card.Card object at 0x000002DA79148350>, <apps.logic.card.Card object at 0x000002DA791604D0>]\n",
      "action :  {'type': 'discard', 'data': {'handNum': 0}}\n",
      "game continue\n",
      "18\n",
      "[<apps.logic.card.Card object at 0x000002DA79161E50>, <apps.logic.card.Card object at 0x000002DA79149750>, <apps.logic.card.Card object at 0x000002DA79157E50>, <apps.logic.card.Card object at 0x000002DA79155150>, <apps.logic.card.Card object at 0x000002DA79160350>, <apps.logic.card.Card object at 0x000002DA79148DD0>]\n",
      "action :  {'type': 'discard', 'data': {'handNum': 0}}\n",
      "game continue\n",
      "17\n",
      "[<apps.logic.card.Card object at 0x000002DA79149150>, <apps.logic.card.Card object at 0x000002DA791558D0>, <apps.logic.card.Card object at 0x000002DA79161FD0>, <apps.logic.card.Card object at 0x000002DA791576D0>, <apps.logic.card.Card object at 0x000002DA79156C50>, <apps.logic.card.Card object at 0x000002DA79154CD0>]\n",
      "action :  {'type': 'discard', 'data': {'handNum': 0}}\n",
      "game continue\n",
      "16\n",
      "[<apps.logic.card.Card object at 0x000002DA79155750>, <apps.logic.card.Card object at 0x000002DA791543D0>, <apps.logic.card.Card object at 0x000002DA7911B5D0>, <apps.logic.card.Card object at 0x000002DA791540D0>, <apps.logic.card.Card object at 0x000002DA79156DD0>, <apps.logic.card.Card object at 0x000002DA79156950>]\n",
      "action :  {'type': 'discard', 'data': {'handNum': 0}}\n",
      "game continue\n",
      "15\n",
      "[<apps.logic.card.Card object at 0x000002DA791492D0>, <apps.logic.card.Card object at 0x000002DA791552D0>, <apps.logic.card.Card object at 0x000002DA79154B50>, <apps.logic.card.Card object at 0x000002DA79148350>, <apps.logic.card.Card object at 0x000002DA791604D0>, <apps.logic.card.Card object at 0x000002DA79160F50>]\n",
      "action :  {'type': 'discard', 'data': {'handNum': 0}}\n",
      "game continue\n",
      "14\n",
      "[<apps.logic.card.Card object at 0x000002DA79149750>, <apps.logic.card.Card object at 0x000002DA79157E50>, <apps.logic.card.Card object at 0x000002DA79155150>, <apps.logic.card.Card object at 0x000002DA79160350>, <apps.logic.card.Card object at 0x000002DA79148DD0>, <apps.logic.card.Card object at 0x000002DA79155D50>]\n",
      "action :  {'type': 'discard', 'data': {'handNum': 0}}\n",
      "game continue\n",
      "13\n",
      "[<apps.logic.card.Card object at 0x000002DA791558D0>, <apps.logic.card.Card object at 0x000002DA79161FD0>, <apps.logic.card.Card object at 0x000002DA791576D0>, <apps.logic.card.Card object at 0x000002DA79156C50>, <apps.logic.card.Card object at 0x000002DA79154CD0>, <apps.logic.card.Card object at 0x000002DA79161550>]\n",
      "action :  {'type': 'discard', 'data': {'handNum': 0}}\n",
      "game continue\n",
      "12\n",
      "[<apps.logic.card.Card object at 0x000002DA791543D0>, <apps.logic.card.Card object at 0x000002DA7911B5D0>, <apps.logic.card.Card object at 0x000002DA791540D0>, <apps.logic.card.Card object at 0x000002DA79156DD0>, <apps.logic.card.Card object at 0x000002DA79156950>, <apps.logic.card.Card object at 0x000002DA791570D0>]\n",
      "action :  {'type': 'discard', 'data': {'handNum': 0}}\n",
      "game continue\n",
      "11\n",
      "[<apps.logic.card.Card object at 0x000002DA791552D0>, <apps.logic.card.Card object at 0x000002DA79154B50>, <apps.logic.card.Card object at 0x000002DA79148350>, <apps.logic.card.Card object at 0x000002DA791604D0>, <apps.logic.card.Card object at 0x000002DA79160F50>, <apps.logic.card.Card object at 0x000002DA791613D0>]\n",
      "action :  {'type': 'discard', 'data': {'handNum': 0}}\n",
      "game continue\n",
      "10\n",
      "[<apps.logic.card.Card object at 0x000002DA79157E50>, <apps.logic.card.Card object at 0x000002DA79155150>, <apps.logic.card.Card object at 0x000002DA79160350>, <apps.logic.card.Card object at 0x000002DA79148DD0>, <apps.logic.card.Card object at 0x000002DA79155D50>, <apps.logic.card.Card object at 0x000002DA79148E50>]\n",
      "action :  {'type': 'discard', 'data': {'handNum': 0}}\n",
      "game continue\n",
      "9\n",
      "[<apps.logic.card.Card object at 0x000002DA79161FD0>, <apps.logic.card.Card object at 0x000002DA791576D0>, <apps.logic.card.Card object at 0x000002DA79156C50>, <apps.logic.card.Card object at 0x000002DA79154CD0>, <apps.logic.card.Card object at 0x000002DA79161550>, <apps.logic.card.Card object at 0x000002DA79156F50>]\n",
      "action :  {'type': 'discard', 'data': {'handNum': 0}}\n",
      "game continue\n",
      "8\n",
      "[<apps.logic.card.Card object at 0x000002DA7911B5D0>, <apps.logic.card.Card object at 0x000002DA791540D0>, <apps.logic.card.Card object at 0x000002DA79156DD0>, <apps.logic.card.Card object at 0x000002DA79156950>, <apps.logic.card.Card object at 0x000002DA791570D0>, <apps.logic.card.Card object at 0x000002DA79161850>]\n",
      "action :  {'type': 'discard', 'data': {'handNum': 0}}\n",
      "game continue\n",
      "7\n",
      "[<apps.logic.card.Card object at 0x000002DA79154B50>, <apps.logic.card.Card object at 0x000002DA79148350>, <apps.logic.card.Card object at 0x000002DA791604D0>, <apps.logic.card.Card object at 0x000002DA79160F50>, <apps.logic.card.Card object at 0x000002DA791613D0>, <apps.logic.card.Card object at 0x000002DA79157CD0>]\n",
      "action :  {'type': 'discard', 'data': {'handNum': 0}}\n",
      "game continue\n",
      "6\n",
      "[<apps.logic.card.Card object at 0x000002DA79155150>, <apps.logic.card.Card object at 0x000002DA79160350>, <apps.logic.card.Card object at 0x000002DA79148DD0>, <apps.logic.card.Card object at 0x000002DA79155D50>, <apps.logic.card.Card object at 0x000002DA79148E50>, <apps.logic.card.Card object at 0x000002DA791484D0>]\n",
      "action :  {'type': 'discard', 'data': {'handNum': 0}}\n",
      "game continue\n",
      "5\n",
      "[<apps.logic.card.Card object at 0x000002DA791576D0>, <apps.logic.card.Card object at 0x000002DA79156C50>, <apps.logic.card.Card object at 0x000002DA79154CD0>, <apps.logic.card.Card object at 0x000002DA79161550>, <apps.logic.card.Card object at 0x000002DA79156F50>, <apps.logic.card.Card object at 0x000002DA79161CD0>]\n",
      "action :  {'type': 'discard', 'data': {'handNum': 0}}\n",
      "game continue\n",
      "4\n",
      "[<apps.logic.card.Card object at 0x000002DA791540D0>, <apps.logic.card.Card object at 0x000002DA79156DD0>, <apps.logic.card.Card object at 0x000002DA79156950>, <apps.logic.card.Card object at 0x000002DA791570D0>, <apps.logic.card.Card object at 0x000002DA79161850>, <apps.logic.card.Card object at 0x000002DA79160650>]\n",
      "action :  {'type': 'discard', 'data': {'handNum': 0}}\n",
      "game continue\n",
      "3\n",
      "[<apps.logic.card.Card object at 0x000002DA79148350>, <apps.logic.card.Card object at 0x000002DA791604D0>, <apps.logic.card.Card object at 0x000002DA79160F50>, <apps.logic.card.Card object at 0x000002DA791613D0>, <apps.logic.card.Card object at 0x000002DA79157CD0>, <apps.logic.card.Card object at 0x000002DA79161B50>]\n",
      "action :  {'type': 'discard', 'data': {'handNum': 0}}\n",
      "game continue\n",
      "2\n",
      "[<apps.logic.card.Card object at 0x000002DA79160350>, <apps.logic.card.Card object at 0x000002DA79148DD0>, <apps.logic.card.Card object at 0x000002DA79155D50>, <apps.logic.card.Card object at 0x000002DA79148E50>, <apps.logic.card.Card object at 0x000002DA791484D0>, <apps.logic.card.Card object at 0x000002DA79157B50>]\n",
      "action :  {'type': 'discard', 'data': {'handNum': 0}}\n",
      "game continue\n",
      "1\n",
      "[<apps.logic.card.Card object at 0x000002DA79156C50>, <apps.logic.card.Card object at 0x000002DA79154CD0>, <apps.logic.card.Card object at 0x000002DA79161550>, <apps.logic.card.Card object at 0x000002DA79156F50>, <apps.logic.card.Card object at 0x000002DA79161CD0>, <apps.logic.card.Card object at 0x000002DA79154FD0>]\n",
      "action :  {'type': 'discard', 'data': {'handNum': 0}}\n",
      "game continue\n",
      "0\n",
      "[<apps.logic.card.Card object at 0x000002DA79156DD0>, <apps.logic.card.Card object at 0x000002DA79156950>, <apps.logic.card.Card object at 0x000002DA791570D0>, <apps.logic.card.Card object at 0x000002DA79161850>, <apps.logic.card.Card object at 0x000002DA79160650>, <apps.logic.card.Card object at 0x000002DA79154250>]\n",
      "action :  {'type': 'discard', 'data': {'handNum': 0}}\n",
      "game continue\n",
      "0\n",
      "[<apps.logic.card.Card object at 0x000002DA791604D0>, <apps.logic.card.Card object at 0x000002DA79160F50>, <apps.logic.card.Card object at 0x000002DA791613D0>, <apps.logic.card.Card object at 0x000002DA79157CD0>, <apps.logic.card.Card object at 0x000002DA79161B50>, <apps.logic.card.Card object at 0x000002DA79148AD0>]\n",
      "action :  {'type': 'discard', 'data': {'handNum': 0}}\n",
      "game continue\n",
      "0\n",
      "[<apps.logic.card.Card object at 0x000002DA79148DD0>, <apps.logic.card.Card object at 0x000002DA79155D50>, <apps.logic.card.Card object at 0x000002DA79148E50>, <apps.logic.card.Card object at 0x000002DA791484D0>, <apps.logic.card.Card object at 0x000002DA79157B50>, <apps.logic.card.Card object at 0x000002DA791555D0>]\n",
      "action :  {'type': 'discard', 'data': {'handNum': 0}}\n",
      "game continue\n",
      "0\n",
      "[<apps.logic.card.Card object at 0x000002DA79154CD0>, <apps.logic.card.Card object at 0x000002DA79161550>, <apps.logic.card.Card object at 0x000002DA79156F50>, <apps.logic.card.Card object at 0x000002DA79161CD0>, <apps.logic.card.Card object at 0x000002DA79154FD0>, <apps.logic.card.Card object at 0x000002DA791498D0>]\n",
      "action :  {'type': 'discard', 'data': {'handNum': 0}}\n",
      "game continue\n",
      "0\n",
      "[<apps.logic.card.Card object at 0x000002DA79156950>, <apps.logic.card.Card object at 0x000002DA791570D0>, <apps.logic.card.Card object at 0x000002DA79161850>, <apps.logic.card.Card object at 0x000002DA79160650>, <apps.logic.card.Card object at 0x000002DA79154250>]\n",
      "action :  {'type': 'discard', 'data': {'handNum': 0}}\n",
      "game continue\n",
      "0\n",
      "[<apps.logic.card.Card object at 0x000002DA79160F50>, <apps.logic.card.Card object at 0x000002DA791613D0>, <apps.logic.card.Card object at 0x000002DA79157CD0>, <apps.logic.card.Card object at 0x000002DA79161B50>, <apps.logic.card.Card object at 0x000002DA79148AD0>]\n",
      "action :  {'type': 'discard', 'data': {'handNum': 0}}\n",
      "game continue\n",
      "0\n",
      "[<apps.logic.card.Card object at 0x000002DA79155D50>, <apps.logic.card.Card object at 0x000002DA79148E50>, <apps.logic.card.Card object at 0x000002DA791484D0>, <apps.logic.card.Card object at 0x000002DA79157B50>, <apps.logic.card.Card object at 0x000002DA791555D0>]\n",
      "action :  {'type': 'discard', 'data': {'handNum': 0}}\n",
      "game continue\n",
      "0\n",
      "[<apps.logic.card.Card object at 0x000002DA79161550>, <apps.logic.card.Card object at 0x000002DA79156F50>, <apps.logic.card.Card object at 0x000002DA79161CD0>, <apps.logic.card.Card object at 0x000002DA79154FD0>, <apps.logic.card.Card object at 0x000002DA791498D0>]\n",
      "action :  {'type': 'discard', 'data': {'handNum': 0}}\n",
      "game continue\n",
      "0\n",
      "[<apps.logic.card.Card object at 0x000002DA791570D0>, <apps.logic.card.Card object at 0x000002DA79161850>, <apps.logic.card.Card object at 0x000002DA79160650>, <apps.logic.card.Card object at 0x000002DA79154250>]\n",
      "action :  {'type': 'discard', 'data': {'handNum': 0}}\n",
      "game continue\n",
      "0\n",
      "[<apps.logic.card.Card object at 0x000002DA791613D0>, <apps.logic.card.Card object at 0x000002DA79157CD0>, <apps.logic.card.Card object at 0x000002DA79161B50>, <apps.logic.card.Card object at 0x000002DA79148AD0>]\n",
      "action :  {'type': 'discard', 'data': {'handNum': 0}}\n",
      "game continue\n",
      "0\n",
      "[<apps.logic.card.Card object at 0x000002DA79148E50>, <apps.logic.card.Card object at 0x000002DA791484D0>, <apps.logic.card.Card object at 0x000002DA79157B50>, <apps.logic.card.Card object at 0x000002DA791555D0>]\n",
      "action :  {'type': 'discard', 'data': {'handNum': 0}}\n",
      "game continue\n",
      "0\n",
      "[<apps.logic.card.Card object at 0x000002DA79156F50>, <apps.logic.card.Card object at 0x000002DA79161CD0>, <apps.logic.card.Card object at 0x000002DA79154FD0>, <apps.logic.card.Card object at 0x000002DA791498D0>]\n",
      "action :  {'type': 'discard', 'data': {'handNum': 0}}\n",
      "game continue\n",
      "0\n",
      "[<apps.logic.card.Card object at 0x000002DA79161850>, <apps.logic.card.Card object at 0x000002DA79160650>, <apps.logic.card.Card object at 0x000002DA79154250>]\n",
      "action :  {'type': 'discard', 'data': {'handNum': 0}}\n",
      "game continue\n",
      "0\n",
      "[<apps.logic.card.Card object at 0x000002DA79157CD0>, <apps.logic.card.Card object at 0x000002DA79161B50>, <apps.logic.card.Card object at 0x000002DA79148AD0>]\n",
      "action :  {'type': 'discard', 'data': {'handNum': 0}}\n",
      "game continue\n",
      "0\n",
      "[<apps.logic.card.Card object at 0x000002DA791484D0>, <apps.logic.card.Card object at 0x000002DA79157B50>, <apps.logic.card.Card object at 0x000002DA791555D0>]\n",
      "action :  {'type': 'discard', 'data': {'handNum': 0}}\n",
      "game continue\n",
      "0\n",
      "[<apps.logic.card.Card object at 0x000002DA79161CD0>, <apps.logic.card.Card object at 0x000002DA79154FD0>, <apps.logic.card.Card object at 0x000002DA791498D0>]\n",
      "action :  {'type': 'discard', 'data': {'handNum': 0}}\n",
      "game continue\n",
      "0\n",
      "[<apps.logic.card.Card object at 0x000002DA79160650>, <apps.logic.card.Card object at 0x000002DA79154250>]\n",
      "action :  {'type': 'discard', 'data': {'handNum': 0}}\n",
      "game continue\n",
      "0\n",
      "[<apps.logic.card.Card object at 0x000002DA79161B50>, <apps.logic.card.Card object at 0x000002DA79148AD0>]\n",
      "action :  {'type': 'discard', 'data': {'handNum': 0}}\n",
      "game continue\n",
      "0\n",
      "[<apps.logic.card.Card object at 0x000002DA79157B50>, <apps.logic.card.Card object at 0x000002DA791555D0>]\n",
      "action :  {'type': 'discard', 'data': {'handNum': 0}}\n",
      "game continue\n",
      "0\n",
      "[<apps.logic.card.Card object at 0x000002DA79154FD0>, <apps.logic.card.Card object at 0x000002DA791498D0>]\n",
      "action :  {'type': 'discard', 'data': {'handNum': 0}}\n",
      "game continue\n",
      "0\n",
      "[<apps.logic.card.Card object at 0x000002DA79154250>]\n",
      "action :  {'type': 'discard', 'data': {'handNum': 0}}\n",
      "game continue\n",
      "0\n",
      "[<apps.logic.card.Card object at 0x000002DA79148AD0>]\n",
      "action :  {'type': 'discard', 'data': {'handNum': 0}}\n",
      "game continue\n",
      "0\n",
      "[<apps.logic.card.Card object at 0x000002DA791555D0>]\n",
      "action :  {'type': 'discard', 'data': {'handNum': 0}}\n",
      "game continue\n",
      "0\n",
      "[<apps.logic.card.Card object at 0x000002DA791498D0>]\n",
      "action :  {'type': 'discard', 'data': {'handNum': 0}}\n",
      "game continue\n",
      "김재훈에게 4 금이 배분되었습니다.\n",
      "라운드가 종료되었습니다.\n",
      "게임 시작\n",
      "Board reset\n",
      "home: (10, 5), gold: (12, 13), rock: [(10, 13), (8, 13)]\n",
      "게임이 시작되었습니다.\n",
      "다음 라운드로 넘어갑니다.\n",
      "60\n",
      "[<apps.logic.card.Card object at 0x000002DA7914CD50>, <apps.logic.card.Card object at 0x000002DA790E2A50>, <apps.logic.card.Card object at 0x000002DA79133CD0>, <apps.logic.card.Card object at 0x000002DA79133B50>, <apps.logic.card.Card object at 0x000002DA790E16D0>, <apps.logic.card.Card object at 0x000002DA7914C250>]\n",
      "action :  {'type': 'discard', 'data': {'handNum': 0}}\n",
      "game continue\n",
      "59\n",
      "[<apps.logic.card.Card object at 0x000002DA790E3650>, <apps.logic.card.Card object at 0x000002DA7914DD50>, <apps.logic.card.Card object at 0x000002DA790E25D0>, <apps.logic.card.Card object at 0x000002DA7914D5D0>, <apps.logic.card.Card object at 0x000002DA790E2D50>, <apps.logic.card.Card object at 0x000002DA7914C550>]\n",
      "action :  {'type': 'discard', 'data': {'handNum': 0}}\n",
      "game continue\n",
      "58\n",
      "[<apps.logic.card.Card object at 0x000002DA790FDB50>, <apps.logic.card.Card object at 0x000002DA7914E650>, <apps.logic.card.Card object at 0x000002DA790E22D0>, <apps.logic.card.Card object at 0x000002DA790E3050>, <apps.logic.card.Card object at 0x000002DA790E2150>, <apps.logic.card.Card object at 0x000002DA7914FB50>]\n",
      "action :  {'type': 'discard', 'data': {'handNum': 0}}\n",
      "game continue\n",
      "57\n",
      "[<apps.logic.card.Card object at 0x000002DA7914EDD0>, <apps.logic.card.Card object at 0x000002DA790E1550>, <apps.logic.card.Card object at 0x000002DA7914E7D0>, <apps.logic.card.Card object at 0x000002DA7914E350>, <apps.logic.card.Card object at 0x000002DA7914F9D0>, <apps.logic.card.Card object at 0x000002DA7914D050>]\n",
      "action :  {'type': 'discard', 'data': {'handNum': 0}}\n",
      "game continue\n",
      "56\n",
      "[<apps.logic.card.Card object at 0x000002DA790E2A50>, <apps.logic.card.Card object at 0x000002DA79133CD0>, <apps.logic.card.Card object at 0x000002DA79133B50>, <apps.logic.card.Card object at 0x000002DA790E16D0>, <apps.logic.card.Card object at 0x000002DA7914C250>, <apps.logic.card.Card object at 0x000002DA790E10D0>]\n",
      "action :  {'type': 'discard', 'data': {'handNum': 0}}\n",
      "game continue\n",
      "55\n",
      "[<apps.logic.card.Card object at 0x000002DA7914DD50>, <apps.logic.card.Card object at 0x000002DA790E25D0>, <apps.logic.card.Card object at 0x000002DA7914D5D0>, <apps.logic.card.Card object at 0x000002DA790E2D50>, <apps.logic.card.Card object at 0x000002DA7914C550>, <apps.logic.card.Card object at 0x000002DA7914E950>]\n",
      "action :  {'type': 'discard', 'data': {'handNum': 0}}\n",
      "game continue\n",
      "54\n",
      "[<apps.logic.card.Card object at 0x000002DA7914E650>, <apps.logic.card.Card object at 0x000002DA790E22D0>, <apps.logic.card.Card object at 0x000002DA790E3050>, <apps.logic.card.Card object at 0x000002DA790E2150>, <apps.logic.card.Card object at 0x000002DA7914FB50>, <apps.logic.card.Card object at 0x000002DA7914C3D0>]\n",
      "action :  {'type': 'discard', 'data': {'handNum': 0}}\n",
      "game continue\n",
      "53\n",
      "[<apps.logic.card.Card object at 0x000002DA790E1550>, <apps.logic.card.Card object at 0x000002DA7914E7D0>, <apps.logic.card.Card object at 0x000002DA7914E350>, <apps.logic.card.Card object at 0x000002DA7914F9D0>, <apps.logic.card.Card object at 0x000002DA7914D050>, <apps.logic.card.Card object at 0x000002DA790E01D0>]\n",
      "action :  {'type': 'discard', 'data': {'handNum': 0}}\n",
      "game continue\n",
      "52\n",
      "[<apps.logic.card.Card object at 0x000002DA79133CD0>, <apps.logic.card.Card object at 0x000002DA79133B50>, <apps.logic.card.Card object at 0x000002DA790E16D0>, <apps.logic.card.Card object at 0x000002DA7914C250>, <apps.logic.card.Card object at 0x000002DA790E10D0>, <apps.logic.card.Card object at 0x000002DA790E19D0>]\n",
      "action :  {'type': 'discard', 'data': {'handNum': 0}}\n",
      "game continue\n",
      "51\n",
      "[<apps.logic.card.Card object at 0x000002DA790E25D0>, <apps.logic.card.Card object at 0x000002DA7914D5D0>, <apps.logic.card.Card object at 0x000002DA790E2D50>, <apps.logic.card.Card object at 0x000002DA7914C550>, <apps.logic.card.Card object at 0x000002DA7914E950>, <apps.logic.card.Card object at 0x000002DA790E0650>]\n",
      "action :  {'type': 'discard', 'data': {'handNum': 0}}\n",
      "game continue\n",
      "50\n",
      "[<apps.logic.card.Card object at 0x000002DA790E22D0>, <apps.logic.card.Card object at 0x000002DA790E3050>, <apps.logic.card.Card object at 0x000002DA790E2150>, <apps.logic.card.Card object at 0x000002DA7914FB50>, <apps.logic.card.Card object at 0x000002DA7914C3D0>, <apps.logic.card.Card object at 0x000002DA790E34D0>]\n",
      "action :  {'type': 'discard', 'data': {'handNum': 0}}\n",
      "game continue\n",
      "49\n",
      "[<apps.logic.card.Card object at 0x000002DA7914E7D0>, <apps.logic.card.Card object at 0x000002DA7914E350>, <apps.logic.card.Card object at 0x000002DA7914F9D0>, <apps.logic.card.Card object at 0x000002DA7914D050>, <apps.logic.card.Card object at 0x000002DA790E01D0>, <apps.logic.card.Card object at 0x000002DA7914D350>]\n",
      "action :  {'type': 'discard', 'data': {'handNum': 0}}\n",
      "game continue\n",
      "48\n",
      "[<apps.logic.card.Card object at 0x000002DA79133B50>, <apps.logic.card.Card object at 0x000002DA790E16D0>, <apps.logic.card.Card object at 0x000002DA7914C250>, <apps.logic.card.Card object at 0x000002DA790E10D0>, <apps.logic.card.Card object at 0x000002DA790E19D0>, <apps.logic.card.Card object at 0x000002DA7914FCD0>]\n",
      "action :  {'type': 'discard', 'data': {'handNum': 0}}\n",
      "game continue\n",
      "47\n",
      "[<apps.logic.card.Card object at 0x000002DA7914D5D0>, <apps.logic.card.Card object at 0x000002DA790E2D50>, <apps.logic.card.Card object at 0x000002DA7914C550>, <apps.logic.card.Card object at 0x000002DA7914E950>, <apps.logic.card.Card object at 0x000002DA790E0650>, <apps.logic.card.Card object at 0x000002DA7914F3D0>]\n",
      "action :  {'type': 'discard', 'data': {'handNum': 0}}\n",
      "game continue\n",
      "46\n",
      "[<apps.logic.card.Card object at 0x000002DA790E3050>, <apps.logic.card.Card object at 0x000002DA790E2150>, <apps.logic.card.Card object at 0x000002DA7914FB50>, <apps.logic.card.Card object at 0x000002DA7914C3D0>, <apps.logic.card.Card object at 0x000002DA790E34D0>, <apps.logic.card.Card object at 0x000002DA7914E4D0>]\n",
      "action :  {'type': 'discard', 'data': {'handNum': 0}}\n",
      "game continue\n",
      "45\n",
      "[<apps.logic.card.Card object at 0x000002DA7914E350>, <apps.logic.card.Card object at 0x000002DA7914F9D0>, <apps.logic.card.Card object at 0x000002DA7914D050>, <apps.logic.card.Card object at 0x000002DA790E01D0>, <apps.logic.card.Card object at 0x000002DA7914D350>, <apps.logic.card.Card object at 0x000002DA790E1250>]\n",
      "action :  {'type': 'discard', 'data': {'handNum': 0}}\n",
      "game continue\n",
      "44\n",
      "[<apps.logic.card.Card object at 0x000002DA790E16D0>, <apps.logic.card.Card object at 0x000002DA7914C250>, <apps.logic.card.Card object at 0x000002DA790E10D0>, <apps.logic.card.Card object at 0x000002DA790E19D0>, <apps.logic.card.Card object at 0x000002DA7914FCD0>, <apps.logic.card.Card object at 0x000002DA790E2450>]\n",
      "action :  {'type': 'discard', 'data': {'handNum': 0}}\n",
      "game continue\n",
      "43\n",
      "[<apps.logic.card.Card object at 0x000002DA790E2D50>, <apps.logic.card.Card object at 0x000002DA7914C550>, <apps.logic.card.Card object at 0x000002DA7914E950>, <apps.logic.card.Card object at 0x000002DA790E0650>, <apps.logic.card.Card object at 0x000002DA7914F3D0>, <apps.logic.card.Card object at 0x000002DA7914C850>]\n",
      "action :  {'type': 'discard', 'data': {'handNum': 0}}\n",
      "game continue\n",
      "42\n",
      "[<apps.logic.card.Card object at 0x000002DA790E2150>, <apps.logic.card.Card object at 0x000002DA7914FB50>, <apps.logic.card.Card object at 0x000002DA7914C3D0>, <apps.logic.card.Card object at 0x000002DA790E34D0>, <apps.logic.card.Card object at 0x000002DA7914E4D0>, <apps.logic.card.Card object at 0x000002DA7914DA50>]\n",
      "action :  {'type': 'discard', 'data': {'handNum': 0}}\n",
      "game continue\n",
      "41\n",
      "[<apps.logic.card.Card object at 0x000002DA7914F9D0>, <apps.logic.card.Card object at 0x000002DA7914D050>, <apps.logic.card.Card object at 0x000002DA790E01D0>, <apps.logic.card.Card object at 0x000002DA7914D350>, <apps.logic.card.Card object at 0x000002DA790E1250>, <apps.logic.card.Card object at 0x000002DA7914CED0>]\n",
      "action :  {'type': 'discard', 'data': {'handNum': 0}}\n",
      "game continue\n",
      "40\n",
      "[<apps.logic.card.Card object at 0x000002DA7914C250>, <apps.logic.card.Card object at 0x000002DA790E10D0>, <apps.logic.card.Card object at 0x000002DA790E19D0>, <apps.logic.card.Card object at 0x000002DA7914FCD0>, <apps.logic.card.Card object at 0x000002DA790E2450>, <apps.logic.card.Card object at 0x000002DA790E0C50>]\n",
      "action :  {'type': 'discard', 'data': {'handNum': 0}}\n",
      "game continue\n",
      "39\n",
      "[<apps.logic.card.Card object at 0x000002DA7914C550>, <apps.logic.card.Card object at 0x000002DA7914E950>, <apps.logic.card.Card object at 0x000002DA790E0650>, <apps.logic.card.Card object at 0x000002DA7914F3D0>, <apps.logic.card.Card object at 0x000002DA7914C850>, <apps.logic.card.Card object at 0x000002DA790E2BD0>]\n",
      "action :  {'type': 'discard', 'data': {'handNum': 0}}\n",
      "game continue\n",
      "38\n",
      "[<apps.logic.card.Card object at 0x000002DA7914FB50>, <apps.logic.card.Card object at 0x000002DA7914C3D0>, <apps.logic.card.Card object at 0x000002DA790E34D0>, <apps.logic.card.Card object at 0x000002DA7914E4D0>, <apps.logic.card.Card object at 0x000002DA7914DA50>, <apps.logic.card.Card object at 0x000002DA790E2ED0>]\n",
      "action :  {'type': 'discard', 'data': {'handNum': 0}}\n",
      "game continue\n",
      "37\n",
      "[<apps.logic.card.Card object at 0x000002DA7914D050>, <apps.logic.card.Card object at 0x000002DA790E01D0>, <apps.logic.card.Card object at 0x000002DA7914D350>, <apps.logic.card.Card object at 0x000002DA790E1250>, <apps.logic.card.Card object at 0x000002DA7914CED0>, <apps.logic.card.Card object at 0x000002DA7914C6D0>]\n",
      "action :  {'type': 'discard', 'data': {'handNum': 0}}\n",
      "game continue\n",
      "36\n",
      "[<apps.logic.card.Card object at 0x000002DA790E10D0>, <apps.logic.card.Card object at 0x000002DA790E19D0>, <apps.logic.card.Card object at 0x000002DA7914FCD0>, <apps.logic.card.Card object at 0x000002DA790E2450>, <apps.logic.card.Card object at 0x000002DA790E0C50>, <apps.logic.card.Card object at 0x000002DA790E1CD0>]\n",
      "action :  {'type': 'discard', 'data': {'handNum': 0}}\n",
      "game continue\n",
      "35\n",
      "[<apps.logic.card.Card object at 0x000002DA7914E950>, <apps.logic.card.Card object at 0x000002DA790E0650>, <apps.logic.card.Card object at 0x000002DA7914F3D0>, <apps.logic.card.Card object at 0x000002DA7914C850>, <apps.logic.card.Card object at 0x000002DA790E2BD0>, <apps.logic.card.Card object at 0x000002DA790E1E50>]\n",
      "action :  {'type': 'discard', 'data': {'handNum': 0}}\n",
      "game continue\n",
      "34\n",
      "[<apps.logic.card.Card object at 0x000002DA7914C3D0>, <apps.logic.card.Card object at 0x000002DA790E34D0>, <apps.logic.card.Card object at 0x000002DA7914E4D0>, <apps.logic.card.Card object at 0x000002DA7914DA50>, <apps.logic.card.Card object at 0x000002DA790E2ED0>, <apps.logic.card.Card object at 0x000002DA790E0950>]\n",
      "action :  {'type': 'discard', 'data': {'handNum': 0}}\n",
      "game continue\n",
      "33\n",
      "[<apps.logic.card.Card object at 0x000002DA790E01D0>, <apps.logic.card.Card object at 0x000002DA7914D350>, <apps.logic.card.Card object at 0x000002DA790E1250>, <apps.logic.card.Card object at 0x000002DA7914CED0>, <apps.logic.card.Card object at 0x000002DA7914C6D0>, <apps.logic.card.Card object at 0x000002DA790E37D0>]\n",
      "action :  {'type': 'discard', 'data': {'handNum': 0}}\n",
      "game continue\n",
      "32\n",
      "[<apps.logic.card.Card object at 0x000002DA790E19D0>, <apps.logic.card.Card object at 0x000002DA7914FCD0>, <apps.logic.card.Card object at 0x000002DA790E2450>, <apps.logic.card.Card object at 0x000002DA790E0C50>, <apps.logic.card.Card object at 0x000002DA790E1CD0>, <apps.logic.card.Card object at 0x000002DA790E3350>]\n",
      "action :  {'type': 'discard', 'data': {'handNum': 0}}\n",
      "game continue\n",
      "31\n",
      "[<apps.logic.card.Card object at 0x000002DA790E0650>, <apps.logic.card.Card object at 0x000002DA7914F3D0>, <apps.logic.card.Card object at 0x000002DA7914C850>, <apps.logic.card.Card object at 0x000002DA790E2BD0>, <apps.logic.card.Card object at 0x000002DA790E1E50>, <apps.logic.card.Card object at 0x000002DA790E0F50>]\n",
      "action :  {'type': 'discard', 'data': {'handNum': 0}}\n",
      "game continue\n",
      "30\n",
      "[<apps.logic.card.Card object at 0x000002DA790E34D0>, <apps.logic.card.Card object at 0x000002DA7914E4D0>, <apps.logic.card.Card object at 0x000002DA7914DA50>, <apps.logic.card.Card object at 0x000002DA790E2ED0>, <apps.logic.card.Card object at 0x000002DA790E0950>, <apps.logic.card.Card object at 0x000002DA7914D750>]\n",
      "action :  {'type': 'discard', 'data': {'handNum': 0}}\n",
      "game continue\n",
      "29\n",
      "[<apps.logic.card.Card object at 0x000002DA7914D350>, <apps.logic.card.Card object at 0x000002DA790E1250>, <apps.logic.card.Card object at 0x000002DA7914CED0>, <apps.logic.card.Card object at 0x000002DA7914C6D0>, <apps.logic.card.Card object at 0x000002DA790E37D0>, <apps.logic.card.Card object at 0x000002DA790E2750>]\n",
      "action :  {'type': 'discard', 'data': {'handNum': 0}}\n",
      "game continue\n",
      "28\n",
      "[<apps.logic.card.Card object at 0x000002DA7914FCD0>, <apps.logic.card.Card object at 0x000002DA790E2450>, <apps.logic.card.Card object at 0x000002DA790E0C50>, <apps.logic.card.Card object at 0x000002DA790E1CD0>, <apps.logic.card.Card object at 0x000002DA790E3350>, <apps.logic.card.Card object at 0x000002DA790E00D0>]\n",
      "action :  {'type': 'discard', 'data': {'handNum': 0}}\n",
      "game continue\n",
      "27\n",
      "[<apps.logic.card.Card object at 0x000002DA7914F3D0>, <apps.logic.card.Card object at 0x000002DA7914C850>, <apps.logic.card.Card object at 0x000002DA790E2BD0>, <apps.logic.card.Card object at 0x000002DA790E1E50>, <apps.logic.card.Card object at 0x000002DA790E0F50>, <apps.logic.card.Card object at 0x000002DA7914DBD0>]\n",
      "action :  {'type': 'discard', 'data': {'handNum': 0}}\n",
      "game continue\n",
      "26\n",
      "[<apps.logic.card.Card object at 0x000002DA7914E4D0>, <apps.logic.card.Card object at 0x000002DA7914DA50>, <apps.logic.card.Card object at 0x000002DA790E2ED0>, <apps.logic.card.Card object at 0x000002DA790E0950>, <apps.logic.card.Card object at 0x000002DA7914D750>, <apps.logic.card.Card object at 0x000002DA7914CA50>]\n",
      "action :  {'type': 'discard', 'data': {'handNum': 0}}\n",
      "game continue\n",
      "25\n",
      "[<apps.logic.card.Card object at 0x000002DA790E1250>, <apps.logic.card.Card object at 0x000002DA7914CED0>, <apps.logic.card.Card object at 0x000002DA7914C6D0>, <apps.logic.card.Card object at 0x000002DA790E37D0>, <apps.logic.card.Card object at 0x000002DA790E2750>, <apps.logic.card.Card object at 0x000002DA7914F0D0>]\n",
      "action :  {'type': 'discard', 'data': {'handNum': 0}}\n",
      "game continue\n",
      "24\n",
      "[<apps.logic.card.Card object at 0x000002DA790E2450>, <apps.logic.card.Card object at 0x000002DA790E0C50>, <apps.logic.card.Card object at 0x000002DA790E1CD0>, <apps.logic.card.Card object at 0x000002DA790E3350>, <apps.logic.card.Card object at 0x000002DA790E00D0>, <apps.logic.card.Card object at 0x000002DA790E31D0>]\n",
      "action :  {'type': 'discard', 'data': {'handNum': 0}}\n",
      "game continue\n",
      "23\n",
      "[<apps.logic.card.Card object at 0x000002DA7914C850>, <apps.logic.card.Card object at 0x000002DA790E2BD0>, <apps.logic.card.Card object at 0x000002DA790E1E50>, <apps.logic.card.Card object at 0x000002DA790E0F50>, <apps.logic.card.Card object at 0x000002DA7914DBD0>, <apps.logic.card.Card object at 0x000002DA790E0DD0>]\n",
      "action :  {'type': 'discard', 'data': {'handNum': 0}}\n",
      "game continue\n",
      "22\n",
      "[<apps.logic.card.Card object at 0x000002DA7914DA50>, <apps.logic.card.Card object at 0x000002DA790E2ED0>, <apps.logic.card.Card object at 0x000002DA790E0950>, <apps.logic.card.Card object at 0x000002DA7914D750>, <apps.logic.card.Card object at 0x000002DA7914CA50>, <apps.logic.card.Card object at 0x000002DA790E1B50>]\n",
      "action :  {'type': 'discard', 'data': {'handNum': 0}}\n",
      "game continue\n",
      "21\n",
      "[<apps.logic.card.Card object at 0x000002DA7914CED0>, <apps.logic.card.Card object at 0x000002DA7914C6D0>, <apps.logic.card.Card object at 0x000002DA790E37D0>, <apps.logic.card.Card object at 0x000002DA790E2750>, <apps.logic.card.Card object at 0x000002DA7914F0D0>, <apps.logic.card.Card object at 0x000002DA7914F850>]\n",
      "action :  {'type': 'discard', 'data': {'handNum': 0}}\n",
      "game continue\n",
      "20\n",
      "[<apps.logic.card.Card object at 0x000002DA790E0C50>, <apps.logic.card.Card object at 0x000002DA790E1CD0>, <apps.logic.card.Card object at 0x000002DA790E3350>, <apps.logic.card.Card object at 0x000002DA790E00D0>, <apps.logic.card.Card object at 0x000002DA790E31D0>, <apps.logic.card.Card object at 0x000002DA790E0350>]\n",
      "action :  {'type': 'discard', 'data': {'handNum': 0}}\n",
      "game continue\n",
      "19\n",
      "[<apps.logic.card.Card object at 0x000002DA790E2BD0>, <apps.logic.card.Card object at 0x000002DA790E1E50>, <apps.logic.card.Card object at 0x000002DA790E0F50>, <apps.logic.card.Card object at 0x000002DA7914DBD0>, <apps.logic.card.Card object at 0x000002DA790E0DD0>, <apps.logic.card.Card object at 0x000002DA790E1850>]\n",
      "action :  {'type': 'discard', 'data': {'handNum': 0}}\n",
      "game continue\n",
      "18\n",
      "[<apps.logic.card.Card object at 0x000002DA790E2ED0>, <apps.logic.card.Card object at 0x000002DA790E0950>, <apps.logic.card.Card object at 0x000002DA7914D750>, <apps.logic.card.Card object at 0x000002DA7914CA50>, <apps.logic.card.Card object at 0x000002DA790E1B50>, <apps.logic.card.Card object at 0x000002DA790E1FD0>]\n",
      "action :  {'type': 'discard', 'data': {'handNum': 0}}\n",
      "game continue\n",
      "17\n",
      "[<apps.logic.card.Card object at 0x000002DA7914C6D0>, <apps.logic.card.Card object at 0x000002DA790E37D0>, <apps.logic.card.Card object at 0x000002DA790E2750>, <apps.logic.card.Card object at 0x000002DA7914F0D0>, <apps.logic.card.Card object at 0x000002DA7914F850>, <apps.logic.card.Card object at 0x000002DA7914FE50>]\n",
      "action :  {'type': 'discard', 'data': {'handNum': 0}}\n",
      "game continue\n",
      "16\n",
      "[<apps.logic.card.Card object at 0x000002DA790E1CD0>, <apps.logic.card.Card object at 0x000002DA790E3350>, <apps.logic.card.Card object at 0x000002DA790E00D0>, <apps.logic.card.Card object at 0x000002DA790E31D0>, <apps.logic.card.Card object at 0x000002DA790E0350>, <apps.logic.card.Card object at 0x000002DA7914F6D0>]\n",
      "action :  {'type': 'discard', 'data': {'handNum': 0}}\n",
      "game continue\n",
      "15\n",
      "[<apps.logic.card.Card object at 0x000002DA790E1E50>, <apps.logic.card.Card object at 0x000002DA790E0F50>, <apps.logic.card.Card object at 0x000002DA7914DBD0>, <apps.logic.card.Card object at 0x000002DA790E0DD0>, <apps.logic.card.Card object at 0x000002DA790E1850>, <apps.logic.card.Card object at 0x000002DA7914EC50>]\n",
      "action :  {'type': 'discard', 'data': {'handNum': 0}}\n",
      "game continue\n",
      "14\n",
      "[<apps.logic.card.Card object at 0x000002DA790E0950>, <apps.logic.card.Card object at 0x000002DA7914D750>, <apps.logic.card.Card object at 0x000002DA7914CA50>, <apps.logic.card.Card object at 0x000002DA790E1B50>, <apps.logic.card.Card object at 0x000002DA790E1FD0>, <apps.logic.card.Card object at 0x000002DA7914F550>]\n",
      "action :  {'type': 'discard', 'data': {'handNum': 0}}\n",
      "game continue\n",
      "13\n",
      "[<apps.logic.card.Card object at 0x000002DA790E37D0>, <apps.logic.card.Card object at 0x000002DA790E2750>, <apps.logic.card.Card object at 0x000002DA7914F0D0>, <apps.logic.card.Card object at 0x000002DA7914F850>, <apps.logic.card.Card object at 0x000002DA7914FE50>, <apps.logic.card.Card object at 0x000002DA790E28D0>]\n",
      "action :  {'type': 'discard', 'data': {'handNum': 0}}\n",
      "game continue\n",
      "12\n",
      "[<apps.logic.card.Card object at 0x000002DA790E3350>, <apps.logic.card.Card object at 0x000002DA790E00D0>, <apps.logic.card.Card object at 0x000002DA790E31D0>, <apps.logic.card.Card object at 0x000002DA790E0350>, <apps.logic.card.Card object at 0x000002DA7914F6D0>, <apps.logic.card.Card object at 0x000002DA7914EAD0>]\n",
      "action :  {'type': 'discard', 'data': {'handNum': 0}}\n",
      "game continue\n",
      "11\n",
      "[<apps.logic.card.Card object at 0x000002DA790E0F50>, <apps.logic.card.Card object at 0x000002DA7914DBD0>, <apps.logic.card.Card object at 0x000002DA790E0DD0>, <apps.logic.card.Card object at 0x000002DA790E1850>, <apps.logic.card.Card object at 0x000002DA7914EC50>, <apps.logic.card.Card object at 0x000002DA7914D8D0>]\n",
      "action :  {'type': 'discard', 'data': {'handNum': 0}}\n",
      "game continue\n",
      "10\n",
      "[<apps.logic.card.Card object at 0x000002DA7914D750>, <apps.logic.card.Card object at 0x000002DA7914CA50>, <apps.logic.card.Card object at 0x000002DA790E1B50>, <apps.logic.card.Card object at 0x000002DA790E1FD0>, <apps.logic.card.Card object at 0x000002DA7914F550>, <apps.logic.card.Card object at 0x000002DA7914E050>]\n",
      "action :  {'type': 'discard', 'data': {'handNum': 0}}\n",
      "game continue\n",
      "9\n",
      "[<apps.logic.card.Card object at 0x000002DA790E2750>, <apps.logic.card.Card object at 0x000002DA7914F0D0>, <apps.logic.card.Card object at 0x000002DA7914F850>, <apps.logic.card.Card object at 0x000002DA7914FE50>, <apps.logic.card.Card object at 0x000002DA790E28D0>, <apps.logic.card.Card object at 0x000002DA791307D0>]\n",
      "action :  {'type': 'discard', 'data': {'handNum': 0}}\n",
      "game continue\n",
      "8\n",
      "[<apps.logic.card.Card object at 0x000002DA790E00D0>, <apps.logic.card.Card object at 0x000002DA790E31D0>, <apps.logic.card.Card object at 0x000002DA790E0350>, <apps.logic.card.Card object at 0x000002DA7914F6D0>, <apps.logic.card.Card object at 0x000002DA7914EAD0>, <apps.logic.card.Card object at 0x000002DA790E13D0>]\n",
      "action :  {'type': 'discard', 'data': {'handNum': 0}}\n",
      "game continue\n",
      "7\n",
      "[<apps.logic.card.Card object at 0x000002DA7914DBD0>, <apps.logic.card.Card object at 0x000002DA790E0DD0>, <apps.logic.card.Card object at 0x000002DA790E1850>, <apps.logic.card.Card object at 0x000002DA7914EC50>, <apps.logic.card.Card object at 0x000002DA7914D8D0>, <apps.logic.card.Card object at 0x000002DA7914DED0>]\n",
      "action :  {'type': 'discard', 'data': {'handNum': 0}}\n",
      "game continue\n",
      "6\n",
      "[<apps.logic.card.Card object at 0x000002DA7914CA50>, <apps.logic.card.Card object at 0x000002DA790E1B50>, <apps.logic.card.Card object at 0x000002DA790E1FD0>, <apps.logic.card.Card object at 0x000002DA7914F550>, <apps.logic.card.Card object at 0x000002DA7914E050>, <apps.logic.card.Card object at 0x000002DA790E04D0>]\n",
      "action :  {'type': 'discard', 'data': {'handNum': 0}}\n",
      "game continue\n",
      "5\n",
      "[<apps.logic.card.Card object at 0x000002DA7914F0D0>, <apps.logic.card.Card object at 0x000002DA7914F850>, <apps.logic.card.Card object at 0x000002DA7914FE50>, <apps.logic.card.Card object at 0x000002DA790E28D0>, <apps.logic.card.Card object at 0x000002DA791307D0>, <apps.logic.card.Card object at 0x000002DA790E0AD0>]\n",
      "action :  {'type': 'discard', 'data': {'handNum': 0}}\n",
      "game continue\n",
      "4\n",
      "[<apps.logic.card.Card object at 0x000002DA790E31D0>, <apps.logic.card.Card object at 0x000002DA790E0350>, <apps.logic.card.Card object at 0x000002DA7914F6D0>, <apps.logic.card.Card object at 0x000002DA7914EAD0>, <apps.logic.card.Card object at 0x000002DA790E13D0>, <apps.logic.card.Card object at 0x000002DA7914EF50>]\n",
      "action :  {'type': 'discard', 'data': {'handNum': 0}}\n",
      "game continue\n",
      "3\n",
      "[<apps.logic.card.Card object at 0x000002DA790E0DD0>, <apps.logic.card.Card object at 0x000002DA790E1850>, <apps.logic.card.Card object at 0x000002DA7914EC50>, <apps.logic.card.Card object at 0x000002DA7914D8D0>, <apps.logic.card.Card object at 0x000002DA7914DED0>, <apps.logic.card.Card object at 0x000002DA790E07D0>]\n",
      "action :  {'type': 'discard', 'data': {'handNum': 0}}\n",
      "game continue\n",
      "2\n",
      "[<apps.logic.card.Card object at 0x000002DA790E1B50>, <apps.logic.card.Card object at 0x000002DA790E1FD0>, <apps.logic.card.Card object at 0x000002DA7914F550>, <apps.logic.card.Card object at 0x000002DA7914E050>, <apps.logic.card.Card object at 0x000002DA790E04D0>, <apps.logic.card.Card object at 0x000002DA7914F250>]\n",
      "action :  {'type': 'discard', 'data': {'handNum': 0}}\n",
      "game continue\n",
      "1\n",
      "[<apps.logic.card.Card object at 0x000002DA7914F850>, <apps.logic.card.Card object at 0x000002DA7914FE50>, <apps.logic.card.Card object at 0x000002DA790E28D0>, <apps.logic.card.Card object at 0x000002DA791307D0>, <apps.logic.card.Card object at 0x000002DA790E0AD0>, <apps.logic.card.Card object at 0x000002DA7914E1D0>]\n",
      "action :  {'type': 'discard', 'data': {'handNum': 0}}\n",
      "game continue\n",
      "0\n",
      "[<apps.logic.card.Card object at 0x000002DA790E0350>, <apps.logic.card.Card object at 0x000002DA7914F6D0>, <apps.logic.card.Card object at 0x000002DA7914EAD0>, <apps.logic.card.Card object at 0x000002DA790E13D0>, <apps.logic.card.Card object at 0x000002DA7914EF50>, <apps.logic.card.Card object at 0x000002DA7914D1D0>]\n",
      "action :  {'type': 'discard', 'data': {'handNum': 0}}\n",
      "game continue\n",
      "0\n",
      "[<apps.logic.card.Card object at 0x000002DA790E1850>, <apps.logic.card.Card object at 0x000002DA7914EC50>, <apps.logic.card.Card object at 0x000002DA7914D8D0>, <apps.logic.card.Card object at 0x000002DA7914DED0>, <apps.logic.card.Card object at 0x000002DA790E07D0>, <apps.logic.card.Card object at 0x000002DA7914C0D0>]\n",
      "action :  {'type': 'discard', 'data': {'handNum': 0}}\n",
      "game continue\n",
      "0\n",
      "[<apps.logic.card.Card object at 0x000002DA790E1FD0>, <apps.logic.card.Card object at 0x000002DA7914F550>, <apps.logic.card.Card object at 0x000002DA7914E050>, <apps.logic.card.Card object at 0x000002DA790E04D0>, <apps.logic.card.Card object at 0x000002DA7914F250>, <apps.logic.card.Card object at 0x000002DA7914C8D0>]\n",
      "action :  {'type': 'discard', 'data': {'handNum': 0}}\n",
      "game continue\n",
      "0\n",
      "[<apps.logic.card.Card object at 0x000002DA7914FE50>, <apps.logic.card.Card object at 0x000002DA790E28D0>, <apps.logic.card.Card object at 0x000002DA791307D0>, <apps.logic.card.Card object at 0x000002DA790E0AD0>, <apps.logic.card.Card object at 0x000002DA7914E1D0>, <apps.logic.card.Card object at 0x000002DA7914CBD0>]\n",
      "action :  {'type': 'discard', 'data': {'handNum': 0}}\n",
      "game continue\n",
      "0\n",
      "[<apps.logic.card.Card object at 0x000002DA7914F6D0>, <apps.logic.card.Card object at 0x000002DA7914EAD0>, <apps.logic.card.Card object at 0x000002DA790E13D0>, <apps.logic.card.Card object at 0x000002DA7914EF50>, <apps.logic.card.Card object at 0x000002DA7914D1D0>]\n",
      "action :  {'type': 'discard', 'data': {'handNum': 0}}\n",
      "game continue\n",
      "0\n",
      "[<apps.logic.card.Card object at 0x000002DA7914EC50>, <apps.logic.card.Card object at 0x000002DA7914D8D0>, <apps.logic.card.Card object at 0x000002DA7914DED0>, <apps.logic.card.Card object at 0x000002DA790E07D0>, <apps.logic.card.Card object at 0x000002DA7914C0D0>]\n",
      "action :  {'type': 'discard', 'data': {'handNum': 0}}\n",
      "game continue\n",
      "0\n",
      "[<apps.logic.card.Card object at 0x000002DA7914F550>, <apps.logic.card.Card object at 0x000002DA7914E050>, <apps.logic.card.Card object at 0x000002DA790E04D0>, <apps.logic.card.Card object at 0x000002DA7914F250>, <apps.logic.card.Card object at 0x000002DA7914C8D0>]\n",
      "action :  {'type': 'discard', 'data': {'handNum': 0}}\n",
      "game continue\n",
      "0\n",
      "[<apps.logic.card.Card object at 0x000002DA790E28D0>, <apps.logic.card.Card object at 0x000002DA791307D0>, <apps.logic.card.Card object at 0x000002DA790E0AD0>, <apps.logic.card.Card object at 0x000002DA7914E1D0>, <apps.logic.card.Card object at 0x000002DA7914CBD0>]\n",
      "action :  {'type': 'discard', 'data': {'handNum': 0}}\n",
      "game continue\n",
      "0\n",
      "[<apps.logic.card.Card object at 0x000002DA7914EAD0>, <apps.logic.card.Card object at 0x000002DA790E13D0>, <apps.logic.card.Card object at 0x000002DA7914EF50>, <apps.logic.card.Card object at 0x000002DA7914D1D0>]\n",
      "action :  {'type': 'discard', 'data': {'handNum': 0}}\n",
      "game continue\n",
      "0\n",
      "[<apps.logic.card.Card object at 0x000002DA7914D8D0>, <apps.logic.card.Card object at 0x000002DA7914DED0>, <apps.logic.card.Card object at 0x000002DA790E07D0>, <apps.logic.card.Card object at 0x000002DA7914C0D0>]\n",
      "action :  {'type': 'discard', 'data': {'handNum': 0}}\n",
      "game continue\n",
      "0\n",
      "[<apps.logic.card.Card object at 0x000002DA7914E050>, <apps.logic.card.Card object at 0x000002DA790E04D0>, <apps.logic.card.Card object at 0x000002DA7914F250>, <apps.logic.card.Card object at 0x000002DA7914C8D0>]\n",
      "action :  {'type': 'discard', 'data': {'handNum': 0}}\n",
      "game continue\n",
      "0\n",
      "[<apps.logic.card.Card object at 0x000002DA791307D0>, <apps.logic.card.Card object at 0x000002DA790E0AD0>, <apps.logic.card.Card object at 0x000002DA7914E1D0>, <apps.logic.card.Card object at 0x000002DA7914CBD0>]\n",
      "action :  {'type': 'discard', 'data': {'handNum': 0}}\n",
      "game continue\n",
      "0\n",
      "[<apps.logic.card.Card object at 0x000002DA790E13D0>, <apps.logic.card.Card object at 0x000002DA7914EF50>, <apps.logic.card.Card object at 0x000002DA7914D1D0>]\n",
      "action :  {'type': 'discard', 'data': {'handNum': 0}}\n",
      "game continue\n",
      "0\n",
      "[<apps.logic.card.Card object at 0x000002DA7914DED0>, <apps.logic.card.Card object at 0x000002DA790E07D0>, <apps.logic.card.Card object at 0x000002DA7914C0D0>]\n",
      "action :  {'type': 'discard', 'data': {'handNum': 0}}\n",
      "game continue\n",
      "0\n",
      "[<apps.logic.card.Card object at 0x000002DA790E04D0>, <apps.logic.card.Card object at 0x000002DA7914F250>, <apps.logic.card.Card object at 0x000002DA7914C8D0>]\n",
      "action :  {'type': 'discard', 'data': {'handNum': 0}}\n",
      "game continue\n",
      "0\n",
      "[<apps.logic.card.Card object at 0x000002DA790E0AD0>, <apps.logic.card.Card object at 0x000002DA7914E1D0>, <apps.logic.card.Card object at 0x000002DA7914CBD0>]\n",
      "action :  {'type': 'discard', 'data': {'handNum': 0}}\n",
      "game continue\n",
      "0\n",
      "[<apps.logic.card.Card object at 0x000002DA7914EF50>, <apps.logic.card.Card object at 0x000002DA7914D1D0>]\n",
      "action :  {'type': 'discard', 'data': {'handNum': 0}}\n",
      "game continue\n",
      "0\n",
      "[<apps.logic.card.Card object at 0x000002DA790E07D0>, <apps.logic.card.Card object at 0x000002DA7914C0D0>]\n",
      "action :  {'type': 'discard', 'data': {'handNum': 0}}\n",
      "game continue\n",
      "0\n",
      "[<apps.logic.card.Card object at 0x000002DA7914F250>, <apps.logic.card.Card object at 0x000002DA7914C8D0>]\n",
      "action :  {'type': 'discard', 'data': {'handNum': 0}}\n",
      "game continue\n",
      "0\n",
      "[<apps.logic.card.Card object at 0x000002DA7914E1D0>, <apps.logic.card.Card object at 0x000002DA7914CBD0>]\n",
      "action :  {'type': 'discard', 'data': {'handNum': 0}}\n",
      "game continue\n",
      "0\n",
      "[<apps.logic.card.Card object at 0x000002DA7914D1D0>]\n",
      "action :  {'type': 'discard', 'data': {'handNum': 0}}\n",
      "game continue\n",
      "0\n",
      "[<apps.logic.card.Card object at 0x000002DA7914C0D0>]\n",
      "action :  {'type': 'discard', 'data': {'handNum': 0}}\n",
      "game continue\n",
      "0\n",
      "[<apps.logic.card.Card object at 0x000002DA7914C8D0>]\n",
      "action :  {'type': 'discard', 'data': {'handNum': 0}}\n",
      "game continue\n",
      "0\n",
      "[<apps.logic.card.Card object at 0x000002DA7914CBD0>]\n",
      "action :  {'type': 'discard', 'data': {'handNum': 0}}\n",
      "game continue\n",
      "김두현에게 4 금이 배분되었습니다.\n",
      "라운드가 종료되었습니다.\n",
      "게임 시작\n",
      "Board reset\n",
      "home: (10, 5), gold: (12, 13), rock: [(10, 13), (8, 13)]\n",
      "게임이 시작되었습니다.\n",
      "다음 라운드로 넘어갑니다.\n",
      "60\n",
      "[<apps.logic.card.Card object at 0x000002DA790DFCD0>, <apps.logic.card.Card object at 0x000002DA7912ACD0>, <apps.logic.card.Card object at 0x000002DA7912A0D0>, <apps.logic.card.Card object at 0x000002DA790DD350>, <apps.logic.card.Card object at 0x000002DA79128ED0>, <apps.logic.card.Card object at 0x000002DA790DE650>]\n",
      "action :  {'type': 'discard', 'data': {'handNum': 0}}\n",
      "game continue\n",
      "59\n",
      "[<apps.logic.card.Card object at 0x000002DA790DEAD0>, <apps.logic.card.Card object at 0x000002DA7912AB50>, <apps.logic.card.Card object at 0x000002DA790DC550>, <apps.logic.card.Card object at 0x000002DA790DFE50>, <apps.logic.card.Card object at 0x000002DA7912B5D0>, <apps.logic.card.Card object at 0x000002DA790DC250>]\n",
      "action :  {'type': 'discard', 'data': {'handNum': 0}}\n",
      "game continue\n",
      "58\n",
      "[<apps.logic.card.Card object at 0x000002DA791288D0>, <apps.logic.card.Card object at 0x000002DA790DCD50>, <apps.logic.card.Card object at 0x000002DA790DD1D0>, <apps.logic.card.Card object at 0x000002DA79129650>, <apps.logic.card.Card object at 0x000002DA790DE350>, <apps.logic.card.Card object at 0x000002DA7912AFD0>]\n",
      "action :  {'type': 'discard', 'data': {'handNum': 0}}\n",
      "game continue\n",
      "57\n",
      "[<apps.logic.card.Card object at 0x000002DA790DCA50>, <apps.logic.card.Card object at 0x000002DA790DF550>, <apps.logic.card.Card object at 0x000002DA790DF250>, <apps.logic.card.Card object at 0x000002DA790DE950>, <apps.logic.card.Card object at 0x000002DA790DCBD0>, <apps.logic.card.Card object at 0x000002DA7912B8D0>]\n",
      "action :  {'type': 'discard', 'data': {'handNum': 0}}\n",
      "game continue\n",
      "56\n",
      "[<apps.logic.card.Card object at 0x000002DA7912ACD0>, <apps.logic.card.Card object at 0x000002DA7912A0D0>, <apps.logic.card.Card object at 0x000002DA790DD350>, <apps.logic.card.Card object at 0x000002DA79128ED0>, <apps.logic.card.Card object at 0x000002DA790DE650>, <apps.logic.card.Card object at 0x000002DA790DE7D0>]\n",
      "action :  {'type': 'discard', 'data': {'handNum': 0}}\n",
      "game continue\n",
      "55\n",
      "[<apps.logic.card.Card object at 0x000002DA7912AB50>, <apps.logic.card.Card object at 0x000002DA790DC550>, <apps.logic.card.Card object at 0x000002DA790DFE50>, <apps.logic.card.Card object at 0x000002DA7912B5D0>, <apps.logic.card.Card object at 0x000002DA790DC250>, <apps.logic.card.Card object at 0x000002DA7912A250>]\n",
      "action :  {'type': 'discard', 'data': {'handNum': 0}}\n",
      "game continue\n",
      "54\n",
      "[<apps.logic.card.Card object at 0x000002DA790DCD50>, <apps.logic.card.Card object at 0x000002DA790DD1D0>, <apps.logic.card.Card object at 0x000002DA79129650>, <apps.logic.card.Card object at 0x000002DA790DE350>, <apps.logic.card.Card object at 0x000002DA7912AFD0>, <apps.logic.card.Card object at 0x000002DA790DC8D0>]\n",
      "action :  {'type': 'discard', 'data': {'handNum': 0}}\n",
      "game continue\n",
      "53\n",
      "[<apps.logic.card.Card object at 0x000002DA790DF550>, <apps.logic.card.Card object at 0x000002DA790DF250>, <apps.logic.card.Card object at 0x000002DA790DE950>, <apps.logic.card.Card object at 0x000002DA790DCBD0>, <apps.logic.card.Card object at 0x000002DA7912B8D0>, <apps.logic.card.Card object at 0x000002DA790DF6D0>]\n",
      "action :  {'type': 'discard', 'data': {'handNum': 0}}\n",
      "game continue\n",
      "52\n",
      "[<apps.logic.card.Card object at 0x000002DA7912A0D0>, <apps.logic.card.Card object at 0x000002DA790DD350>, <apps.logic.card.Card object at 0x000002DA79128ED0>, <apps.logic.card.Card object at 0x000002DA790DE650>, <apps.logic.card.Card object at 0x000002DA790DE7D0>, <apps.logic.card.Card object at 0x000002DA790DF850>]\n",
      "action :  {'type': 'discard', 'data': {'handNum': 0}}\n",
      "game continue\n",
      "51\n",
      "[<apps.logic.card.Card object at 0x000002DA790DC550>, <apps.logic.card.Card object at 0x000002DA790DFE50>, <apps.logic.card.Card object at 0x000002DA7912B5D0>, <apps.logic.card.Card object at 0x000002DA790DC250>, <apps.logic.card.Card object at 0x000002DA7912A250>, <apps.logic.card.Card object at 0x000002DA790DF0D0>]\n",
      "action :  {'type': 'discard', 'data': {'handNum': 0}}\n",
      "game continue\n",
      "50\n",
      "[<apps.logic.card.Card object at 0x000002DA790DD1D0>, <apps.logic.card.Card object at 0x000002DA79129650>, <apps.logic.card.Card object at 0x000002DA790DE350>, <apps.logic.card.Card object at 0x000002DA7912AFD0>, <apps.logic.card.Card object at 0x000002DA790DC8D0>, <apps.logic.card.Card object at 0x000002DA7912BBD0>]\n",
      "action :  {'type': 'discard', 'data': {'handNum': 0}}\n",
      "game continue\n",
      "49\n",
      "[<apps.logic.card.Card object at 0x000002DA790DF250>, <apps.logic.card.Card object at 0x000002DA790DE950>, <apps.logic.card.Card object at 0x000002DA790DCBD0>, <apps.logic.card.Card object at 0x000002DA7912B8D0>, <apps.logic.card.Card object at 0x000002DA790DF6D0>, <apps.logic.card.Card object at 0x000002DA79128A50>]\n",
      "action :  {'type': 'discard', 'data': {'handNum': 0}}\n",
      "game continue\n",
      "48\n",
      "[<apps.logic.card.Card object at 0x000002DA790DD350>, <apps.logic.card.Card object at 0x000002DA79128ED0>, <apps.logic.card.Card object at 0x000002DA790DE650>, <apps.logic.card.Card object at 0x000002DA790DE7D0>, <apps.logic.card.Card object at 0x000002DA790DF850>, <apps.logic.card.Card object at 0x000002DA790DE1D0>]\n",
      "action :  {'type': 'discard', 'data': {'handNum': 0}}\n",
      "game continue\n",
      "47\n",
      "[<apps.logic.card.Card object at 0x000002DA790DFE50>, <apps.logic.card.Card object at 0x000002DA7912B5D0>, <apps.logic.card.Card object at 0x000002DA790DC250>, <apps.logic.card.Card object at 0x000002DA7912A250>, <apps.logic.card.Card object at 0x000002DA790DF0D0>, <apps.logic.card.Card object at 0x000002DA79129F50>]\n",
      "action :  {'type': 'discard', 'data': {'handNum': 0}}\n",
      "game continue\n",
      "46\n",
      "[<apps.logic.card.Card object at 0x000002DA79129650>, <apps.logic.card.Card object at 0x000002DA790DE350>, <apps.logic.card.Card object at 0x000002DA7912AFD0>, <apps.logic.card.Card object at 0x000002DA790DC8D0>, <apps.logic.card.Card object at 0x000002DA7912BBD0>, <apps.logic.card.Card object at 0x000002DA79129C50>]\n",
      "action :  {'type': 'discard', 'data': {'handNum': 0}}\n",
      "game continue\n",
      "45\n",
      "[<apps.logic.card.Card object at 0x000002DA790DE950>, <apps.logic.card.Card object at 0x000002DA790DCBD0>, <apps.logic.card.Card object at 0x000002DA7912B8D0>, <apps.logic.card.Card object at 0x000002DA790DF6D0>, <apps.logic.card.Card object at 0x000002DA79128A50>, <apps.logic.card.Card object at 0x000002DA791294D0>]\n",
      "action :  {'type': 'discard', 'data': {'handNum': 0}}\n",
      "game continue\n",
      "44\n",
      "[<apps.logic.card.Card object at 0x000002DA79128ED0>, <apps.logic.card.Card object at 0x000002DA790DE650>, <apps.logic.card.Card object at 0x000002DA790DE7D0>, <apps.logic.card.Card object at 0x000002DA790DF850>, <apps.logic.card.Card object at 0x000002DA790DE1D0>, <apps.logic.card.Card object at 0x000002DA7912B2D0>]\n",
      "action :  {'type': 'discard', 'data': {'handNum': 0}}\n",
      "game continue\n",
      "43\n",
      "[<apps.logic.card.Card object at 0x000002DA7912B5D0>, <apps.logic.card.Card object at 0x000002DA790DC250>, <apps.logic.card.Card object at 0x000002DA7912A250>, <apps.logic.card.Card object at 0x000002DA790DF0D0>, <apps.logic.card.Card object at 0x000002DA79129F50>, <apps.logic.card.Card object at 0x000002DA7912A6D0>]\n",
      "action :  {'type': 'discard', 'data': {'handNum': 0}}\n",
      "game continue\n",
      "42\n",
      "[<apps.logic.card.Card object at 0x000002DA790DE350>, <apps.logic.card.Card object at 0x000002DA7912AFD0>, <apps.logic.card.Card object at 0x000002DA790DC8D0>, <apps.logic.card.Card object at 0x000002DA7912BBD0>, <apps.logic.card.Card object at 0x000002DA79129C50>, <apps.logic.card.Card object at 0x000002DA790DDBD0>]\n",
      "action :  {'type': 'discard', 'data': {'handNum': 0}}\n",
      "game continue\n",
      "41\n",
      "[<apps.logic.card.Card object at 0x000002DA790DCBD0>, <apps.logic.card.Card object at 0x000002DA7912B8D0>, <apps.logic.card.Card object at 0x000002DA790DF6D0>, <apps.logic.card.Card object at 0x000002DA79128A50>, <apps.logic.card.Card object at 0x000002DA791294D0>, <apps.logic.card.Card object at 0x000002DA790DC6D0>]\n",
      "action :  {'type': 'discard', 'data': {'handNum': 0}}\n",
      "game continue\n",
      "40\n",
      "[<apps.logic.card.Card object at 0x000002DA790DE650>, <apps.logic.card.Card object at 0x000002DA790DE7D0>, <apps.logic.card.Card object at 0x000002DA790DF850>, <apps.logic.card.Card object at 0x000002DA790DE1D0>, <apps.logic.card.Card object at 0x000002DA7912B2D0>, <apps.logic.card.Card object at 0x000002DA790DD050>]\n",
      "action :  {'type': 'discard', 'data': {'handNum': 0}}\n",
      "game continue\n",
      "39\n",
      "[<apps.logic.card.Card object at 0x000002DA790DC250>, <apps.logic.card.Card object at 0x000002DA7912A250>, <apps.logic.card.Card object at 0x000002DA790DF0D0>, <apps.logic.card.Card object at 0x000002DA79129F50>, <apps.logic.card.Card object at 0x000002DA7912A6D0>, <apps.logic.card.Card object at 0x000002DA791297D0>]\n",
      "action :  {'type': 'discard', 'data': {'handNum': 0}}\n",
      "game continue\n",
      "38\n",
      "[<apps.logic.card.Card object at 0x000002DA7912AFD0>, <apps.logic.card.Card object at 0x000002DA790DC8D0>, <apps.logic.card.Card object at 0x000002DA7912BBD0>, <apps.logic.card.Card object at 0x000002DA79129C50>, <apps.logic.card.Card object at 0x000002DA790DDBD0>, <apps.logic.card.Card object at 0x000002DA7912B750>]\n",
      "action :  {'type': 'discard', 'data': {'handNum': 0}}\n",
      "game continue\n",
      "37\n",
      "[<apps.logic.card.Card object at 0x000002DA7912B8D0>, <apps.logic.card.Card object at 0x000002DA790DF6D0>, <apps.logic.card.Card object at 0x000002DA79128A50>, <apps.logic.card.Card object at 0x000002DA791294D0>, <apps.logic.card.Card object at 0x000002DA790DC6D0>, <apps.logic.card.Card object at 0x000002DA790DCED0>]\n",
      "action :  {'type': 'discard', 'data': {'handNum': 0}}\n",
      "game continue\n",
      "36\n",
      "[<apps.logic.card.Card object at 0x000002DA790DE7D0>, <apps.logic.card.Card object at 0x000002DA790DF850>, <apps.logic.card.Card object at 0x000002DA790DE1D0>, <apps.logic.card.Card object at 0x000002DA7912B2D0>, <apps.logic.card.Card object at 0x000002DA790DD050>, <apps.logic.card.Card object at 0x000002DA790DD8D0>]\n",
      "action :  {'type': 'discard', 'data': {'handNum': 0}}\n",
      "game continue\n",
      "35\n",
      "[<apps.logic.card.Card object at 0x000002DA7912A250>, <apps.logic.card.Card object at 0x000002DA790DF0D0>, <apps.logic.card.Card object at 0x000002DA79129F50>, <apps.logic.card.Card object at 0x000002DA7912A6D0>, <apps.logic.card.Card object at 0x000002DA791297D0>, <apps.logic.card.Card object at 0x000002DA79129950>]\n",
      "action :  {'type': 'discard', 'data': {'handNum': 0}}\n",
      "game continue\n",
      "34\n",
      "[<apps.logic.card.Card object at 0x000002DA790DC8D0>, <apps.logic.card.Card object at 0x000002DA7912BBD0>, <apps.logic.card.Card object at 0x000002DA79129C50>, <apps.logic.card.Card object at 0x000002DA790DDBD0>, <apps.logic.card.Card object at 0x000002DA7912B750>, <apps.logic.card.Card object at 0x000002DA790DEF50>]\n",
      "action :  {'type': 'discard', 'data': {'handNum': 0}}\n",
      "game continue\n",
      "33\n",
      "[<apps.logic.card.Card object at 0x000002DA790DF6D0>, <apps.logic.card.Card object at 0x000002DA79128A50>, <apps.logic.card.Card object at 0x000002DA791294D0>, <apps.logic.card.Card object at 0x000002DA790DC6D0>, <apps.logic.card.Card object at 0x000002DA790DCED0>, <apps.logic.card.Card object at 0x000002DA791285D0>]\n",
      "action :  {'type': 'discard', 'data': {'handNum': 0}}\n",
      "game continue\n",
      "32\n",
      "[<apps.logic.card.Card object at 0x000002DA790DF850>, <apps.logic.card.Card object at 0x000002DA790DE1D0>, <apps.logic.card.Card object at 0x000002DA7912B2D0>, <apps.logic.card.Card object at 0x000002DA790DD050>, <apps.logic.card.Card object at 0x000002DA790DD8D0>, <apps.logic.card.Card object at 0x000002DA791291D0>]\n",
      "action :  {'type': 'discard', 'data': {'handNum': 0}}\n",
      "game continue\n",
      "31\n",
      "[<apps.logic.card.Card object at 0x000002DA790DF0D0>, <apps.logic.card.Card object at 0x000002DA79129F50>, <apps.logic.card.Card object at 0x000002DA7912A6D0>, <apps.logic.card.Card object at 0x000002DA791297D0>, <apps.logic.card.Card object at 0x000002DA79129950>, <apps.logic.card.Card object at 0x000002DA7912A550>]\n",
      "action :  {'type': 'discard', 'data': {'handNum': 0}}\n",
      "game continue\n",
      "30\n",
      "[<apps.logic.card.Card object at 0x000002DA7912BBD0>, <apps.logic.card.Card object at 0x000002DA79129C50>, <apps.logic.card.Card object at 0x000002DA790DDBD0>, <apps.logic.card.Card object at 0x000002DA7912B750>, <apps.logic.card.Card object at 0x000002DA790DEF50>, <apps.logic.card.Card object at 0x000002DA7912A850>]\n",
      "action :  {'type': 'discard', 'data': {'handNum': 0}}\n",
      "game continue\n",
      "29\n",
      "[<apps.logic.card.Card object at 0x000002DA79128A50>, <apps.logic.card.Card object at 0x000002DA791294D0>, <apps.logic.card.Card object at 0x000002DA790DC6D0>, <apps.logic.card.Card object at 0x000002DA790DCED0>, <apps.logic.card.Card object at 0x000002DA791285D0>, <apps.logic.card.Card object at 0x000002DA790DEDD0>]\n",
      "action :  {'type': 'discard', 'data': {'handNum': 0}}\n",
      "game continue\n",
      "28\n",
      "[<apps.logic.card.Card object at 0x000002DA790DE1D0>, <apps.logic.card.Card object at 0x000002DA7912B2D0>, <apps.logic.card.Card object at 0x000002DA790DD050>, <apps.logic.card.Card object at 0x000002DA790DD8D0>, <apps.logic.card.Card object at 0x000002DA791291D0>, <apps.logic.card.Card object at 0x000002DA79128D50>]\n",
      "action :  {'type': 'discard', 'data': {'handNum': 0}}\n",
      "game continue\n",
      "27\n",
      "[<apps.logic.card.Card object at 0x000002DA79129F50>, <apps.logic.card.Card object at 0x000002DA7912A6D0>, <apps.logic.card.Card object at 0x000002DA791297D0>, <apps.logic.card.Card object at 0x000002DA79129950>, <apps.logic.card.Card object at 0x000002DA7912A550>, <apps.logic.card.Card object at 0x000002DA790DC850>]\n",
      "action :  {'type': 'discard', 'data': {'handNum': 0}}\n",
      "game continue\n",
      "26\n",
      "[<apps.logic.card.Card object at 0x000002DA79129C50>, <apps.logic.card.Card object at 0x000002DA790DDBD0>, <apps.logic.card.Card object at 0x000002DA7912B750>, <apps.logic.card.Card object at 0x000002DA790DEF50>, <apps.logic.card.Card object at 0x000002DA7912A850>, <apps.logic.card.Card object at 0x000002DA790DE050>]\n",
      "action :  {'type': 'discard', 'data': {'handNum': 0}}\n",
      "game continue\n",
      "25\n",
      "[<apps.logic.card.Card object at 0x000002DA791294D0>, <apps.logic.card.Card object at 0x000002DA790DC6D0>, <apps.logic.card.Card object at 0x000002DA790DCED0>, <apps.logic.card.Card object at 0x000002DA791285D0>, <apps.logic.card.Card object at 0x000002DA790DEDD0>, <apps.logic.card.Card object at 0x000002DA790DFB50>]\n",
      "action :  {'type': 'discard', 'data': {'handNum': 0}}\n",
      "game continue\n",
      "24\n",
      "[<apps.logic.card.Card object at 0x000002DA7912B2D0>, <apps.logic.card.Card object at 0x000002DA790DD050>, <apps.logic.card.Card object at 0x000002DA790DD8D0>, <apps.logic.card.Card object at 0x000002DA791291D0>, <apps.logic.card.Card object at 0x000002DA79128D50>, <apps.logic.card.Card object at 0x000002DA79157150>]\n",
      "action :  {'type': 'discard', 'data': {'handNum': 0}}\n",
      "game continue\n",
      "23\n",
      "[<apps.logic.card.Card object at 0x000002DA7912A6D0>, <apps.logic.card.Card object at 0x000002DA791297D0>, <apps.logic.card.Card object at 0x000002DA79129950>, <apps.logic.card.Card object at 0x000002DA7912A550>, <apps.logic.card.Card object at 0x000002DA790DC850>, <apps.logic.card.Card object at 0x000002DA7912AE50>]\n",
      "action :  {'type': 'discard', 'data': {'handNum': 0}}\n",
      "game continue\n",
      "22\n",
      "[<apps.logic.card.Card object at 0x000002DA790DDBD0>, <apps.logic.card.Card object at 0x000002DA7912B750>, <apps.logic.card.Card object at 0x000002DA790DEF50>, <apps.logic.card.Card object at 0x000002DA7912A850>, <apps.logic.card.Card object at 0x000002DA790DE050>, <apps.logic.card.Card object at 0x000002DA7913A450>]\n",
      "action :  {'type': 'discard', 'data': {'handNum': 0}}\n",
      "game continue\n",
      "21\n",
      "[<apps.logic.card.Card object at 0x000002DA790DC6D0>, <apps.logic.card.Card object at 0x000002DA790DCED0>, <apps.logic.card.Card object at 0x000002DA791285D0>, <apps.logic.card.Card object at 0x000002DA790DEDD0>, <apps.logic.card.Card object at 0x000002DA790DFB50>, <apps.logic.card.Card object at 0x000002DA79129050>]\n",
      "action :  {'type': 'discard', 'data': {'handNum': 0}}\n",
      "game continue\n",
      "20\n",
      "[<apps.logic.card.Card object at 0x000002DA790DD050>, <apps.logic.card.Card object at 0x000002DA790DD8D0>, <apps.logic.card.Card object at 0x000002DA791291D0>, <apps.logic.card.Card object at 0x000002DA79128D50>, <apps.logic.card.Card object at 0x000002DA79157150>, <apps.logic.card.Card object at 0x000002DA790DD750>]\n",
      "action :  {'type': 'discard', 'data': {'handNum': 0}}\n",
      "game continue\n",
      "19\n",
      "[<apps.logic.card.Card object at 0x000002DA791297D0>, <apps.logic.card.Card object at 0x000002DA79129950>, <apps.logic.card.Card object at 0x000002DA7912A550>, <apps.logic.card.Card object at 0x000002DA790DC850>, <apps.logic.card.Card object at 0x000002DA7912AE50>, <apps.logic.card.Card object at 0x000002DA790DDD50>]\n",
      "action :  {'type': 'discard', 'data': {'handNum': 0}}\n",
      "game continue\n",
      "18\n",
      "[<apps.logic.card.Card object at 0x000002DA7912B750>, <apps.logic.card.Card object at 0x000002DA790DEF50>, <apps.logic.card.Card object at 0x000002DA7912A850>, <apps.logic.card.Card object at 0x000002DA790DE050>, <apps.logic.card.Card object at 0x000002DA7913A450>, <apps.logic.card.Card object at 0x000002DA7912A3D0>]\n",
      "action :  {'type': 'discard', 'data': {'handNum': 0}}\n",
      "game continue\n",
      "17\n",
      "[<apps.logic.card.Card object at 0x000002DA790DCED0>, <apps.logic.card.Card object at 0x000002DA791285D0>, <apps.logic.card.Card object at 0x000002DA790DEDD0>, <apps.logic.card.Card object at 0x000002DA790DFB50>, <apps.logic.card.Card object at 0x000002DA79129050>, <apps.logic.card.Card object at 0x000002DA79128BD0>]\n",
      "action :  {'type': 'discard', 'data': {'handNum': 0}}\n",
      "game continue\n",
      "16\n",
      "[<apps.logic.card.Card object at 0x000002DA790DD8D0>, <apps.logic.card.Card object at 0x000002DA791291D0>, <apps.logic.card.Card object at 0x000002DA79128D50>, <apps.logic.card.Card object at 0x000002DA79157150>, <apps.logic.card.Card object at 0x000002DA790DD750>, <apps.logic.card.Card object at 0x000002DA790DE4D0>]\n",
      "action :  {'type': 'discard', 'data': {'handNum': 0}}\n",
      "game continue\n",
      "15\n",
      "[<apps.logic.card.Card object at 0x000002DA79129950>, <apps.logic.card.Card object at 0x000002DA7912A550>, <apps.logic.card.Card object at 0x000002DA790DC850>, <apps.logic.card.Card object at 0x000002DA7912AE50>, <apps.logic.card.Card object at 0x000002DA790DDD50>, <apps.logic.card.Card object at 0x000002DA79129AD0>]\n",
      "action :  {'type': 'discard', 'data': {'handNum': 0}}\n",
      "game continue\n",
      "14\n",
      "[<apps.logic.card.Card object at 0x000002DA790DEF50>, <apps.logic.card.Card object at 0x000002DA7912A850>, <apps.logic.card.Card object at 0x000002DA790DE050>, <apps.logic.card.Card object at 0x000002DA7913A450>, <apps.logic.card.Card object at 0x000002DA7912A3D0>, <apps.logic.card.Card object at 0x000002DA7913A5D0>]\n",
      "action :  {'type': 'discard', 'data': {'handNum': 0}}\n",
      "game continue\n",
      "13\n",
      "[<apps.logic.card.Card object at 0x000002DA791285D0>, <apps.logic.card.Card object at 0x000002DA790DEDD0>, <apps.logic.card.Card object at 0x000002DA790DFB50>, <apps.logic.card.Card object at 0x000002DA79129050>, <apps.logic.card.Card object at 0x000002DA79128BD0>, <apps.logic.card.Card object at 0x000002DA7912B150>]\n",
      "action :  {'type': 'discard', 'data': {'handNum': 0}}\n",
      "game continue\n",
      "12\n",
      "[<apps.logic.card.Card object at 0x000002DA791291D0>, <apps.logic.card.Card object at 0x000002DA79128D50>, <apps.logic.card.Card object at 0x000002DA79157150>, <apps.logic.card.Card object at 0x000002DA790DD750>, <apps.logic.card.Card object at 0x000002DA790DE4D0>, <apps.logic.card.Card object at 0x000002DA790DDED0>]\n",
      "action :  {'type': 'discard', 'data': {'handNum': 0}}\n",
      "game continue\n",
      "11\n",
      "[<apps.logic.card.Card object at 0x000002DA7912A550>, <apps.logic.card.Card object at 0x000002DA790DC850>, <apps.logic.card.Card object at 0x000002DA7912AE50>, <apps.logic.card.Card object at 0x000002DA790DDD50>, <apps.logic.card.Card object at 0x000002DA79129AD0>, <apps.logic.card.Card object at 0x000002DA790DF9D0>]\n",
      "action :  {'type': 'discard', 'data': {'handNum': 0}}\n",
      "game continue\n",
      "10\n",
      "[<apps.logic.card.Card object at 0x000002DA7912A850>, <apps.logic.card.Card object at 0x000002DA790DE050>, <apps.logic.card.Card object at 0x000002DA7913A450>, <apps.logic.card.Card object at 0x000002DA7912A3D0>, <apps.logic.card.Card object at 0x000002DA7913A5D0>, <apps.logic.card.Card object at 0x000002DA790DC3D0>]\n",
      "action :  {'type': 'discard', 'data': {'handNum': 0}}\n",
      "game continue\n",
      "9\n",
      "[<apps.logic.card.Card object at 0x000002DA790DEDD0>, <apps.logic.card.Card object at 0x000002DA790DFB50>, <apps.logic.card.Card object at 0x000002DA79129050>, <apps.logic.card.Card object at 0x000002DA79128BD0>, <apps.logic.card.Card object at 0x000002DA7912B150>, <apps.logic.card.Card object at 0x000002DA7912A9D0>]\n",
      "action :  {'type': 'discard', 'data': {'handNum': 0}}\n",
      "game continue\n",
      "8\n",
      "[<apps.logic.card.Card object at 0x000002DA79128D50>, <apps.logic.card.Card object at 0x000002DA79157150>, <apps.logic.card.Card object at 0x000002DA790DD750>, <apps.logic.card.Card object at 0x000002DA790DE4D0>, <apps.logic.card.Card object at 0x000002DA790DDED0>, <apps.logic.card.Card object at 0x000002DA790DC0D0>]\n",
      "action :  {'type': 'discard', 'data': {'handNum': 0}}\n",
      "game continue\n",
      "7\n",
      "[<apps.logic.card.Card object at 0x000002DA790DC850>, <apps.logic.card.Card object at 0x000002DA7912AE50>, <apps.logic.card.Card object at 0x000002DA790DDD50>, <apps.logic.card.Card object at 0x000002DA79129AD0>, <apps.logic.card.Card object at 0x000002DA790DF9D0>, <apps.logic.card.Card object at 0x000002DA79128750>]\n",
      "action :  {'type': 'discard', 'data': {'handNum': 0}}\n",
      "game continue\n",
      "6\n",
      "[<apps.logic.card.Card object at 0x000002DA790DE050>, <apps.logic.card.Card object at 0x000002DA7913A450>, <apps.logic.card.Card object at 0x000002DA7912A3D0>, <apps.logic.card.Card object at 0x000002DA7913A5D0>, <apps.logic.card.Card object at 0x000002DA790DC3D0>, <apps.logic.card.Card object at 0x000002DA790DDA50>]\n",
      "action :  {'type': 'discard', 'data': {'handNum': 0}}\n",
      "game continue\n",
      "5\n",
      "[<apps.logic.card.Card object at 0x000002DA790DFB50>, <apps.logic.card.Card object at 0x000002DA79129050>, <apps.logic.card.Card object at 0x000002DA79128BD0>, <apps.logic.card.Card object at 0x000002DA7912B150>, <apps.logic.card.Card object at 0x000002DA7912A9D0>, <apps.logic.card.Card object at 0x000002DA790DD5D0>]\n",
      "action :  {'type': 'discard', 'data': {'handNum': 0}}\n",
      "game continue\n",
      "4\n",
      "[<apps.logic.card.Card object at 0x000002DA79157150>, <apps.logic.card.Card object at 0x000002DA790DD750>, <apps.logic.card.Card object at 0x000002DA790DE4D0>, <apps.logic.card.Card object at 0x000002DA790DDED0>, <apps.logic.card.Card object at 0x000002DA790DC0D0>, <apps.logic.card.Card object at 0x000002DA790DEC50>]\n",
      "action :  {'type': 'discard', 'data': {'handNum': 0}}\n",
      "game continue\n",
      "3\n",
      "[<apps.logic.card.Card object at 0x000002DA7912AE50>, <apps.logic.card.Card object at 0x000002DA790DDD50>, <apps.logic.card.Card object at 0x000002DA79129AD0>, <apps.logic.card.Card object at 0x000002DA790DF9D0>, <apps.logic.card.Card object at 0x000002DA79128750>, <apps.logic.card.Card object at 0x000002DA790DF3D0>]\n",
      "action :  {'type': 'discard', 'data': {'handNum': 0}}\n",
      "game continue\n",
      "2\n",
      "[<apps.logic.card.Card object at 0x000002DA7913A450>, <apps.logic.card.Card object at 0x000002DA7912A3D0>, <apps.logic.card.Card object at 0x000002DA7913A5D0>, <apps.logic.card.Card object at 0x000002DA790DC3D0>, <apps.logic.card.Card object at 0x000002DA790DDA50>, <apps.logic.card.Card object at 0x000002DA7912B450>]\n",
      "action :  {'type': 'discard', 'data': {'handNum': 0}}\n",
      "game continue\n",
      "1\n",
      "[<apps.logic.card.Card object at 0x000002DA79129050>, <apps.logic.card.Card object at 0x000002DA79128BD0>, <apps.logic.card.Card object at 0x000002DA7912B150>, <apps.logic.card.Card object at 0x000002DA7912A9D0>, <apps.logic.card.Card object at 0x000002DA790DD5D0>, <apps.logic.card.Card object at 0x000002DA79129350>]\n",
      "action :  {'type': 'discard', 'data': {'handNum': 0}}\n",
      "game continue\n",
      "0\n",
      "[<apps.logic.card.Card object at 0x000002DA790DD750>, <apps.logic.card.Card object at 0x000002DA790DE4D0>, <apps.logic.card.Card object at 0x000002DA790DDED0>, <apps.logic.card.Card object at 0x000002DA790DC0D0>, <apps.logic.card.Card object at 0x000002DA790DEC50>, <apps.logic.card.Card object at 0x000002DA7912BA50>]\n",
      "action :  {'type': 'discard', 'data': {'handNum': 0}}\n",
      "game continue\n",
      "0\n",
      "[<apps.logic.card.Card object at 0x000002DA790DDD50>, <apps.logic.card.Card object at 0x000002DA79129AD0>, <apps.logic.card.Card object at 0x000002DA790DF9D0>, <apps.logic.card.Card object at 0x000002DA79128750>, <apps.logic.card.Card object at 0x000002DA790DF3D0>, <apps.logic.card.Card object at 0x000002DA7912BD50>]\n",
      "action :  {'type': 'discard', 'data': {'handNum': 0}}\n",
      "game continue\n",
      "0\n",
      "[<apps.logic.card.Card object at 0x000002DA7912A3D0>, <apps.logic.card.Card object at 0x000002DA7913A5D0>, <apps.logic.card.Card object at 0x000002DA790DC3D0>, <apps.logic.card.Card object at 0x000002DA790DDA50>, <apps.logic.card.Card object at 0x000002DA7912B450>, <apps.logic.card.Card object at 0x000002DA7913A2D0>]\n",
      "action :  {'type': 'discard', 'data': {'handNum': 0}}\n",
      "game continue\n",
      "0\n",
      "[<apps.logic.card.Card object at 0x000002DA79128BD0>, <apps.logic.card.Card object at 0x000002DA7912B150>, <apps.logic.card.Card object at 0x000002DA7912A9D0>, <apps.logic.card.Card object at 0x000002DA790DD5D0>, <apps.logic.card.Card object at 0x000002DA79129350>, <apps.logic.card.Card object at 0x000002DA79129DD0>]\n",
      "action :  {'type': 'discard', 'data': {'handNum': 0}}\n",
      "game continue\n",
      "0\n",
      "[<apps.logic.card.Card object at 0x000002DA790DE4D0>, <apps.logic.card.Card object at 0x000002DA790DDED0>, <apps.logic.card.Card object at 0x000002DA790DC0D0>, <apps.logic.card.Card object at 0x000002DA790DEC50>, <apps.logic.card.Card object at 0x000002DA7912BA50>]\n",
      "action :  {'type': 'discard', 'data': {'handNum': 0}}\n",
      "game continue\n",
      "0\n",
      "[<apps.logic.card.Card object at 0x000002DA79129AD0>, <apps.logic.card.Card object at 0x000002DA790DF9D0>, <apps.logic.card.Card object at 0x000002DA79128750>, <apps.logic.card.Card object at 0x000002DA790DF3D0>, <apps.logic.card.Card object at 0x000002DA7912BD50>]\n",
      "action :  {'type': 'discard', 'data': {'handNum': 0}}\n",
      "game continue\n",
      "0\n",
      "[<apps.logic.card.Card object at 0x000002DA7913A5D0>, <apps.logic.card.Card object at 0x000002DA790DC3D0>, <apps.logic.card.Card object at 0x000002DA790DDA50>, <apps.logic.card.Card object at 0x000002DA7912B450>, <apps.logic.card.Card object at 0x000002DA7913A2D0>]\n",
      "action :  {'type': 'discard', 'data': {'handNum': 0}}\n",
      "game continue\n",
      "0\n",
      "[<apps.logic.card.Card object at 0x000002DA7912B150>, <apps.logic.card.Card object at 0x000002DA7912A9D0>, <apps.logic.card.Card object at 0x000002DA790DD5D0>, <apps.logic.card.Card object at 0x000002DA79129350>, <apps.logic.card.Card object at 0x000002DA79129DD0>]\n",
      "action :  {'type': 'discard', 'data': {'handNum': 0}}\n",
      "game continue\n",
      "0\n",
      "[<apps.logic.card.Card object at 0x000002DA790DDED0>, <apps.logic.card.Card object at 0x000002DA790DC0D0>, <apps.logic.card.Card object at 0x000002DA790DEC50>, <apps.logic.card.Card object at 0x000002DA7912BA50>]\n",
      "action :  {'type': 'discard', 'data': {'handNum': 0}}\n",
      "game continue\n",
      "0\n",
      "[<apps.logic.card.Card object at 0x000002DA790DF9D0>, <apps.logic.card.Card object at 0x000002DA79128750>, <apps.logic.card.Card object at 0x000002DA790DF3D0>, <apps.logic.card.Card object at 0x000002DA7912BD50>]\n",
      "action :  {'type': 'discard', 'data': {'handNum': 0}}\n",
      "game continue\n",
      "0\n",
      "[<apps.logic.card.Card object at 0x000002DA790DC3D0>, <apps.logic.card.Card object at 0x000002DA790DDA50>, <apps.logic.card.Card object at 0x000002DA7912B450>, <apps.logic.card.Card object at 0x000002DA7913A2D0>]\n",
      "action :  {'type': 'discard', 'data': {'handNum': 0}}\n",
      "game continue\n",
      "0\n",
      "[<apps.logic.card.Card object at 0x000002DA7912A9D0>, <apps.logic.card.Card object at 0x000002DA790DD5D0>, <apps.logic.card.Card object at 0x000002DA79129350>, <apps.logic.card.Card object at 0x000002DA79129DD0>]\n",
      "action :  {'type': 'discard', 'data': {'handNum': 0}}\n",
      "game continue\n",
      "0\n",
      "[<apps.logic.card.Card object at 0x000002DA790DC0D0>, <apps.logic.card.Card object at 0x000002DA790DEC50>, <apps.logic.card.Card object at 0x000002DA7912BA50>]\n",
      "action :  {'type': 'discard', 'data': {'handNum': 0}}\n",
      "game continue\n",
      "0\n",
      "[<apps.logic.card.Card object at 0x000002DA79128750>, <apps.logic.card.Card object at 0x000002DA790DF3D0>, <apps.logic.card.Card object at 0x000002DA7912BD50>]\n",
      "action :  {'type': 'discard', 'data': {'handNum': 0}}\n",
      "game continue\n",
      "0\n",
      "[<apps.logic.card.Card object at 0x000002DA790DDA50>, <apps.logic.card.Card object at 0x000002DA7912B450>, <apps.logic.card.Card object at 0x000002DA7913A2D0>]\n",
      "action :  {'type': 'discard', 'data': {'handNum': 0}}\n",
      "game continue\n",
      "0\n",
      "[<apps.logic.card.Card object at 0x000002DA790DD5D0>, <apps.logic.card.Card object at 0x000002DA79129350>, <apps.logic.card.Card object at 0x000002DA79129DD0>]\n",
      "action :  {'type': 'discard', 'data': {'handNum': 0}}\n",
      "game continue\n",
      "0\n",
      "[<apps.logic.card.Card object at 0x000002DA790DEC50>, <apps.logic.card.Card object at 0x000002DA7912BA50>]\n",
      "action :  {'type': 'discard', 'data': {'handNum': 0}}\n",
      "game continue\n",
      "0\n",
      "[<apps.logic.card.Card object at 0x000002DA790DF3D0>, <apps.logic.card.Card object at 0x000002DA7912BD50>]\n",
      "action :  {'type': 'discard', 'data': {'handNum': 0}}\n",
      "game continue\n",
      "0\n",
      "[<apps.logic.card.Card object at 0x000002DA7912B450>, <apps.logic.card.Card object at 0x000002DA7913A2D0>]\n",
      "action :  {'type': 'discard', 'data': {'handNum': 0}}\n",
      "game continue\n",
      "0\n",
      "[<apps.logic.card.Card object at 0x000002DA79129350>, <apps.logic.card.Card object at 0x000002DA79129DD0>]\n",
      "action :  {'type': 'discard', 'data': {'handNum': 0}}\n",
      "game continue\n",
      "0\n",
      "[<apps.logic.card.Card object at 0x000002DA7912BA50>]\n",
      "action :  {'type': 'discard', 'data': {'handNum': 0}}\n",
      "game continue\n",
      "0\n",
      "[<apps.logic.card.Card object at 0x000002DA7912BD50>]\n",
      "action :  {'type': 'discard', 'data': {'handNum': 0}}\n",
      "game continue\n",
      "0\n",
      "[<apps.logic.card.Card object at 0x000002DA7913A2D0>]\n",
      "action :  {'type': 'discard', 'data': {'handNum': 0}}\n",
      "game continue\n",
      "0\n",
      "[<apps.logic.card.Card object at 0x000002DA79129DD0>]\n",
      "action :  {'type': 'discard', 'data': {'handNum': 0}}\n",
      "game continue\n",
      "조남훈에게 4 금이 배분되었습니다.\n",
      "금 순위: [('조남훈', 4), ('김두현', 4), ('김재훈', 4), ('김도훈', 0)]\n",
      "0\n"
     ]
    }
   ],
   "source": [
    "result = [{}]\n",
    "while result[-1].get(\"type\")!=\"game_end\":\n",
    "    print(game.players[game.currentPlayer].hand)\n",
    "    result = game.action(game.currentPlayer,{\"type\":\"discard\",\"data\":{\"handNum\":0}})\n",
    "    # print(game.action(game.currentPlayer,{\"type\":\"discard\",\"data\":{\"handNum\":0}}))\n",
    "    print(len(game.cards))\n"
   ]
  },
  {
   "cell_type": "code",
   "execution_count": 4,
   "metadata": {},
   "outputs": [
    {
     "name": "stdout",
     "output_type": "stream",
     "text": [
      "{'player': '김재훈', 'target': 'all', 'type': 'discard', 'data': {'handNum': 0}}\n",
      "{'player': '김재훈', 'target': '김재훈', 'type': 'error', 'data': '모든 패가 소진되었습니다.'}\n",
      "{'player': '김도훈', 'target': 'all', 'type': 'round_end', 'data': {'winner': 'saboteur', 'roles': {'김도훈': 'worker', '조남훈': 'saboteur', '김두현': 'worker', '김재훈': 'worker'}}}\n",
      "{'player': '김도훈', 'target': '조남훈', 'type': 'getGold', 'data': {'gold': 4}}\n",
      "{'player': '김도훈', 'target': 'all', 'type': 'game_end', 'data': {'rank': {'김도훈': 0, '조남훈': 4, '김두현': 4, '김재훈': 4}}}\n"
     ]
    }
   ],
   "source": [
    "for i in result:\n",
    "    print(i)"
   ]
  },
  {
   "cell_type": "code",
   "execution_count": 180,
   "metadata": {},
   "outputs": [],
   "source": [
    "# game.board.activeHasPath(game.board.path,game.board.home,game.board.rock[1])"
   ]
  },
  {
   "cell_type": "code",
   "execution_count": 181,
   "metadata": {},
   "outputs": [],
   "source": [
    "# game.players[\"김두현\"].limit[\"pickaxe\"]=False"
   ]
  },
  {
   "cell_type": "code",
   "execution_count": null,
   "metadata": {},
   "outputs": [
    {
     "name": "stdout",
     "output_type": "stream",
     "text": [
      "path:  [(10, 5), (10, 6)]\n",
      "path:  [(10, 5), (10, 6), (10, 7)]\n",
      "path:  [(10, 5), (10, 6), (10, 7), (10, 8)]\n",
      "path:  [(10, 5), (10, 6), (10, 7), (10, 8), (10, 9)]\n",
      "path:  [(10, 5), (10, 6), (10, 7), (10, 8), (10, 9), (10, 10)]\n",
      "path:  [(10, 5), (10, 6), (10, 7), (10, 8), (10, 9), (10, 10), (10, 11)]\n"
     ]
    },
    {
     "data": {
      "text/plain": [
       "True"
      ]
     },
     "execution_count": 182,
     "metadata": {},
     "output_type": "execute_result"
    }
   ],
   "source": [
    "game.board.addCard(Card(3),10,6)\n",
    "game.board.addCard(Card(3),10,7)\n",
    "game.board.addCard(Card(3),10,8)\n",
    "game.board.addCard(Card(3),10,9)\n",
    "game.board.addCard(Card(3),10,10)\n",
    "game.board.addCard(Card(3),10,11)\n",
    "game.board.addCard(Card(3),10,12)\n",
    "# game.board.addCard(Card(3),10,12)\n"
   ]
  },
  {
   "cell_type": "code",
   "execution_count": 183,
   "metadata": {},
   "outputs": [
    {
     "name": "stdout",
     "output_type": "stream",
     "text": [
      "action :  {'type': 'discard', 'data': {'handNum': 1}}\n",
      "game continue\n"
     ]
    },
    {
     "data": {
      "text/plain": [
       "[{'player': '김도훈', 'target': 'all', 'type': 'discard', 'data': {'handNum': 1}},\n",
       " {'player': '김도훈', 'target': '김도훈', 'type': 'drawCard', 'data': {'card': 7}},\n",
       " {'player': '김두현', 'target': 'all', 'type': 'turn_change', 'data': '김두현'}]"
      ]
     },
     "execution_count": 183,
     "metadata": {},
     "output_type": "execute_result"
    }
   ],
   "source": [
    "game.action(game.currentPlayer,{\"type\":\"discard\",\"data\":{\"handNum\":1}})\n",
    "\n",
    "# game.action(game.currentPlayer,{\"type\":\"reversePath\",\"data\":{\"handNum\":0}})\n",
    "# show_hand()"
   ]
  },
  {
   "cell_type": "code",
   "execution_count": 184,
   "metadata": {},
   "outputs": [
    {
     "name": "stdout",
     "output_type": "stream",
     "text": [
      "current player : 김두현 {'mineCart': False, 'pickaxe': False, 'lantern': False}\n",
      "0 : <apps.logic.card.Card object at 0x00000200FF9D7350>\n",
      "type :  viewMap\n",
      "info :  viewMap\n",
      "1 : <apps.logic.card.Card object at 0x00000200FF9975D0>\n",
      "┏-----┓\n",
      "|     |\n",
      "┣-----┫\n",
      "|     |\n",
      "┕-----┚\n",
      "2 : <apps.logic.card.Card object at 0x00000200FFA05350>\n",
      "┏--┳--┓\n",
      "|  |  |\n",
      "┣-- --┫\n",
      "|  |  |\n",
      "┕--┻--┚\n",
      "3 : <apps.logic.card.Card object at 0x00000200FFA072D0>\n",
      "type :  sabotage\n",
      "info :  lantern\n",
      "4 : <apps.logic.card.Card object at 0x00000200FFA07D50>\n",
      "type :  repair\n",
      "info :  ['lantern']\n",
      "5 : <apps.logic.card.Card object at 0x00000200FFA051D0>\n",
      "┏--┳--┓\n",
      "|  |  |\n",
      "┣-- --┫\n",
      "|  |  |\n",
      "┕--┻--┚\n"
     ]
    }
   ],
   "source": [
    "show_hand()\n"
   ]
  },
  {
   "cell_type": "code",
   "execution_count": 185,
   "metadata": {},
   "outputs": [
    {
     "name": "stdout",
     "output_type": "stream",
     "text": [
      "action :  {'type': 'path', 'data': {'x': 10, 'y': 12, 'handNum': 3}}\n",
      "error at right\n",
      "error nearPathVerification\n",
      "game continue\n"
     ]
    },
    {
     "data": {
      "text/plain": [
       "[{'player': '김두현',\n",
       "  'target': '김두현',\n",
       "  'type': 'error',\n",
       "  'data': '주변 카드가 조건을 만족하지 않습니다.'}]"
      ]
     },
     "execution_count": 185,
     "metadata": {},
     "output_type": "execute_result"
    }
   ],
   "source": [
    "game.action(game.currentPlayer,{\"type\":\"path\",\"data\":{\"x\":10,\"y\":12,\"handNum\":3}})"
   ]
  },
  {
   "cell_type": "code",
   "execution_count": 186,
   "metadata": {},
   "outputs": [
    {
     "name": "stdout",
     "output_type": "stream",
     "text": [
      "action :  {'type': 'path', 'data': {'x': 9, 'y': 13, 'handNum': 2}}\n",
      "error totalPathVerification\n",
      "game continue\n"
     ]
    },
    {
     "data": {
      "text/plain": [
       "[{'player': '김두현', 'target': '김두현', 'type': 'error', 'data': '카드가 연결되지 않습니다.'}]"
      ]
     },
     "execution_count": 186,
     "metadata": {},
     "output_type": "execute_result"
    }
   ],
   "source": [
    "game.action(game.currentPlayer,{\"type\":\"path\",\"data\":{\"x\":9,\"y\":13,\"handNum\":2}})"
   ]
  },
  {
   "cell_type": "code",
   "execution_count": 187,
   "metadata": {},
   "outputs": [
    {
     "data": {
      "text/plain": [
       "1"
      ]
     },
     "execution_count": 187,
     "metadata": {},
     "output_type": "execute_result"
    }
   ],
   "source": [
    "game.currentRound"
   ]
  },
  {
   "cell_type": "code",
   "execution_count": 188,
   "metadata": {},
   "outputs": [
    {
     "name": "stdout",
     "output_type": "stream",
     "text": [
      "action :  {'type': 'rockFail', 'data': {'x': 10, 'y': 6, 'handNum': 2}}\n",
      "game continue\n"
     ]
    },
    {
     "data": {
      "text/plain": [
       "[{'player': '김두현',\n",
       "  'target': 'all',\n",
       "  'type': 'rockFail',\n",
       "  'data': {'x': 10, 'y': 6}},\n",
       " {'player': '김두현', 'target': '김두현', 'type': 'drawCard', 'data': {'card': 12}},\n",
       " {'player': '김재훈', 'target': 'all', 'type': 'turn_change', 'data': '김재훈'}]"
      ]
     },
     "execution_count": 188,
     "metadata": {},
     "output_type": "execute_result"
    }
   ],
   "source": [
    "game.action(game.currentPlayer,{\"type\":\"rockFail\",\"data\":{\"x\":10,\"y\":6,\"handNum\":2}})"
   ]
  },
  {
   "cell_type": "code",
   "execution_count": 189,
   "metadata": {},
   "outputs": [],
   "source": [
    "from copy import deepcopy\n",
    "backup_game = deepcopy(game)"
   ]
  },
  {
   "cell_type": "code",
   "execution_count": 190,
   "metadata": {},
   "outputs": [],
   "source": [
    "game.board = backup_game.board"
   ]
  },
  {
   "cell_type": "code",
   "execution_count": 100,
   "metadata": {},
   "outputs": [
    {
     "name": "stdout",
     "output_type": "stream",
     "text": [
      "action :  {'type': 'discard', 'data': {'handNum': 0}}\n",
      "[<card.Card object at 0x1188d00b0>, <card.Card object at 0x1188cbf80>, <card.Card object at 0x1188845f0>, <card.Card object at 0x1188cb2f0>, <card.Card object at 0x1188d04d0>, <card.Card object at 0x1188d02f0>]\n"
     ]
    },
    {
     "data": {
      "text/plain": [
       "[{'type': 'discard', 'data': {'handNum': 0}},\n",
       " {'type': 'drawCard', 'data': {'card': <card.Card at 0x1188cba10>}},\n",
       " {'type': 'turn_change', 'data': '김두현'}]"
      ]
     },
     "execution_count": 100,
     "metadata": {},
     "output_type": "execute_result"
    }
   ],
   "source": [
    "game.action(game.currentPlayer,{\"type\":\"discard\",\"data\":{\"handNum\":0}})\n"
   ]
  },
  {
   "cell_type": "code",
   "execution_count": null,
   "metadata": {},
   "outputs": [
    {
     "data": {
      "text/plain": [
       "'{\"type\": \"discard\", \"data\": {\"handNum\": 0}}'"
      ]
     },
     "execution_count": 4,
     "metadata": {},
     "output_type": "execute_result"
    }
   ],
   "source": [
    "import json\n",
    "code = {\"type\":\"discard\",\"data\":{\"handNum\":0}}\n",
    "str_code = json.dumps(code, ensure_ascii=False)\n",
    "str_code\n",
    "{\"type\": \"path\", \"data\": {\"x\": 10, \"y\": 6, \"handNum\": 2}}\n",
    "{\"type\": \"discard\", \"data\": {\"handNum\": 0}}\n"
   ]
  },
  {
   "cell_type": "code",
   "execution_count": 82,
   "metadata": {},
   "outputs": [
    {
     "name": "stdout",
     "output_type": "stream",
     "text": [
      "action :  {'type': 'viewMap', 'data': {'x': 10, 'y': 13, 'handNum': 0}}\n",
      "[<card.Card object at 0x118447cb0>, <card.Card object at 0x118fd6930>, <card.Card object at 0x118444b00>, <card.Card object at 0x118446570>, <card.Card object at 0x118e97560>, <card.Card object at 0x118e96750>]\n"
     ]
    },
    {
     "data": {
      "text/plain": [
       "[{'target': 'all', 'type': 'viewMap', 'data': {'target': (10, 13)}},\n",
       " {'target': '조남훈', 'type': 'viewMap', 'data': {'cardType': 'rock'}},\n",
       " {'target': '조남훈', 'type': 'drawCard', 'data': {'card': 13}},\n",
       " {'target': 'all', 'type': 'turn_change', 'data': '김도훈'}]"
      ]
     },
     "execution_count": 82,
     "metadata": {},
     "output_type": "execute_result"
    }
   ],
   "source": [
    "game.action(game.currentPlayer,{\"type\":\"viewMap\",\"data\":{\"x\":10,\"y\":13,\"handNum\":0}})"
   ]
  },
  {
   "cell_type": "code",
   "execution_count": 74,
   "metadata": {},
   "outputs": [
    {
     "name": "stdout",
     "output_type": "stream",
     "text": [
      "action :  {'type': 'reversePath', 'data': {'handNum': 4}}\n",
      "[<card.Card object at 0x1188333e0>, <card.Card object at 0x1160631d0>, <card.Card object at 0x1188cbe60>, <card.Card object at 0x118833890>, <card.Card object at 0x1188cb8c0>, <card.Card object at 0x1188cb020>]\n"
     ]
    },
    {
     "data": {
      "text/plain": [
       "[{'type': 'reversePath',\n",
       "  'data': {'x': None, 'y': None, 'card': <card.Card at 0x1188cb8c0>}}]"
      ]
     },
     "execution_count": 74,
     "metadata": {},
     "output_type": "execute_result"
    }
   ],
   "source": [
    "game.action(game.currentPlayer,{\"type\":\"reversePath\",\"data\":{\"handNum\":4}})"
   ]
  },
  {
   "cell_type": "code",
   "execution_count": 103,
   "metadata": {},
   "outputs": [
    {
     "name": "stdout",
     "output_type": "stream",
     "text": [
      "action :  {'type': 'sabotage', 'data': {'target': '김두현', 'handNum': 3}}\n",
      "[<card.Card object at 0x1188cbb00>, <card.Card object at 0x1188d0290>, <card.Card object at 0x1188cabd0>, <card.Card object at 0x1188cbf20>, <card.Card object at 0x1188d0080>, <card.Card object at 0x1188d0170>]\n"
     ]
    },
    {
     "data": {
      "text/plain": [
       "[{'type': 'saboteur', 'data': {'target': '김두현', 'cardType': 'pickax'}},\n",
       " {'type': 'turn_change', 'data': '김도훈'}]"
      ]
     },
     "execution_count": 103,
     "metadata": {},
     "output_type": "execute_result"
    }
   ],
   "source": [
    "game.action(game.currentPlayer,{\"type\":\"sabotage\",\"data\":{\"target\":\"김두현\",\"handNum\":3}})"
   ]
  },
  {
   "cell_type": "code",
   "execution_count": 111,
   "metadata": {},
   "outputs": [
    {
     "name": "stdout",
     "output_type": "stream",
     "text": [
      "action :  {'type': 'repair', 'data': {'target': '김재훈', 'handNum': 5}}\n",
      "[<card.Card object at 0x1188cbb00>, <card.Card object at 0x1188d0290>, <card.Card object at 0x1188cabd0>, <card.Card object at 0x1188cbf20>, <card.Card object at 0x1188d0080>, <card.Card object at 0x1188d0170>]\n"
     ]
    },
    {
     "data": {
      "text/plain": [
       "[{'type': 'repair', 'data': {'target': '김재훈', 'cardType': ['pickax']}},\n",
       " {'type': 'turn_change', 'data': '김도훈'}]"
      ]
     },
     "execution_count": 111,
     "metadata": {},
     "output_type": "execute_result"
    }
   ],
   "source": [
    "game.action(game.currentPlayer,{\"type\":\"repair\",\"data\":{\"target\":\"김재훈\",\"handNum\":5}})"
   ]
  },
  {
   "cell_type": "code",
   "execution_count": 20,
   "metadata": {},
   "outputs": [
    {
     "name": "stdout",
     "output_type": "stream",
     "text": [
      "action :  {'type': 'discard', 'data': {'handNum': 4}}\n",
      "[<card.Card object at 0x115ffea20>, <card.Card object at 0x115ffe660>, <card.Card object at 0x115fce2a0>, <card.Card object at 0x115fce1e0>, <card.Card object at 0x115ffc4d0>]\n"
     ]
    },
    {
     "data": {
      "text/plain": [
       "[{'type': 'discard', 'data': {'handNum': 4}},\n",
       " {'type': 'drawCard', 'data': {'card': <card.Card at 0x115ffc260>}},\n",
       " {'type': 'turn_change', 'data': '김재훈'}]"
      ]
     },
     "execution_count": 20,
     "metadata": {},
     "output_type": "execute_result"
    }
   ],
   "source": [
    "game.action(game.currentPlayer, {\"type\":\"discard\",\"data\":{\"handNum\":4}})"
   ]
  },
  {
   "cell_type": "code",
   "execution_count": 149,
   "metadata": {},
   "outputs": [
    {
     "name": "stdout",
     "output_type": "stream",
     "text": [
      "action :  {'type': 'path', 'data': {'x': 10, 'y': 6, 'handNum': 3}}\n",
      "[<card.Card object at 0x1188d0350>, <card.Card object at 0x1188d0230>, <card.Card object at 0x1188cafc0>, <card.Card object at 0x1188cb830>, <card.Card object at 0x1188cb410>, <card.Card object at 0x1188cbda0>]\n",
      "(1, 0)\n",
      "(2, 0)\n",
      "(4, 0)\n",
      "[((7, 13), (8, 13)), ((8, 6), (9, 6)), ((8, 12), (8, 13)), ((8, 13), (8, 14)), ((8, 13), (9, 13)), ((9, 5), (10, 5)), ((9, 6), (9, 7)), ((9, 13), (10, 13)), ((10, 4), (10, 5)), ((10, 5), (11, 5)), ((10, 12), (10, 13)), ((10, 13), (10, 14)), ((10, 13), (11, 13)), ((11, 13), (12, 13)), ((12, 12), (12, 13)), ((12, 13), (12, 14)), ((12, 13), (13, 13))]\n",
      "error totalPathVerification\n",
      "Result :  (False, 'error totalPathVerification')\n"
     ]
    },
    {
     "data": {
      "text/plain": [
       "[{'type': 'error', 'data': 'error totalPathVerification'}]"
      ]
     },
     "execution_count": 149,
     "metadata": {},
     "output_type": "execute_result"
    }
   ],
   "source": [
    "game.action(game.currentPlayer,{\"type\":\"path\",\"data\":{\"x\":10,\"y\":6,\"handNum\":3}})"
   ]
  },
  {
   "cell_type": "code",
   "execution_count": 24,
   "metadata": {},
   "outputs": [],
   "source": [
    "game.players[game.currentPlayer].hand[3].reversePathCard()"
   ]
  },
  {
   "cell_type": "code",
   "execution_count": 26,
   "metadata": {},
   "outputs": [
    {
     "name": "stdout",
     "output_type": "stream",
     "text": [
      "action :  {'type': 'path', 'data': {'x': 10, 'y': 6, 'handNum': 3}}\n",
      "[<card.Card object at 0x1128156a0>, <card.Card object at 0x112814fe0>, <card.Card object at 0x1128159d0>, <card.Card object at 0x112814cb0>, <card.Card object at 0x1128152b0>]\n"
     ]
    },
    {
     "data": {
      "text/plain": [
       "[{'type': 'error', 'data': '장비가 제한된 상태입니다.'}]"
      ]
     },
     "execution_count": 26,
     "metadata": {},
     "output_type": "execute_result"
    }
   ],
   "source": [
    "game.action(game.currentPlayer,{\"type\":\"path\",\"data\":{\"x\":10,\"y\":6,\"handNum\":3}})"
   ]
  },
  {
   "cell_type": "code",
   "execution_count": 6,
   "metadata": {},
   "outputs": [
    {
     "name": "stdout",
     "output_type": "stream",
     "text": [
      "current player : 송하영\n",
      "0 : <card.Card object at 0x10d1eefc0>\n",
      "┏--┳--┓\n",
      "|  |  |\n",
      "┣-- --┫\n",
      "|     |\n",
      "┕-----┚\n",
      "1 : <card.Card object at 0x10d1ef7d0>\n",
      "type :  repair\n",
      "info :  ['mineCart', 'lentern']\n",
      "2 : <card.Card object at 0x10d1ef5c0>\n",
      "type :  sabotage\n",
      "info :  pickax\n",
      "3 : <card.Card object at 0x10d1eee40>\n",
      "┏--┳--┓\n",
      "|  |  |\n",
      "|   --┫\n",
      "|  |  |\n",
      "┕--┻--┚\n",
      "4 : <card.Card object at 0x10d1ee6f0>\n",
      "┏--┳--┓\n",
      "|  |  |\n",
      "┣--┻--┫\n",
      "|     |\n",
      "┕-----┚\n"
     ]
    }
   ],
   "source": [
    "show_hand()"
   ]
  },
  {
   "cell_type": "code",
   "execution_count": 9,
   "metadata": {},
   "outputs": [],
   "source": [
    "game.players[game.currentPlayer].hand[0].reversePathCard()"
   ]
  },
  {
   "cell_type": "code",
   "execution_count": 15,
   "metadata": {},
   "outputs": [
    {
     "name": "stdout",
     "output_type": "stream",
     "text": [
      "action :  {'type': 'path', 'data': {'x': 11, 'y': 5, 'handNum': 4}}\n",
      "[<card.Card object at 0x1108ca420>, <card.Card object at 0x1108ca5a0>, <card.Card object at 0x1108ca810>, <card.Card object at 0x112fe31a0>, <card.Card object at 0x1108c9f70>]\n",
      "(1, 2, 3)\n",
      "[((7, 13), (8, 13)), ((8, 12), (8, 13)), ((8, 13), (8, 14)), ((8, 13), (9, 13)), ((9, 5), (10, 5)), ((9, 13), (10, 13)), ((10, 4), (10, 5)), ((10, 5), (10, 6)), ((10, 5), (11, 5)), ((10, 12), (10, 13)), ((10, 13), (10, 14)), ((10, 13), (11, 13)), ((11, 5), (11, 6)), ((11, 5), (12, 5)), ((11, 13), (12, 13)), ((12, 12), (12, 13)), ((12, 13), (12, 14)), ((12, 13), (13, 13))]\n",
      "path:  [(10, 5), (11, 5)]\n",
      "Result :  True\n"
     ]
    },
    {
     "data": {
      "text/plain": [
       "[{'type': 'path',\n",
       "  'data': {'x': 11, 'y': 5, 'card': <card.Card at 0x1108c9f70>}},\n",
       " {'type': 'turn_change', 'data': '김도훈'}]"
      ]
     },
     "execution_count": 15,
     "metadata": {},
     "output_type": "execute_result"
    }
   ],
   "source": [
    "game.action(game.currentPlayer,{\"type\":\"path\",\"data\":{\"x\":11,\"y\":5,\"handNum\":4}})"
   ]
  },
  {
   "cell_type": "code",
   "execution_count": 16,
   "metadata": {},
   "outputs": [
    {
     "name": "stdout",
     "output_type": "stream",
     "text": [
      "current player : 김도훈\n",
      "0 : <card.Card object at 0x112fe2840>\n",
      "┏--┳--┓\n",
      "|  |  |\n",
      "┣-- --┫\n",
      "|  |  |\n",
      "┕--┻--┚\n",
      "1 : <card.Card object at 0x112fe2e10>\n",
      "type :  sabotage\n",
      "info :  pickax\n",
      "2 : <card.Card object at 0x1108c9b80>\n",
      "┏--┳--┓\n",
      "|  |  |\n",
      "|  |  |\n",
      "|  |  |\n",
      "┕--┻--┚\n",
      "3 : <card.Card object at 0x1106ba300>\n",
      "┏--┳--┓\n",
      "|  |  |\n",
      "|     |\n",
      "|  |  |\n",
      "┕--┻--┚\n",
      "4 : <card.Card object at 0x1108ca960>\n",
      "┏--┳--┓\n",
      "|  |  |\n",
      "┣--   |\n",
      "|     |\n",
      "┕-----┚\n"
     ]
    }
   ],
   "source": [
    "show_hand()"
   ]
  },
  {
   "cell_type": "code",
   "execution_count": null,
   "metadata": {},
   "outputs": [],
   "source": [
    "game.players[game.currentPlayer].hand[0].reversePathCard()"
   ]
  },
  {
   "cell_type": "code",
   "execution_count": null,
   "metadata": {},
   "outputs": [
    {
     "name": "stdout",
     "output_type": "stream",
     "text": [
      "action :  {'type': 'path', 'data': {'x': 10, 'y': 6, 'handNum': 0}}\n",
      "[<card.Card object at 0x1108ca480>, <card.Card object at 0x112fe3020>, <card.Card object at 0x1108ca330>, <card.Card object at 0x1108ca6c0>, <card.Card object at 0x1108caa50>]\n",
      "(3, 0)\n",
      "(4, 0)\n",
      "(1, 0)\n",
      "[((7, 13), (8, 13)), ((8, 12), (8, 13)), ((8, 13), (8, 14)), ((8, 13), (9, 13)), ((9, 5), (10, 5)), ((9, 13), (10, 13)), ((10, 4), (10, 5)), ((10, 5), (10, 6)), ((10, 5), (11, 5)), ((10, 12), (10, 13)), ((10, 13), (10, 14)), ((10, 13), (11, 13)), ((11, 13), (12, 13)), ((12, 12), (12, 13)), ((12, 13), (12, 14)), ((12, 13), (13, 13))]\n",
      "path:  [(10, 5), (10, 6)]\n",
      "Result :  True\n"
     ]
    },
    {
     "data": {
      "text/plain": [
       "[{'type': 'path',\n",
       "  'data': {'x': 10, 'y': 6, 'card': <card.Card at 0x1108ca480>}},\n",
       " {'type': 'turn_change', 'data': '김두현'}]"
      ]
     },
     "metadata": {},
     "output_type": "display_data"
    }
   ],
   "source": [
    "game.action(game.currentPlayer,{\"type\":\"path\",\"data\":{\"x\":10,\"y\":6,\"handNum\":0}})"
   ]
  },
  {
   "cell_type": "code",
   "execution_count": null,
   "metadata": {},
   "outputs": [
    {
     "data": {
      "text/plain": [
       "[(8, 13), (10, 5), (10, 6), (10, 13), (12, 13)]"
      ]
     },
     "execution_count": 24,
     "metadata": {},
     "output_type": "execute_result"
    }
   ],
   "source": [
    "[n for n,attr in game.board.path.nodes(data=True) if attr.get(\"active\") == True]"
   ]
  },
  {
   "cell_type": "code",
   "execution_count": 34,
   "metadata": {},
   "outputs": [
    {
     "data": {
      "text/plain": [
       "EdgeView([((7, 13), (8, 13)), ((8, 12), (8, 13)), ((8, 13), (8, 14)), ((8, 13), (9, 13)), ((9, 5), (10, 5)), ((9, 13), (10, 13)), ((10, 4), (10, 5)), ((10, 5), (10, 6)), ((10, 5), (11, 5)), ((10, 12), (10, 13)), ((10, 13), (10, 14)), ((10, 13), (11, 13)), ((11, 13), (12, 13)), ((12, 12), (12, 13)), ((12, 13), (12, 14)), ((12, 13), (13, 13))])"
      ]
     },
     "execution_count": 34,
     "metadata": {},
     "output_type": "execute_result"
    }
   ],
   "source": [
    "game.board.path.edges"
   ]
  },
  {
   "cell_type": "code",
   "execution_count": null,
   "metadata": {},
   "outputs": [],
   "source": []
  },
  {
   "cell_type": "code",
   "execution_count": null,
   "metadata": {},
   "outputs": [
    {
     "ename": "AttributeError",
     "evalue": "'AtlasView' object has no attribute 'edges'",
     "output_type": "error",
     "traceback": [
      "\u001b[0;31m---------------------------------------------------------------------------\u001b[0m",
      "\u001b[0;31mAttributeError\u001b[0m                            Traceback (most recent call last)",
      "Cell \u001b[0;32mIn[12], line 2\u001b[0m\n\u001b[1;32m      1\u001b[0m path \u001b[38;5;241m=\u001b[39m game\u001b[38;5;241m.\u001b[39mboard\u001b[38;5;241m.\u001b[39mpath[(\u001b[38;5;241m10\u001b[39m,\u001b[38;5;241m6\u001b[39m)]\n\u001b[0;32m----> 2\u001b[0m \u001b[43mpath\u001b[49m\u001b[38;5;241;43m.\u001b[39;49m\u001b[43medges\u001b[49m()\n",
      "\u001b[0;31mAttributeError\u001b[0m: 'AtlasView' object has no attribute 'edges'"
     ]
    }
   ],
   "source": [
    "path = game.board.path[(10,6)]\n",
    "\n",
    "path.edges()\n"
   ]
  },
  {
   "cell_type": "code",
   "execution_count": null,
   "metadata": {},
   "outputs": [],
   "source": []
  },
  {
   "cell_type": "code",
   "execution_count": null,
   "metadata": {},
   "outputs": [],
   "source": []
  },
  {
   "cell_type": "code",
   "execution_count": null,
   "metadata": {},
   "outputs": [],
   "source": [
    "print(list(path.edges))"
   ]
  },
  {
   "cell_type": "code",
   "execution_count": null,
   "metadata": {},
   "outputs": [],
   "source": []
  },
  {
   "cell_type": "code",
   "execution_count": null,
   "metadata": {},
   "outputs": [],
   "source": []
  },
  {
   "cell_type": "code",
   "execution_count": null,
   "metadata": {},
   "outputs": [],
   "source": []
  },
  {
   "cell_type": "code",
   "execution_count": null,
   "metadata": {},
   "outputs": [],
   "source": []
  },
  {
   "cell_type": "code",
   "execution_count": null,
   "metadata": {},
   "outputs": [],
   "source": []
  },
  {
   "cell_type": "code",
   "execution_count": 7,
   "metadata": {},
   "outputs": [
    {
     "name": "stdout",
     "output_type": "stream",
     "text": [
      "current player : 송하영\n",
      "0 : <card.Card object at 0x11305af90>\n",
      "┏--┳--┓\n",
      "|  |  |\n",
      "┣--   |\n",
      "|     |\n",
      "┕-----┚\n",
      "1 : <card.Card object at 0x11305a450>\n",
      "┏--┳--┓\n",
      "|  |  |\n",
      "|  ┣--┫\n",
      "|  |  |\n",
      "┕--┻--┚\n",
      "2 : <card.Card object at 0x11305a510>\n",
      "┏--┳--┓\n",
      "|  |  |\n",
      "┣--┻--┫\n",
      "|     |\n",
      "┕-----┚\n",
      "3 : <card.Card object at 0x11305a690>\n",
      "┏-----┓\n",
      "|     |\n",
      "┣-----┫\n",
      "|     |\n",
      "┕-----┚\n",
      "4 : <card.Card object at 0x10dd6afc0>\n",
      "┏-----┓\n",
      "|     |\n",
      "|   --┫\n",
      "|     |\n",
      "┕-----┚\n"
     ]
    }
   ],
   "source": [
    "show_hand()"
   ]
  },
  {
   "cell_type": "code",
   "execution_count": 8,
   "metadata": {},
   "outputs": [],
   "source": [
    "game.players[game.currentPlayer].hand[0].reversePathCard()"
   ]
  },
  {
   "cell_type": "code",
   "execution_count": 9,
   "metadata": {},
   "outputs": [
    {
     "name": "stdout",
     "output_type": "stream",
     "text": [
      "current player : 송하영\n",
      "0 : <card.Card object at 0x11305af90>\n",
      "┏-----┓\n",
      "|     |\n",
      "|   --┫\n",
      "|  |  |\n",
      "┕--┻--┚\n",
      "1 : <card.Card object at 0x11305a450>\n",
      "┏--┳--┓\n",
      "|  |  |\n",
      "|  ┣--┫\n",
      "|  |  |\n",
      "┕--┻--┚\n",
      "2 : <card.Card object at 0x11305a510>\n",
      "┏--┳--┓\n",
      "|  |  |\n",
      "┣--┻--┫\n",
      "|     |\n",
      "┕-----┚\n",
      "3 : <card.Card object at 0x11305a690>\n",
      "┏-----┓\n",
      "|     |\n",
      "┣-----┫\n",
      "|     |\n",
      "┕-----┚\n",
      "4 : <card.Card object at 0x10dd6afc0>\n",
      "┏-----┓\n",
      "|     |\n",
      "|   --┫\n",
      "|     |\n",
      "┕-----┚\n"
     ]
    }
   ],
   "source": [
    "show_hand()"
   ]
  },
  {
   "cell_type": "code",
   "execution_count": 11,
   "metadata": {},
   "outputs": [
    {
     "name": "stdout",
     "output_type": "stream",
     "text": [
      "action :  {'type': 'path', 'data': {'x': 10, 'y': 7, 'handNum': 0}}\n",
      "[<card.Card object at 0x11305af90>, <card.Card object at 0x11305a450>, <card.Card object at 0x11305a510>, <card.Card object at 0x11305a690>, <card.Card object at 0x10dd6afc0>]\n",
      "error totalPathVerification\n",
      "Result :  (False, 'error totalPathVerification')\n"
     ]
    },
    {
     "data": {
      "text/plain": [
       "[{'type': 'error', 'data': 'error totalPathVerification'}]"
      ]
     },
     "execution_count": 11,
     "metadata": {},
     "output_type": "execute_result"
    }
   ],
   "source": [
    "game.action(game.currentPlayer,{\"type\":\"path\",\"data\":{\"x\":10,\"y\":7,\"handNum\":0}})"
   ]
  },
  {
   "cell_type": "code",
   "execution_count": 15,
   "metadata": {},
   "outputs": [
    {
     "name": "stdout",
     "output_type": "stream",
     "text": [
      "action :  {'type': 'path', 'data': {'x': 9, 'y': 6, 'handNum': 0}}\n",
      "[<card.Card object at 0x11305af90>, <card.Card object at 0x11305a450>, <card.Card object at 0x11305a510>, <card.Card object at 0x11305a690>, <card.Card object at 0x10dd6afc0>]\n",
      "error totalPathVerification\n",
      "Result :  (False, 'error totalPathVerification')\n"
     ]
    },
    {
     "data": {
      "text/plain": [
       "[{'type': 'error', 'data': 'error totalPathVerification'}]"
      ]
     },
     "execution_count": 15,
     "metadata": {},
     "output_type": "execute_result"
    }
   ],
   "source": [
    "game.action(game.currentPlayer,{\"type\":\"path\",\"data\":{\"x\":9,\"y\":6,\"handNum\":0}})"
   ]
  },
  {
   "cell_type": "code",
   "execution_count": null,
   "metadata": {},
   "outputs": [
    {
     "name": "stdout",
     "output_type": "stream",
     "text": [
      "action :  {'type': 'path', 'data': {'x': 10, 'y': 6, 'card': 3}}\n",
      "{'type': 'path', 'info': [(1, 2, 3, 4), False], 'map': array([['┏', '-', '-', '┳', '-', '-', '┓'],\n",
      "       ['|', ' ', ' ', '|', ' ', ' ', '|'],\n",
      "       ['┣', '-', '-', '╋', '-', '-', '┫'],\n",
      "       ['|', ' ', ' ', '|', ' ', ' ', '|'],\n",
      "       ['┕', '-', '-', '┻', '-', '-', '┚']], dtype='<U1')}\n",
      "Result :  True\n"
     ]
    },
    {
     "data": {
      "text/plain": [
       "[{'type': 'path', 'data': {'x': 10, 'y': 6, 'card': 3}},\n",
       " {'type': 'turn_change', 'data': 1}]"
      ]
     },
     "metadata": {},
     "output_type": "display_data"
    }
   ],
   "source": [
    "game.action(0,{\"type\":\"path\",\"data\":{\"x\":10,\"y\":6,\"card\":3}})"
   ]
  },
  {
   "cell_type": "code",
   "execution_count": null,
   "metadata": {},
   "outputs": [
    {
     "data": {
      "text/plain": [
       "1"
      ]
     },
     "metadata": {},
     "output_type": "display_data"
    }
   ],
   "source": [
    "game.current_player"
   ]
  },
  {
   "cell_type": "code",
   "execution_count": null,
   "metadata": {},
   "outputs": [
    {
     "data": {
      "text/plain": [
       "[{'type': 'error', 'data': 'not your turn'}]"
      ]
     },
     "metadata": {},
     "output_type": "display_data"
    }
   ],
   "source": [
    "game.action(0,{\"type\":\"path\",\"data\":{\"x\":10,\"y\":6,\"card\":3}})"
   ]
  },
  {
   "cell_type": "code",
   "execution_count": null,
   "metadata": {},
   "outputs": [
    {
     "name": "stdout",
     "output_type": "stream",
     "text": [
      "action :  {'type': 'path', 'data': {'x': 10, 'y': 6, 'card': 3}}\n",
      "{'type': 'path', 'info': [(1, 2, 3, 4), False], 'map': array([['┏', '-', '-', '┳', '-', '-', '┓'],\n",
      "       ['|', ' ', ' ', '|', ' ', ' ', '|'],\n",
      "       ['┣', '-', '-', '╋', '-', '-', '┫'],\n",
      "       ['|', ' ', ' ', '|', ' ', ' ', '|'],\n",
      "       ['┕', '-', '-', '┻', '-', '-', '┚']], dtype='<U1')}\n",
      "Result :  (False, 'error emptyVerification')\n"
     ]
    },
    {
     "data": {
      "text/plain": [
       "[{'type': 'error', 'data': 'error emptyVerification'}]"
      ]
     },
     "metadata": {},
     "output_type": "display_data"
    }
   ],
   "source": [
    "game.action(1,{\"type\":\"path\",\"data\":{\"x\":10,\"y\":6,\"card\":3}})"
   ]
  },
  {
   "cell_type": "code",
   "execution_count": null,
   "metadata": {},
   "outputs": [
    {
     "name": "stdout",
     "output_type": "stream",
     "text": [
      "action :  {'type': 'path', 'data': {'x': 10, 'y': 7, 'card': 3}}\n",
      "{'type': 'path', 'info': [(1, 2, 3, 4), False], 'map': array([['┏', '-', '-', '┳', '-', '-', '┓'],\n",
      "       ['|', ' ', ' ', '|', ' ', ' ', '|'],\n",
      "       ['┣', '-', '-', '╋', '-', '-', '┫'],\n",
      "       ['|', ' ', ' ', '|', ' ', ' ', '|'],\n",
      "       ['┕', '-', '-', '┻', '-', '-', '┚']], dtype='<U1')}\n",
      "Result :  True\n"
     ]
    },
    {
     "data": {
      "text/plain": [
       "[{'type': 'path', 'data': {'x': 10, 'y': 7, 'card': 3}},\n",
       " {'type': 'turn_change', 'data': 2}]"
      ]
     },
     "metadata": {},
     "output_type": "display_data"
    }
   ],
   "source": [
    "game.action(1,{\"type\":\"path\",\"data\":{\"x\":10,\"y\":7,\"card\":3}})"
   ]
  },
  {
   "cell_type": "code",
   "execution_count": null,
   "metadata": {},
   "outputs": [
    {
     "name": "stdout",
     "output_type": "stream",
     "text": [
      "action :  {'type': 'path', 'data': {'x': 10, 'y': 7, 'card': 3}}\n",
      "{'type': 'path', 'info': [(1, 2, 3, 4), False], 'map': array([['┏', '-', '-', '┳', '-', '-', '┓'],\n",
      "       ['|', ' ', ' ', '|', ' ', ' ', '|'],\n",
      "       ['┣', '-', '-', '╋', '-', '-', '┫'],\n",
      "       ['|', ' ', ' ', '|', ' ', ' ', '|'],\n",
      "       ['┕', '-', '-', '┻', '-', '-', '┚']], dtype='<U1')}\n",
      "Result :  (False, 'error emptyVerification')\n"
     ]
    },
    {
     "data": {
      "text/plain": [
       "[{'type': 'error', 'data': 'error emptyVerification'}]"
      ]
     },
     "metadata": {},
     "output_type": "display_data"
    }
   ],
   "source": [
    "game.action(2,{\"type\":\"path\",\"data\":{\"x\":10,\"y\":7,\"card\":3}})"
   ]
  },
  {
   "cell_type": "code",
   "execution_count": null,
   "metadata": {},
   "outputs": [
    {
     "name": "stdout",
     "output_type": "stream",
     "text": [
      "{'type': 'path', 'info': [(0, 0), False], 'map': array([[' ', ' ', ' ', ' ', ' ', ' ', ' '],\n",
      "       [' ', ' ', ' ', ' ', ' ', ' ', ' '],\n",
      "       [' ', ' ', ' ', ' ', ' ', ' ', ' '],\n",
      "       [' ', ' ', ' ', ' ', ' ', ' ', ' '],\n",
      "       [' ', ' ', ' ', ' ', ' ', ' ', ' ']], dtype='<U1')}\n"
     ]
    },
    {
     "data": {
      "text/plain": [
       "True"
      ]
     },
     "metadata": {},
     "output_type": "display_data"
    }
   ],
   "source": [
    "game.board.rockFail(10,7)"
   ]
  },
  {
   "cell_type": "code",
   "execution_count": null,
   "metadata": {},
   "outputs": [
    {
     "name": "stdout",
     "output_type": "stream",
     "text": [
      "action :  {'type': 'path', 'data': {'x': 10, 'y': 7, 'card': 3}}\n",
      "{'type': 'path', 'info': [(1, 2, 3, 4), False], 'map': array([['┏', '-', '-', '┳', '-', '-', '┓'],\n",
      "       ['|', ' ', ' ', '|', ' ', ' ', '|'],\n",
      "       ['┣', '-', '-', '╋', '-', '-', '┫'],\n",
      "       ['|', ' ', ' ', '|', ' ', ' ', '|'],\n",
      "       ['┕', '-', '-', '┻', '-', '-', '┚']], dtype='<U1')}\n",
      "Result :  (False, 'error emptyVerification')\n"
     ]
    },
    {
     "data": {
      "text/plain": [
       "[{'type': 'error', 'data': 'error emptyVerification'}]"
      ]
     },
     "metadata": {},
     "output_type": "display_data"
    }
   ],
   "source": [
    "game.action(3,{\"type\":\"path\",\"data\":{\"x\":10,\"y\":7,\"card\":3}})"
   ]
  },
  {
   "cell_type": "code",
   "execution_count": null,
   "metadata": {},
   "outputs": [
    {
     "name": "stdout",
     "output_type": "stream",
     "text": [
      "action :  {'type': 'rockFail', 'data': {'x': 10, 'y': 6}}\n",
      "{'type': 'path', 'info': [(0, 0), False], 'map': array([[' ', ' ', ' ', ' ', ' ', ' ', ' '],\n",
      "       [' ', ' ', ' ', ' ', ' ', ' ', ' '],\n",
      "       [' ', ' ', ' ', ' ', ' ', ' ', ' '],\n",
      "       [' ', ' ', ' ', ' ', ' ', ' ', ' '],\n",
      "       [' ', ' ', ' ', ' ', ' ', ' ', ' ']], dtype='<U1')}\n"
     ]
    },
    {
     "data": {
      "text/plain": [
       "[{'type': 'rockFail', 'data': {'x': 10, 'y': 6}},\n",
       " {'type': 'turn_change', 'data': 3}]"
      ]
     },
     "metadata": {},
     "output_type": "display_data"
    }
   ],
   "source": [
    "game.action(2,{\"type\":\"rockFail\",\"data\":{\"x\":10,\"y\":6}})"
   ]
  },
  {
   "cell_type": "code",
   "execution_count": null,
   "metadata": {},
   "outputs": [
    {
     "data": {
      "text/plain": [
       "[{'type': 'error', 'data': 'not your turn'}]"
      ]
     },
     "metadata": {},
     "output_type": "display_data"
    }
   ],
   "source": [
    "game.action(5,{\"type\":\"path\",\"data\":{\"x\":10,\"y\":6,\"card\":3}})"
   ]
  },
  {
   "cell_type": "code",
   "execution_count": null,
   "metadata": {},
   "outputs": [
    {
     "name": "stdout",
     "output_type": "stream",
     "text": [
      "                                                                                                                                                                               \n",
      "                                                                                                                                                                               \n",
      "( 0, 0) ( 0, 1) ( 0, 2) ( 0, 3) ( 0, 4) ( 0, 5) ( 0, 6) ( 0, 7) ( 0, 8) ( 0, 9) ( 0,10) ( 0,11) ( 0,12) ( 0,13) ( 0,14) ( 0,15) ( 0,16) ( 0,17) ( 0,18) ( 0,19) ( 0,20) ( 0,21)\n",
      "                                                                                                                                                                               \n",
      "                                                                                                                                                                               \n",
      "                                                                                                                                                                               \n",
      "                                                                                                                                                                               \n",
      "( 1, 0) ( 1, 1) ( 1, 2) ( 1, 3) ( 1, 4) ( 1, 5) ( 1, 6) ( 1, 7) ( 1, 8) ( 1, 9) ( 1,10) ( 1,11) ( 1,12) ( 1,13) ( 1,14) ( 1,15) ( 1,16) ( 1,17) ( 1,18) ( 1,19) ( 1,20) ( 1,21)\n",
      "                                                                                                                                                                               \n",
      "                                                                                                                                                                               \n",
      "                                                                                                                                                                               \n",
      "                                                                                                                                                                               \n",
      "( 2, 0) ( 2, 1) ( 2, 2) ( 2, 3) ( 2, 4) ( 2, 5) ( 2, 6) ( 2, 7) ( 2, 8) ( 2, 9) ( 2,10) ( 2,11) ( 2,12) ( 2,13) ( 2,14) ( 2,15) ( 2,16) ( 2,17) ( 2,18) ( 2,19) ( 2,20) ( 2,21)\n",
      "                                                                                                                                                                               \n",
      "                                                                                                                                                                               \n",
      "                                                                                                                                                                               \n",
      "                                                                                                                                                                               \n",
      "( 3, 0) ( 3, 1) ( 3, 2) ( 3, 3) ( 3, 4) ( 3, 5) ( 3, 6) ( 3, 7) ( 3, 8) ( 3, 9) ( 3,10) ( 3,11) ( 3,12) ( 3,13) ( 3,14) ( 3,15) ( 3,16) ( 3,17) ( 3,18) ( 3,19) ( 3,20) ( 3,21)\n",
      "                                                                                                                                                                               \n",
      "                                                                                                                                                                               \n",
      "                                                                                                                                                                               \n",
      "                                                                                                                                                                               \n",
      "( 4, 0) ( 4, 1) ( 4, 2) ( 4, 3) ( 4, 4) ( 4, 5) ( 4, 6) ( 4, 7) ( 4, 8) ( 4, 9) ( 4,10) ( 4,11) ( 4,12) ( 4,13) ( 4,14) ( 4,15) ( 4,16) ( 4,17) ( 4,18) ( 4,19) ( 4,20) ( 4,21)\n",
      "                                                                                                                                                                               \n",
      "                                                                                                                                                                               \n",
      "                                                                                                                                                                               \n",
      "                                                                                                                                                                               \n",
      "( 5, 0) ( 5, 1) ( 5, 2) ( 5, 3) ( 5, 4) ( 5, 5) ( 5, 6) ( 5, 7) ( 5, 8) ( 5, 9) ( 5,10) ( 5,11) ( 5,12) ( 5,13) ( 5,14) ( 5,15) ( 5,16) ( 5,17) ( 5,18) ( 5,19) ( 5,20) ( 5,21)\n",
      "                                                                                                                                                                               \n",
      "                                                                                                                                                                               \n",
      "                                                                                                                                                                               \n",
      "                                                                                                                                                                               \n",
      "( 6, 0) ( 6, 1) ( 6, 2) ( 6, 3) ( 6, 4) ( 6, 5) ( 6, 6) ( 6, 7) ( 6, 8) ( 6, 9) ( 6,10) ( 6,11) ( 6,12) ( 6,13) ( 6,14) ( 6,15) ( 6,16) ( 6,17) ( 6,18) ( 6,19) ( 6,20) ( 6,21)\n",
      "                                                                                                                                                                               \n",
      "                                                                                                                                                                               \n",
      "                                                                                                                                                                               \n",
      "                                                                                                                                                                               \n",
      "( 7, 0) ( 7, 1) ( 7, 2) ( 7, 3) ( 7, 4) ( 7, 5) ( 7, 6) ( 7, 7) ( 7, 8) ( 7, 9) ( 7,10) ( 7,11) ( 7,12) ( 7,13) ( 7,14) ( 7,15) ( 7,16) ( 7,17) ( 7,18) ( 7,19) ( 7,20) ( 7,21)\n",
      "                                                                                                                                                                               \n",
      "                                                                                                                                                                               \n",
      "                                                                                                        ┏-----┓                                                                \n",
      "                                                                                                        |#####|                                                                \n",
      "( 8, 0) ( 8, 1) ( 8, 2) ( 8, 3) ( 8, 4) ( 8, 5) ( 8, 6) ( 8, 7) ( 8, 8) ( 8, 9) ( 8,10) ( 8,11) ( 8,12) |#####| ( 8,14) ( 8,15) ( 8,16) ( 8,17) ( 8,18) ( 8,19) ( 8,20) ( 8,21)\n",
      "                                                                                                        |hiden|                                                                \n",
      "                                                                                                        ┕-----┚                                                                \n",
      "                                                                                                                                                                               \n",
      "                                                                                                                                                                               \n",
      "( 9, 0) ( 9, 1) ( 9, 2) ( 9, 3) ( 9, 4) ( 9, 5) ( 9, 6) ( 9, 7) ( 9, 8) ( 9, 9) ( 9,10) ( 9,11) ( 9,12) ( 9,13) ( 9,14) ( 9,15) ( 9,16) ( 9,17) ( 9,18) ( 9,19) ( 9,20) ( 9,21)\n",
      "                                                                                                                                                                               \n",
      "                                                                                                                                                                               \n",
      "                                        ┏--┳--┓ ┏--┳--┓ ┏--┳--┓                                         ┏--┳--┓                                                                \n",
      "                                        |##|##| |  |  | |  |  |                                         |  |##|                                                                \n",
      "(10, 0) (10, 1) (10, 2) (10, 3) (10, 4) ┣--╋--┫ ┣--╋--┫ ┣--╋--┫ (10, 8) (10, 9) (10,10) (10,11) (10,12) |  ┕--┫ (10,14) (10,15) (10,16) (10,17) (10,18) (10,19) (10,20) (10,21)\n",
      "                                        |##|##| |  |  | |  |  |                                         |hiden|                                                                \n",
      "                                        ┕--┻--┚ ┕--┻--┚ ┕--┻--┚                                         ┕-----┚                                                                \n",
      "                                                                                                                                                                               \n",
      "                                                                                                                                                                               \n",
      "(11, 0) (11, 1) (11, 2) (11, 3) (11, 4) (11, 5) (11, 6) (11, 7) (11, 8) (11, 9) (11,10) (11,11) (11,12) (11,13) (11,14) (11,15) (11,16) (11,17) (11,18) (11,19) (11,20) (11,21)\n",
      "                                                                                                                                                                               \n",
      "                                                                                                                                                                               \n",
      "                                                                                                        ┏--┳--┓                                                                \n",
      "                                                                                                        |  |##|                                                                \n",
      "(12, 0) (12, 1) (12, 2) (12, 3) (12, 4) (12, 5) (12, 6) (12, 7) (12, 8) (12, 9) (12,10) (12,11) (12,12) |  ┕--┫ (12,14) (12,15) (12,16) (12,17) (12,18) (12,19) (12,20) (12,21)\n",
      "                                                                                                        |hiden|                                                                \n",
      "                                                                                                        ┕-----┚                                                                \n",
      "                                                                                                                                                                               \n",
      "                                                                                                                                                                               \n",
      "(13, 0) (13, 1) (13, 2) (13, 3) (13, 4) (13, 5) (13, 6) (13, 7) (13, 8) (13, 9) (13,10) (13,11) (13,12) (13,13) (13,14) (13,15) (13,16) (13,17) (13,18) (13,19) (13,20) (13,21)\n",
      "                                                                                                                                                                               \n",
      "                                                                                                                                                                               \n",
      "                                                                                                                                                                               \n",
      "                                                                                                                                                                               \n",
      "(14, 0) (14, 1) (14, 2) (14, 3) (14, 4) (14, 5) (14, 6) (14, 7) (14, 8) (14, 9) (14,10) (14,11) (14,12) (14,13) (14,14) (14,15) (14,16) (14,17) (14,18) (14,19) (14,20) (14,21)\n",
      "                                                                                                                                                                               \n",
      "                                                                                                                                                                               \n",
      "                                                                                                                                                                               \n",
      "                                                                                                                                                                               \n",
      "(15, 0) (15, 1) (15, 2) (15, 3) (15, 4) (15, 5) (15, 6) (15, 7) (15, 8) (15, 9) (15,10) (15,11) (15,12) (15,13) (15,14) (15,15) (15,16) (15,17) (15,18) (15,19) (15,20) (15,21)\n",
      "                                                                                                                                                                               \n",
      "                                                                                                                                                                               \n",
      "                                                                                                                                                                               \n",
      "                                                                                                                                                                               \n",
      "(16, 0) (16, 1) (16, 2) (16, 3) (16, 4) (16, 5) (16, 6) (16, 7) (16, 8) (16, 9) (16,10) (16,11) (16,12) (16,13) (16,14) (16,15) (16,16) (16,17) (16,18) (16,19) (16,20) (16,21)\n",
      "                                                                                                                                                                               \n",
      "                                                                                                                                                                               \n",
      "                                                                                                                                                                               \n",
      "                                                                                                                                                                               \n",
      "(17, 0) (17, 1) (17, 2) (17, 3) (17, 4) (17, 5) (17, 6) (17, 7) (17, 8) (17, 9) (17,10) (17,11) (17,12) (17,13) (17,14) (17,15) (17,16) (17,17) (17,18) (17,19) (17,20) (17,21)\n",
      "                                                                                                                                                                               \n",
      "                                                                                                                                                                               \n",
      "                                                                                                                                                                               \n",
      "                                                                                                                                                                               \n",
      "(18, 0) (18, 1) (18, 2) (18, 3) (18, 4) (18, 5) (18, 6) (18, 7) (18, 8) (18, 9) (18,10) (18,11) (18,12) (18,13) (18,14) (18,15) (18,16) (18,17) (18,18) (18,19) (18,20) (18,21)\n",
      "                                                                                                                                                                               \n",
      "                                                                                                                                                                               \n",
      "                                                                                                                                                                               \n",
      "                                                                                                                                                                               \n",
      "(19, 0) (19, 1) (19, 2) (19, 3) (19, 4) (19, 5) (19, 6) (19, 7) (19, 8) (19, 9) (19,10) (19,11) (19,12) (19,13) (19,14) (19,15) (19,16) (19,17) (19,18) (19,19) (19,20) (19,21)\n",
      "                                                                                                                                                                               \n",
      "                                                                                                                                                                               \n",
      "                                                                                                                                                                               \n",
      "                                                                                                                                                                               \n",
      "(20, 0) (20, 1) (20, 2) (20, 3) (20, 4) (20, 5) (20, 6) (20, 7) (20, 8) (20, 9) (20,10) (20,11) (20,12) (20,13) (20,14) (20,15) (20,16) (20,17) (20,18) (20,19) (20,20) (20,21)\n",
      "                                                                                                                                                                               \n",
      "                                                                                                                                                                               \n",
      "                                                                                                                                                                               \n",
      "                                                                                                                                                                               \n",
      "(21, 0) (21, 1) (21, 2) (21, 3) (21, 4) (21, 5) (21, 6) (21, 7) (21, 8) (21, 9) (21,10) (21,11) (21,12) (21,13) (21,14) (21,15) (21,16) (21,17) (21,18) (21,19) (21,20) (21,21)\n",
      "                                                                                                                                                                               \n",
      "                                                                                                                                                                               \n"
     ]
    }
   ],
   "source": [
    "game.board.showBoard()"
   ]
  },
  {
   "cell_type": "code",
   "execution_count": null,
   "metadata": {},
   "outputs": [
    {
     "name": "stdout",
     "output_type": "stream",
     "text": [
      "action :  {'type': 'path', 'data': {'x': 11, 'y': 6, 'card': 3}}\n",
      "{'type': 'path', 'info': [(1, 2, 3, 4), False], 'map': array([['┏', '-', '-', '┳', '-', '-', '┓'],\n",
      "       ['|', ' ', ' ', '|', ' ', ' ', '|'],\n",
      "       ['┣', '-', '-', '╋', '-', '-', '┫'],\n",
      "       ['|', ' ', ' ', '|', ' ', ' ', '|'],\n",
      "       ['┕', '-', '-', '┻', '-', '-', '┚']], dtype='<U1')}\n",
      "Result :  True\n"
     ]
    },
    {
     "data": {
      "text/plain": [
       "[{'type': 'path', 'data': {'x': 11, 'y': 6, 'card': 3}},\n",
       " {'type': 'turn_change', 'data': 4}]"
      ]
     },
     "metadata": {},
     "output_type": "display_data"
    }
   ],
   "source": [
    "game.action(3,{\"type\":\"path\",\"data\":{\"x\":11,\"y\":6,\"card\":3}})\n"
   ]
  },
  {
   "cell_type": "code",
   "execution_count": null,
   "metadata": {},
   "outputs": [
    {
     "data": {
      "text/plain": [
       "4"
      ]
     },
     "metadata": {},
     "output_type": "display_data"
    }
   ],
   "source": [
    "game.current_player"
   ]
  },
  {
   "cell_type": "code",
   "execution_count": null,
   "metadata": {},
   "outputs": [
    {
     "name": "stdout",
     "output_type": "stream",
     "text": [
      "game continue\n",
      "False\n"
     ]
    }
   ],
   "source": [
    "print(game.board.checkEnd())"
   ]
  },
  {
   "cell_type": "code",
   "execution_count": null,
   "metadata": {},
   "outputs": [
    {
     "data": {
      "text/plain": [
       "{'id': '',\n",
       " 'name': '김도훈',\n",
       " 'role': 'saboteur',\n",
       " 'hand': [<card.Card at 0x114798ef0>,\n",
       "  <card.Card at 0x114741af0>,\n",
       "  <card.Card at 0x114799e50>,\n",
       "  <card.Card at 0x11479a2d0>,\n",
       "  <card.Card at 0x114799490>],\n",
       " 'gold': 0,\n",
       " 'limit': False,\n",
       " 'alive': True}"
      ]
     },
     "metadata": {},
     "output_type": "display_data"
    }
   ],
   "source": [
    "game.players[\"김도훈\"].__dict__"
   ]
  },
  {
   "cell_type": "code",
   "execution_count": null,
   "metadata": {},
   "outputs": [
    {
     "data": {
      "text/plain": [
       "<bound method Card.reversePathCard of <card.Card object at 0x1147416d0>>"
      ]
     },
     "metadata": {},
     "output_type": "display_data"
    }
   ],
   "source": [
    "game.players[\"이다미\"].hand[-1].reversePathCard"
   ]
  },
  {
   "cell_type": "code",
   "execution_count": null,
   "metadata": {},
   "outputs": [
    {
     "name": "stdout",
     "output_type": "stream",
     "text": [
      "4\n",
      "┏--┳--┓\n",
      "|  |  |\n",
      "┣--╋--┫\n",
      "|  |  |\n",
      "┕--┻--┚\n",
      "{'type': 'action', 'info': ('rockFail',)}\n",
      "┏--┳--┓\n",
      "|  |  |\n",
      "┣-- --┫\n",
      "|     |\n",
      "┕-----┚\n",
      "┏--┳--┓\n",
      "|  |  |\n",
      "|   --┫\n",
      "|     |\n",
      "┕-----┚\n",
      "┏--┳--┓\n",
      "|  |  |\n",
      "|  ┕--┫\n",
      "|     |\n",
      "┕-----┚\n"
     ]
    }
   ],
   "source": [
    "print(game.current_player)\n",
    "for i in game.players[\"이다미\"].hand:\n",
    "    if type(i.map)!=type(None):\n",
    "        for j in i.map:\n",
    "            for k in j:\n",
    "                print(k, end=\"\")\n",
    "            print()\n",
    "    else:\n",
    "        print(i.Info)"
   ]
  },
  {
   "cell_type": "code",
   "execution_count": null,
   "metadata": {},
   "outputs": [
    {
     "name": "stdout",
     "output_type": "stream",
     "text": [
      "action :  {'type': 'path', 'data': {'x': 10, 'y': 8, 'card': 3}}\n",
      "{'type': 'path', 'info': [(1, 2, 3, 4), False], 'map': array([['┏', '-', '-', '┳', '-', '-', '┓'],\n",
      "       ['|', ' ', ' ', '|', ' ', ' ', '|'],\n",
      "       ['┣', '-', '-', '╋', '-', '-', '┫'],\n",
      "       ['|', ' ', ' ', '|', ' ', ' ', '|'],\n",
      "       ['┕', '-', '-', '┻', '-', '-', '┚']], dtype='<U1')}\n",
      "Result :  True\n"
     ]
    },
    {
     "data": {
      "text/plain": [
       "[{'type': 'path', 'data': {'x': 10, 'y': 8, 'card': 3}},\n",
       " {'type': 'turn_change', 'data': 5}]"
      ]
     },
     "metadata": {},
     "output_type": "display_data"
    }
   ],
   "source": [
    "hand = 0 \n",
    "card = game.players[\"이다미\"].hand[hand].num\n",
    "game.action(4,{\"type\":\"path\",\"data\":{\"x\":10,\"y\":8,\"card\":card}})\n"
   ]
  },
  {
   "cell_type": "code",
   "execution_count": null,
   "metadata": {},
   "outputs": [
    {
     "name": "stdout",
     "output_type": "stream",
     "text": [
      "                                                                                                                                                                               \n",
      "                                                                                                                                                                               \n",
      "( 0, 0) ( 0, 1) ( 0, 2) ( 0, 3) ( 0, 4) ( 0, 5) ( 0, 6) ( 0, 7) ( 0, 8) ( 0, 9) ( 0,10) ( 0,11) ( 0,12) ( 0,13) ( 0,14) ( 0,15) ( 0,16) ( 0,17) ( 0,18) ( 0,19) ( 0,20) ( 0,21)\n",
      "                                                                                                                                                                               \n",
      "                                                                                                                                                                               \n",
      "                                                                                                                                                                               \n",
      "                                                                                                                                                                               \n",
      "( 1, 0) ( 1, 1) ( 1, 2) ( 1, 3) ( 1, 4) ( 1, 5) ( 1, 6) ( 1, 7) ( 1, 8) ( 1, 9) ( 1,10) ( 1,11) ( 1,12) ( 1,13) ( 1,14) ( 1,15) ( 1,16) ( 1,17) ( 1,18) ( 1,19) ( 1,20) ( 1,21)\n",
      "                                                                                                                                                                               \n",
      "                                                                                                                                                                               \n",
      "                                                                                                                                                                               \n",
      "                                                                                                                                                                               \n",
      "( 2, 0) ( 2, 1) ( 2, 2) ( 2, 3) ( 2, 4) ( 2, 5) ( 2, 6) ( 2, 7) ( 2, 8) ( 2, 9) ( 2,10) ( 2,11) ( 2,12) ( 2,13) ( 2,14) ( 2,15) ( 2,16) ( 2,17) ( 2,18) ( 2,19) ( 2,20) ( 2,21)\n",
      "                                                                                                                                                                               \n",
      "                                                                                                                                                                               \n",
      "                                                                                                                                                                               \n",
      "                                                                                                                                                                               \n",
      "( 3, 0) ( 3, 1) ( 3, 2) ( 3, 3) ( 3, 4) ( 3, 5) ( 3, 6) ( 3, 7) ( 3, 8) ( 3, 9) ( 3,10) ( 3,11) ( 3,12) ( 3,13) ( 3,14) ( 3,15) ( 3,16) ( 3,17) ( 3,18) ( 3,19) ( 3,20) ( 3,21)\n",
      "                                                                                                                                                                               \n",
      "                                                                                                                                                                               \n",
      "                                                                                                                                                                               \n",
      "                                                                                                                                                                               \n",
      "( 4, 0) ( 4, 1) ( 4, 2) ( 4, 3) ( 4, 4) ( 4, 5) ( 4, 6) ( 4, 7) ( 4, 8) ( 4, 9) ( 4,10) ( 4,11) ( 4,12) ( 4,13) ( 4,14) ( 4,15) ( 4,16) ( 4,17) ( 4,18) ( 4,19) ( 4,20) ( 4,21)\n",
      "                                                                                                                                                                               \n",
      "                                                                                                                                                                               \n",
      "                                                                                                                                                                               \n",
      "                                                                                                                                                                               \n",
      "( 5, 0) ( 5, 1) ( 5, 2) ( 5, 3) ( 5, 4) ( 5, 5) ( 5, 6) ( 5, 7) ( 5, 8) ( 5, 9) ( 5,10) ( 5,11) ( 5,12) ( 5,13) ( 5,14) ( 5,15) ( 5,16) ( 5,17) ( 5,18) ( 5,19) ( 5,20) ( 5,21)\n",
      "                                                                                                                                                                               \n",
      "                                                                                                                                                                               \n",
      "                                                                                                                                                                               \n",
      "                                                                                                                                                                               \n",
      "( 6, 0) ( 6, 1) ( 6, 2) ( 6, 3) ( 6, 4) ( 6, 5) ( 6, 6) ( 6, 7) ( 6, 8) ( 6, 9) ( 6,10) ( 6,11) ( 6,12) ( 6,13) ( 6,14) ( 6,15) ( 6,16) ( 6,17) ( 6,18) ( 6,19) ( 6,20) ( 6,21)\n",
      "                                                                                                                                                                               \n",
      "                                                                                                                                                                               \n",
      "                                                                                                                                                                               \n",
      "                                                                                                                                                                               \n",
      "( 7, 0) ( 7, 1) ( 7, 2) ( 7, 3) ( 7, 4) ( 7, 5) ( 7, 6) ( 7, 7) ( 7, 8) ( 7, 9) ( 7,10) ( 7,11) ( 7,12) ( 7,13) ( 7,14) ( 7,15) ( 7,16) ( 7,17) ( 7,18) ( 7,19) ( 7,20) ( 7,21)\n",
      "                                                                                                                                                                               \n",
      "                                                                                                                                                                               \n",
      "                                                                                                        ┏-----┓                                                                \n",
      "                                                                                                        |#####|                                                                \n",
      "( 8, 0) ( 8, 1) ( 8, 2) ( 8, 3) ( 8, 4) ( 8, 5) ( 8, 6) ( 8, 7) ( 8, 8) ( 8, 9) ( 8,10) ( 8,11) ( 8,12) |#####| ( 8,14) ( 8,15) ( 8,16) ( 8,17) ( 8,18) ( 8,19) ( 8,20) ( 8,21)\n",
      "                                                                                                        |hiden|                                                                \n",
      "                                                                                                        ┕-----┚                                                                \n",
      "                                                                                                                                                                               \n",
      "                                                                                                                                                                               \n",
      "( 9, 0) ( 9, 1) ( 9, 2) ( 9, 3) ( 9, 4) ( 9, 5) ( 9, 6) ( 9, 7) ( 9, 8) ( 9, 9) ( 9,10) ( 9,11) ( 9,12) ( 9,13) ( 9,14) ( 9,15) ( 9,16) ( 9,17) ( 9,18) ( 9,19) ( 9,20) ( 9,21)\n",
      "                                                                                                                                                                               \n",
      "                                                                                                                                                                               \n",
      "                                        ┏--┳--┓ ┏--┳--┓ ┏--┳--┓ ┏--┳--┓                                 ┏--┳--┓                                                                \n",
      "                                        |##|##| |  |  | |  |  | |  |  |                                 |  |##|                                                                \n",
      "(10, 0) (10, 1) (10, 2) (10, 3) (10, 4) ┣--╋--┫ ┣--╋--┫ ┣--╋--┫ ┣--╋--┫ (10, 9) (10,10) (10,11) (10,12) |  ┕--┫ (10,14) (10,15) (10,16) (10,17) (10,18) (10,19) (10,20) (10,21)\n",
      "                                        |##|##| |  |  | |  |  | |  |  |                                 |hiden|                                                                \n",
      "                                        ┕--┻--┚ ┕--┻--┚ ┕--┻--┚ ┕--┻--┚                                 ┕-----┚                                                                \n",
      "                                                ┏--┳--┓                                                                                                                        \n",
      "                                                |  |  |                                                                                                                        \n",
      "(11, 0) (11, 1) (11, 2) (11, 3) (11, 4) (11, 5) ┣--╋--┫ (11, 7) (11, 8) (11, 9) (11,10) (11,11) (11,12) (11,13) (11,14) (11,15) (11,16) (11,17) (11,18) (11,19) (11,20) (11,21)\n",
      "                                                |  |  |                                                                                                                        \n",
      "                                                ┕--┻--┚                                                                                                                        \n",
      "                                                                                                        ┏--┳--┓                                                                \n",
      "                                                                                                        |  |##|                                                                \n",
      "(12, 0) (12, 1) (12, 2) (12, 3) (12, 4) (12, 5) (12, 6) (12, 7) (12, 8) (12, 9) (12,10) (12,11) (12,12) |  ┕--┫ (12,14) (12,15) (12,16) (12,17) (12,18) (12,19) (12,20) (12,21)\n",
      "                                                                                                        |hiden|                                                                \n",
      "                                                                                                        ┕-----┚                                                                \n",
      "                                                                                                                                                                               \n",
      "                                                                                                                                                                               \n",
      "(13, 0) (13, 1) (13, 2) (13, 3) (13, 4) (13, 5) (13, 6) (13, 7) (13, 8) (13, 9) (13,10) (13,11) (13,12) (13,13) (13,14) (13,15) (13,16) (13,17) (13,18) (13,19) (13,20) (13,21)\n",
      "                                                                                                                                                                               \n",
      "                                                                                                                                                                               \n",
      "                                                                                                                                                                               \n",
      "                                                                                                                                                                               \n",
      "(14, 0) (14, 1) (14, 2) (14, 3) (14, 4) (14, 5) (14, 6) (14, 7) (14, 8) (14, 9) (14,10) (14,11) (14,12) (14,13) (14,14) (14,15) (14,16) (14,17) (14,18) (14,19) (14,20) (14,21)\n",
      "                                                                                                                                                                               \n",
      "                                                                                                                                                                               \n",
      "                                                                                                                                                                               \n",
      "                                                                                                                                                                               \n",
      "(15, 0) (15, 1) (15, 2) (15, 3) (15, 4) (15, 5) (15, 6) (15, 7) (15, 8) (15, 9) (15,10) (15,11) (15,12) (15,13) (15,14) (15,15) (15,16) (15,17) (15,18) (15,19) (15,20) (15,21)\n",
      "                                                                                                                                                                               \n",
      "                                                                                                                                                                               \n",
      "                                                                                                                                                                               \n",
      "                                                                                                                                                                               \n",
      "(16, 0) (16, 1) (16, 2) (16, 3) (16, 4) (16, 5) (16, 6) (16, 7) (16, 8) (16, 9) (16,10) (16,11) (16,12) (16,13) (16,14) (16,15) (16,16) (16,17) (16,18) (16,19) (16,20) (16,21)\n",
      "                                                                                                                                                                               \n",
      "                                                                                                                                                                               \n",
      "                                                                                                                                                                               \n",
      "                                                                                                                                                                               \n",
      "(17, 0) (17, 1) (17, 2) (17, 3) (17, 4) (17, 5) (17, 6) (17, 7) (17, 8) (17, 9) (17,10) (17,11) (17,12) (17,13) (17,14) (17,15) (17,16) (17,17) (17,18) (17,19) (17,20) (17,21)\n",
      "                                                                                                                                                                               \n",
      "                                                                                                                                                                               \n",
      "                                                                                                                                                                               \n",
      "                                                                                                                                                                               \n",
      "(18, 0) (18, 1) (18, 2) (18, 3) (18, 4) (18, 5) (18, 6) (18, 7) (18, 8) (18, 9) (18,10) (18,11) (18,12) (18,13) (18,14) (18,15) (18,16) (18,17) (18,18) (18,19) (18,20) (18,21)\n",
      "                                                                                                                                                                               \n",
      "                                                                                                                                                                               \n",
      "                                                                                                                                                                               \n",
      "                                                                                                                                                                               \n",
      "(19, 0) (19, 1) (19, 2) (19, 3) (19, 4) (19, 5) (19, 6) (19, 7) (19, 8) (19, 9) (19,10) (19,11) (19,12) (19,13) (19,14) (19,15) (19,16) (19,17) (19,18) (19,19) (19,20) (19,21)\n",
      "                                                                                                                                                                               \n",
      "                                                                                                                                                                               \n",
      "                                                                                                                                                                               \n",
      "                                                                                                                                                                               \n",
      "(20, 0) (20, 1) (20, 2) (20, 3) (20, 4) (20, 5) (20, 6) (20, 7) (20, 8) (20, 9) (20,10) (20,11) (20,12) (20,13) (20,14) (20,15) (20,16) (20,17) (20,18) (20,19) (20,20) (20,21)\n",
      "                                                                                                                                                                               \n",
      "                                                                                                                                                                               \n",
      "                                                                                                                                                                               \n",
      "                                                                                                                                                                               \n",
      "(21, 0) (21, 1) (21, 2) (21, 3) (21, 4) (21, 5) (21, 6) (21, 7) (21, 8) (21, 9) (21,10) (21,11) (21,12) (21,13) (21,14) (21,15) (21,16) (21,17) (21,18) (21,19) (21,20) (21,21)\n",
      "                                                                                                                                                                               \n",
      "                                                                                                                                                                               \n"
     ]
    }
   ],
   "source": [
    "game.board.showBoard()"
   ]
  },
  {
   "cell_type": "markdown",
   "metadata": {},
   "source": []
  },
  {
   "cell_type": "code",
   "execution_count": null,
   "metadata": {},
   "outputs": [
    {
     "data": {
      "text/plain": [
       "True"
      ]
     },
     "metadata": {},
     "output_type": "display_data"
    }
   ],
   "source": [
    "game.board.addCard(3,10,6)\n",
    "game.board.addCard(3,10,7)\n",
    "game.board.addCard(3,10,8)\n",
    "game.board.addCard(3,10,9)\n",
    "game.board.addCard(3,10,10)\n",
    "game.board.addCard(3,10,11)\n",
    "game.board.addCard(3,10,12)\n",
    "# game.board.addCard(3,9,12)\n",
    "# game.board.addCard(3,8,12)\n",
    "game.board.addCard(3,11,12)\n",
    "game.board.addCard(3,12,12)"
   ]
  }
 ],
 "metadata": {
  "kernelspec": {
   "display_name": ".venv",
   "language": "python",
   "name": "python3"
  },
  "language_info": {
   "codemirror_mode": {
    "name": "ipython",
    "version": 3
   },
   "file_extension": ".py",
   "mimetype": "text/x-python",
   "name": "python",
   "nbconvert_exporter": "python",
   "pygments_lexer": "ipython3",
   "version": "3.13.1"
  }
 },
 "nbformat": 4,
 "nbformat_minor": 2
}
