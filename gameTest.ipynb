{
 "cells": [
  {
   "cell_type": "markdown",
   "metadata": {},
   "source": [
    "### error comments\n",
    "1. path\n",
    "    1. 이미 카드가 존재합니다.\n",
    "    2. 주변 카드가 조건을 만족하지 않습니다.\n",
    "    3. 카드가 연결되지 않습니다.\n",
    "2. rockFail\n",
    "    1. 파괴할 수 없는 카드입니다.\n",
    "3. viewMap\n",
    "    1. 잘못된 위치정보입니다.\n",
    "4. sabotage\n",
    "    1. 이미 제한된 장비입니다.\n",
    "5. repair\n",
    "    1. 수리할 수 있는 장비가 없습니다.\n",
    "6. discard\n",
    "    1. 잘못된 카드 번호입니다.\n",
    "7. reversePath\n",
    "    1. 행동카드는 회전이 불가능합니다.\n",
    "    "
   ]
  },
  {
   "cell_type": "code",
   "execution_count": 1,
   "metadata": {},
   "outputs": [
    {
     "name": "stdout",
     "output_type": "stream",
     "text": [
      "home: (10, 5), gold: (8, 13), rock: [(10, 13), (12, 13)]\n",
      "action : roundStart by all\n"
     ]
    },
    {
     "ename": "TypeError",
     "evalue": "string indices must be integers, not 'str'",
     "output_type": "error",
     "traceback": [
      "\u001b[31m---------------------------------------------------------------------------\u001b[39m",
      "\u001b[31mTypeError\u001b[39m                                 Traceback (most recent call last)",
      "\u001b[36mCell\u001b[39m\u001b[36m \u001b[39m\u001b[32mIn[1]\u001b[39m\u001b[32m, line 31\u001b[39m\n\u001b[32m     29\u001b[39m game.startGame()\n\u001b[32m     30\u001b[39m \u001b[38;5;66;03m# game.roundStart()\u001b[39;00m\n\u001b[32m---> \u001b[39m\u001b[32m31\u001b[39m \u001b[43mgame\u001b[49m\u001b[43m.\u001b[49m\u001b[43maction\u001b[49m\u001b[43m(\u001b[49m\u001b[33;43m\"\u001b[39;49m\u001b[33;43mall\u001b[39;49m\u001b[33;43m\"\u001b[39;49m\u001b[43m,\u001b[49m\u001b[33;43m\"\u001b[39;49m\u001b[33;43mroundStart\u001b[39;49m\u001b[33;43m\"\u001b[39;49m\u001b[43m)\u001b[49m\n\u001b[32m     32\u001b[39m \u001b[38;5;66;03m# print(game.cards)\u001b[39;00m\n",
      "\u001b[36mFile \u001b[39m\u001b[32mc:\\Users\\js000\\OneDrive\\Documents\\GitHub\\Back-end\\logic\\game.py:66\u001b[39m, in \u001b[36mGame.action\u001b[39m\u001b[34m(self, player, action)\u001b[39m\n\u001b[32m     63\u001b[39m \u001b[38;5;28;01mdef\u001b[39;00m\u001b[38;5;250m \u001b[39m\u001b[34maction\u001b[39m(\u001b[38;5;28mself\u001b[39m, player, action):\n\u001b[32m     64\u001b[39m     \u001b[38;5;66;03m# 플레이어가 행동을 수행\u001b[39;00m\n\u001b[32m     65\u001b[39m     \u001b[38;5;28mprint\u001b[39m(\u001b[33mf\u001b[39m\u001b[33m\"\u001b[39m\u001b[33maction : \u001b[39m\u001b[38;5;132;01m{\u001b[39;00maction\u001b[38;5;132;01m}\u001b[39;00m\u001b[33m by \u001b[39m\u001b[38;5;132;01m{\u001b[39;00mplayer\u001b[38;5;132;01m}\u001b[39;00m\u001b[33m\"\u001b[39m)\n\u001b[32m---> \u001b[39m\u001b[32m66\u001b[39m     \u001b[38;5;28;01mif\u001b[39;00m \u001b[43maction\u001b[49m\u001b[43m[\u001b[49m\u001b[33;43m\"\u001b[39;49m\u001b[33;43mtype\u001b[39;49m\u001b[33;43m\"\u001b[39;49m\u001b[43m]\u001b[49m == \u001b[33m\"\u001b[39m\u001b[33mroundStart\u001b[39m\u001b[33m\"\u001b[39m:\n\u001b[32m     67\u001b[39m         \u001b[38;5;28mprint\u001b[39m(\u001b[33m\"\u001b[39m\u001b[33m게임 시작\u001b[39m\u001b[33m\"\u001b[39m)\n\u001b[32m     68\u001b[39m         \u001b[38;5;66;03m# 게임 시작\u001b[39;00m\n",
      "\u001b[31mTypeError\u001b[39m: string indices must be integers, not 'str'"
     ]
    }
   ],
   "source": [
    "import importlib\n",
    "import logic.game as sabo\n",
    "import logic.board as board\n",
    "from logic.card import Card\n",
    "def show_hand():\n",
    "    print(f\"current player : {game.currentPlayer} {game.players[game.currentPlayer].limit}\")\n",
    "    for index,i in enumerate(game.players[game.currentPlayer].hand):\n",
    "        print(f\"{index} : {i}\")\n",
    "        if i.type == \"path\":\n",
    "            for j in i.map:\n",
    "                for k in j:\n",
    "                    print(k, end=\"\")\n",
    "                print()\n",
    "        else:\n",
    "            print(\"type : \",i.Info[\"type\"])\n",
    "            print(\"info : \",i.Info[\"info\"])\n",
    "\n",
    "importlib.reload(sabo)\n",
    "importlib.reload(board)\n",
    "\n",
    "\n",
    "game = sabo.Game()\n",
    "game.addPlayer(\"김도훈\")\n",
    "game.addPlayer(\"김재훈\")\n",
    "game.addPlayer(\"김두현\")\n",
    "# game.addPlayer(\"송하영\")\n",
    "# game.addPlayer(\"이다미\")\n",
    "game.addPlayer(\"조남훈\")\n",
    "game.startGame()\n",
    "# game.roundStart()\n",
    "game.action(\"all\",\"roundStart\")\n",
    "# print(game.cards)"
   ]
  },
  {
   "cell_type": "code",
   "execution_count": null,
   "metadata": {},
   "outputs": [
    {
     "data": {
      "text/plain": [
       "[<logic.card.Card at 0x2ebd80f23d0>,\n",
       " <logic.card.Card at 0x2ebd80f3450>,\n",
       " <logic.card.Card at 0x2ebd80f0dd0>,\n",
       " <logic.card.Card at 0x2ebd8108150>,\n",
       " <logic.card.Card at 0x2ebd80d8150>,\n",
       " <logic.card.Card at 0x2ebd81084d0>,\n",
       " <logic.card.Card at 0x2ebd80f2250>,\n",
       " <logic.card.Card at 0x2ebd80feed0>,\n",
       " <logic.card.Card at 0x2ebd8108250>,\n",
       " <logic.card.Card at 0x2ebd80f0250>,\n",
       " <logic.card.Card at 0x2ebd80fc950>,\n",
       " <logic.card.Card at 0x2ebd80f26d0>,\n",
       " <logic.card.Card at 0x2ebd80f29d0>,\n",
       " <logic.card.Card at 0x2ebd810a250>,\n",
       " <logic.card.Card at 0x2ebd80dbc50>,\n",
       " <logic.card.Card at 0x2ebd81094d0>,\n",
       " <logic.card.Card at 0x2ebd80f10d0>,\n",
       " <logic.card.Card at 0x2ebd80fed50>,\n",
       " <logic.card.Card at 0x2ebd80dbdd0>,\n",
       " <logic.card.Card at 0x2ebd80f3750>,\n",
       " <logic.card.Card at 0x2ebd80f0750>,\n",
       " <logic.card.Card at 0x2ebd80ffad0>,\n",
       " <logic.card.Card at 0x2ebd80f05d0>,\n",
       " <logic.card.Card at 0x2ebd81092d0>,\n",
       " <logic.card.Card at 0x2ebd80f3150>,\n",
       " <logic.card.Card at 0x2ebd8109dd0>,\n",
       " <logic.card.Card at 0x2ebd80f0c50>,\n",
       " <logic.card.Card at 0x2ebd8108450>,\n",
       " <logic.card.Card at 0x2ebd80f2e50>,\n",
       " <logic.card.Card at 0x2ebd8108ed0>,\n",
       " <logic.card.Card at 0x2ebd81088d0>,\n",
       " <logic.card.Card at 0x2ebd80f3bd0>,\n",
       " <logic.card.Card at 0x2ebd810a450>,\n",
       " <logic.card.Card at 0x2ebd80f1f50>,\n",
       " <logic.card.Card at 0x2ebd80dbad0>,\n",
       " <logic.card.Card at 0x2ebd80dbf50>,\n",
       " <logic.card.Card at 0x2ebd80f1250>,\n",
       " <logic.card.Card at 0x2ebd810a0d0>,\n",
       " <logic.card.Card at 0x2ebd8109c50>,\n",
       " <logic.card.Card at 0x2ebd80fd550>,\n",
       " <logic.card.Card at 0x2ebd80f35d0>,\n",
       " <logic.card.Card at 0x2ebd80ffdd0>,\n",
       " <logic.card.Card at 0x2ebd80fea50>,\n",
       " <logic.card.Card at 0x2ebd80f13d0>,\n",
       " <logic.card.Card at 0x2ebd80f32d0>,\n",
       " <logic.card.Card at 0x2ebd80f0450>,\n",
       " <logic.card.Card at 0x2ebd80f38d0>,\n",
       " <logic.card.Card at 0x2ebd80f0150>,\n",
       " <logic.card.Card at 0x2ebd81097d0>,\n",
       " <logic.card.Card at 0x2ebd80f2cd0>,\n",
       " <logic.card.Card at 0x2ebd80fc7d0>,\n",
       " <logic.card.Card at 0x2ebd80f08d0>,\n",
       " <logic.card.Card at 0x2ebd810a850>,\n",
       " <logic.card.Card at 0x2ebd80fcad0>,\n",
       " <logic.card.Card at 0x2ebd80f0fd0>,\n",
       " <logic.card.Card at 0x2ebd80f1ad0>,\n",
       " <logic.card.Card at 0x2ebd80f2b50>,\n",
       " <logic.card.Card at 0x2ebd80f17d0>,\n",
       " <logic.card.Card at 0x2ebd80f1dd0>,\n",
       " <logic.card.Card at 0x2ebd80f20d0>]"
      ]
     },
     "execution_count": 5,
     "metadata": {},
     "output_type": "execute_result"
    }
   ],
   "source": [
    "game.cards"
   ]
  },
  {
   "cell_type": "code",
   "execution_count": null,
   "metadata": {},
   "outputs": [],
   "source": []
  },
  {
   "cell_type": "code",
   "execution_count": null,
   "metadata": {},
   "outputs": [
    {
     "name": "stdout",
     "output_type": "stream",
     "text": [
      "game continue\n",
      "(False, 'None')\n"
     ]
    }
   ],
   "source": [
    "print(game.board.checkEnd())"
   ]
  },
  {
   "cell_type": "code",
   "execution_count": null,
   "metadata": {},
   "outputs": [],
   "source": [
    "# game.board.activeHasPath(game.board.path,game.board.home,game.board.rock[1])"
   ]
  },
  {
   "cell_type": "code",
   "execution_count": null,
   "metadata": {},
   "outputs": [],
   "source": [
    "# game.players[\"김두현\"].limit[\"pickaxe\"]=False"
   ]
  },
  {
   "cell_type": "code",
   "execution_count": null,
   "metadata": {},
   "outputs": [
    {
     "name": "stdout",
     "output_type": "stream",
     "text": [
      "path:  [(10, 5), (10, 6)]\n",
      "path:  [(10, 5), (10, 6), (10, 7)]\n",
      "path:  [(10, 5), (10, 6), (10, 7), (10, 8)]\n",
      "path:  [(10, 5), (10, 6), (10, 7), (10, 8), (10, 9)]\n",
      "path:  [(10, 5), (10, 6), (10, 7), (10, 8), (10, 9), (10, 10)]\n",
      "path:  [(10, 5), (10, 6), (10, 7), (10, 8), (10, 9), (10, 10), (10, 11)]\n"
     ]
    },
    {
     "data": {
      "text/plain": [
       "True"
      ]
     },
     "execution_count": 10,
     "metadata": {},
     "output_type": "execute_result"
    }
   ],
   "source": [
    "game.board.addCard(Card(3),10,6)\n",
    "game.board.addCard(Card(3),10,7)\n",
    "game.board.addCard(Card(3),10,8)\n",
    "game.board.addCard(Card(3),10,9)\n",
    "game.board.addCard(Card(3),10,10)\n",
    "game.board.addCard(Card(3),10,11)\n",
    "# game.board.addCard(Card(3),10,12)\n"
   ]
  },
  {
   "cell_type": "code",
   "execution_count": 2,
   "metadata": {},
   "outputs": [
    {
     "name": "stdout",
     "output_type": "stream",
     "text": [
      "action : {'type': 'endTime'} by 김도훈\n",
      "EndTime이 실행되었습니다. \n",
      "1\n",
      "2\n",
      "3\n",
      "4\n",
      "5\n",
      "7\n",
      "8\n",
      "EndTime이 완료되었습니다.\n",
      "[{'player': 'server', 'target': 'all', 'type': 'endTime', 'data': {}}, {'player': '김도훈', 'target': 'all', 'type': 'discard', 'data': {'handNum': 0}}, {'player': 'server', 'target': '김도훈', 'type': 'error', 'data': '모든 패가 소진되었습니다.'}, {'player': '조남훈', 'target': 'all', 'type': 'turn_change', 'data': '조남훈'}]\n"
     ]
    },
    {
     "data": {
      "text/plain": [
       "[{'player': 'server', 'target': 'all', 'type': 'endTime', 'data': {}},\n",
       " {'player': '김도훈', 'target': 'all', 'type': 'discard', 'data': {'handNum': 0}},\n",
       " {'player': 'server',\n",
       "  'target': '김도훈',\n",
       "  'type': 'error',\n",
       "  'data': '모든 패가 소진되었습니다.'},\n",
       " {'player': '조남훈', 'target': 'all', 'type': 'turn_change', 'data': '조남훈'}]"
      ]
     },
     "execution_count": 2,
     "metadata": {},
     "output_type": "execute_result"
    }
   ],
   "source": [
    "game.action(game.currentPlayer,{\"type\":\"endTime\"})\n",
    "\n",
    "# game.action(game.currentPlayer,{\"type\":\"reversePath\",\"data\":{\"handNum\":0}})\n",
    "# show_hand()"
   ]
  },
  {
   "cell_type": "code",
   "execution_count": null,
   "metadata": {},
   "outputs": [
    {
     "name": "stdout",
     "output_type": "stream",
     "text": [
      "current player : 김재훈 {'mineCart': False, 'pickaxe': False, 'lantern': False}\n",
      "0 : <logic.card.Card object at 0x00000276E9D0DBD0>\n",
      "┏--┳--┓\n",
      "|  |  |\n",
      "|     |\n",
      "|  |  |\n",
      "┕--┻--┚\n",
      "1 : <logic.card.Card object at 0x00000276E9D0D8D0>\n",
      "┏--┳--┓\n",
      "|  |  |\n",
      "|     |\n",
      "|     |\n",
      "┕-----┚\n",
      "2 : <logic.card.Card object at 0x00000276E9D181D0>\n",
      "type :  sabotage\n",
      "info :  mineCart\n",
      "3 : <logic.card.Card object at 0x00000276E9D0C850>\n",
      "┏--┳--┓\n",
      "|  |  |\n",
      "┣--┚  |\n",
      "|     |\n",
      "┕-----┚\n",
      "4 : <logic.card.Card object at 0x00000276E9D012D0>\n",
      "┏--┳--┓\n",
      "|  |  |\n",
      "|  |  |\n",
      "|  |  |\n",
      "┕--┻--┚\n",
      "5 : <logic.card.Card object at 0x00000276E9D0F0D0>\n",
      "┏-----┓\n",
      "|     |\n",
      "┣-- --┫\n",
      "|     |\n",
      "┕-----┚\n"
     ]
    }
   ],
   "source": [
    "show_hand()\n"
   ]
  },
  {
   "cell_type": "code",
   "execution_count": null,
   "metadata": {},
   "outputs": [
    {
     "name": "stdout",
     "output_type": "stream",
     "text": [
      "action : {'type': 'path', 'data': {'x': 10, 'y': 12, 'handNum': 3}} by 김재훈\n",
      "action :  {'type': 'path', 'data': {'x': 10, 'y': 12, 'handNum': 3}}\n",
      "error at right\n",
      "error nearPathVerification\n",
      "game continue\n"
     ]
    },
    {
     "data": {
      "text/plain": [
       "[{'player': 'server',\n",
       "  'target': '김재훈',\n",
       "  'type': 'error',\n",
       "  'data': '주변 카드가 조건을 만족하지 않습니다.'}]"
      ]
     },
     "execution_count": 9,
     "metadata": {},
     "output_type": "execute_result"
    }
   ],
   "source": [
    "game.action(game.currentPlayer,{\"type\":\"path\",\"data\":{\"x\":10,\"y\":12,\"handNum\":3}})"
   ]
  },
  {
   "cell_type": "code",
   "execution_count": null,
   "metadata": {},
   "outputs": [
    {
     "name": "stdout",
     "output_type": "stream",
     "text": [
      "action : {'type': 'path', 'data': {'x': 9, 'y': 13, 'handNum': 2}} by 김재훈\n",
      "action :  {'type': 'path', 'data': {'x': 9, 'y': 13, 'handNum': 2}}\n",
      "error at top\n",
      "error nearPathVerification\n",
      "game continue\n"
     ]
    },
    {
     "data": {
      "text/plain": [
       "[{'player': 'server',\n",
       "  'target': '김재훈',\n",
       "  'type': 'error',\n",
       "  'data': '주변 카드가 조건을 만족하지 않습니다.'}]"
      ]
     },
     "execution_count": 10,
     "metadata": {},
     "output_type": "execute_result"
    }
   ],
   "source": [
    "game.action(game.currentPlayer,{\"type\":\"path\",\"data\":{\"x\":9,\"y\":13,\"handNum\":2}})"
   ]
  },
  {
   "cell_type": "code",
   "execution_count": null,
   "metadata": {},
   "outputs": [
    {
     "data": {
      "text/plain": [
       "1"
      ]
     },
     "execution_count": 11,
     "metadata": {},
     "output_type": "execute_result"
    }
   ],
   "source": [
    "game.currentRound"
   ]
  },
  {
   "cell_type": "code",
   "execution_count": null,
   "metadata": {},
   "outputs": [
    {
     "name": "stdout",
     "output_type": "stream",
     "text": [
      "action : {'type': 'rockFail', 'data': {'x': 10, 'y': 6, 'handNum': 2}} by 김재훈\n",
      "action :  {'type': 'rockFail', 'data': {'x': 10, 'y': 6, 'handNum': 2}}\n",
      "game continue\n"
     ]
    },
    {
     "data": {
      "text/plain": [
       "[{'player': '김재훈',\n",
       "  'target': 'all',\n",
       "  'type': 'rockFail',\n",
       "  'data': {'x': 10, 'y': 6}},\n",
       " {'player': '김재훈', 'target': '김재훈', 'type': 'drawCard', 'data': {'card': 3}},\n",
       " {'player': '조남훈', 'target': 'all', 'type': 'turn_change', 'data': '조남훈'}]"
      ]
     },
     "execution_count": 12,
     "metadata": {},
     "output_type": "execute_result"
    }
   ],
   "source": [
    "game.action(game.currentPlayer,{\"type\":\"rockFail\",\"data\":{\"x\":10,\"y\":6,\"handNum\":2}})"
   ]
  },
  {
   "cell_type": "code",
   "execution_count": null,
   "metadata": {},
   "outputs": [],
   "source": [
    "from copy import deepcopy\n",
    "backup_game = deepcopy(game)"
   ]
  },
  {
   "cell_type": "code",
   "execution_count": null,
   "metadata": {},
   "outputs": [],
   "source": [
    "game.board = backup_game.board"
   ]
  },
  {
   "cell_type": "code",
   "execution_count": null,
   "metadata": {},
   "outputs": [
    {
     "name": "stdout",
     "output_type": "stream",
     "text": [
      "action : {'type': 'discard', 'data': {'handNum': 0}} by 조남훈\n",
      "action :  {'type': 'discard', 'data': {'handNum': 0}}\n",
      "game continue\n"
     ]
    },
    {
     "data": {
      "text/plain": [
       "[{'player': '조남훈', 'target': 'all', 'type': 'discard', 'data': {'handNum': 0}},\n",
       " {'player': '조남훈', 'target': '조남훈', 'type': 'drawCard', 'data': {'card': 1}},\n",
       " {'player': '김두현', 'target': 'all', 'type': 'turn_change', 'data': '김두현'}]"
      ]
     },
     "execution_count": 15,
     "metadata": {},
     "output_type": "execute_result"
    }
   ],
   "source": [
    "game.action(game.currentPlayer,{\"type\":\"discard\",\"data\":{\"handNum\":0}})\n"
   ]
  },
  {
   "cell_type": "code",
   "execution_count": null,
   "metadata": {},
   "outputs": [
    {
     "name": "stdout",
     "output_type": "stream",
     "text": [
      "58\n"
     ]
    }
   ],
   "source": [
    "print(len(game.cards))\n",
    "# for card in game.cards:\n",
    "#     print(card.map)"
   ]
  },
  {
   "cell_type": "code",
   "execution_count": null,
   "metadata": {},
   "outputs": [
    {
     "name": "stdout",
     "output_type": "stream",
     "text": [
      "action : {'type': 'viewMap', 'data': {'x': 10, 'y': 13, 'handNum': 0}} by 김두현\n",
      "action :  {'type': 'viewMap', 'data': {'x': 10, 'y': 13, 'handNum': 0}}\n",
      "game continue\n"
     ]
    },
    {
     "data": {
      "text/plain": [
       "[{'player': '김두현',\n",
       "  'target': 'all',\n",
       "  'type': 'viewMap',\n",
       "  'data': {'player': '김두현', 'target': (10, 13)}},\n",
       " {'player': '김두현',\n",
       "  'target': '김두현',\n",
       "  'type': 'revealDest',\n",
       "  'data': {'x': 10, 'y': 13, 'cardType': -7}},\n",
       " {'player': '김두현', 'target': '김두현', 'type': 'drawCard', 'data': {'card': 11}},\n",
       " {'player': '김도훈', 'target': 'all', 'type': 'turn_change', 'data': '김도훈'}]"
      ]
     },
     "execution_count": 17,
     "metadata": {},
     "output_type": "execute_result"
    }
   ],
   "source": [
    "game.action(game.currentPlayer,{\"type\":\"viewMap\",\"data\":{\"x\":10,\"y\":13,\"handNum\":0}})"
   ]
  },
  {
   "cell_type": "code",
   "execution_count": null,
   "metadata": {},
   "outputs": [
    {
     "name": "stdout",
     "output_type": "stream",
     "text": [
      "action : {'type': 'reversePath', 'data': {'handNum': 4}} by 김도훈\n",
      "action :  {'type': 'reversePath', 'data': {'handNum': 4}}\n",
      "game continue\n"
     ]
    },
    {
     "data": {
      "text/plain": [
       "[{'player': '김도훈',\n",
       "  'target': '김도훈',\n",
       "  'type': 'reversePath',\n",
       "  'data': {'card': 5}}]"
      ]
     },
     "execution_count": 18,
     "metadata": {},
     "output_type": "execute_result"
    }
   ],
   "source": [
    "game.action(game.currentPlayer,{\"type\":\"reversePath\",\"data\":{\"handNum\":4}})"
   ]
  },
  {
   "cell_type": "code",
   "execution_count": null,
   "metadata": {},
   "outputs": [
    {
     "name": "stdout",
     "output_type": "stream",
     "text": [
      "action : {'type': 'sabotage', 'data': {'target': '김두현', 'handNum': 3}} by 김도훈\n",
      "action :  {'type': 'sabotage', 'data': {'target': '김두현', 'handNum': 3}}\n"
     ]
    },
    {
     "ename": "TypeError",
     "evalue": "unhashable type: 'list'",
     "output_type": "error",
     "traceback": [
      "\u001b[31m---------------------------------------------------------------------------\u001b[39m",
      "\u001b[31mTypeError\u001b[39m                                 Traceback (most recent call last)",
      "\u001b[36mCell\u001b[39m\u001b[36m \u001b[39m\u001b[32mIn[19]\u001b[39m\u001b[32m, line 1\u001b[39m\n\u001b[32m----> \u001b[39m\u001b[32m1\u001b[39m \u001b[43mgame\u001b[49m\u001b[43m.\u001b[49m\u001b[43maction\u001b[49m\u001b[43m(\u001b[49m\u001b[43mgame\u001b[49m\u001b[43m.\u001b[49m\u001b[43mcurrentPlayer\u001b[49m\u001b[43m,\u001b[49m\u001b[43m{\u001b[49m\u001b[33;43m\"\u001b[39;49m\u001b[33;43mtype\u001b[39;49m\u001b[33;43m\"\u001b[39;49m\u001b[43m:\u001b[49m\u001b[33;43m\"\u001b[39;49m\u001b[33;43msabotage\u001b[39;49m\u001b[33;43m\"\u001b[39;49m\u001b[43m,\u001b[49m\u001b[33;43m\"\u001b[39;49m\u001b[33;43mdata\u001b[39;49m\u001b[33;43m\"\u001b[39;49m\u001b[43m:\u001b[49m\u001b[43m{\u001b[49m\u001b[33;43m\"\u001b[39;49m\u001b[33;43mtarget\u001b[39;49m\u001b[33;43m\"\u001b[39;49m\u001b[43m:\u001b[49m\u001b[33;43m\"\u001b[39;49m\u001b[33;43m김두현\u001b[39;49m\u001b[33;43m\"\u001b[39;49m\u001b[43m,\u001b[49m\u001b[33;43m\"\u001b[39;49m\u001b[33;43mhandNum\u001b[39;49m\u001b[33;43m\"\u001b[39;49m\u001b[43m:\u001b[49m\u001b[32;43m3\u001b[39;49m\u001b[43m}\u001b[49m\u001b[43m}\u001b[49m\u001b[43m)\u001b[49m\n",
      "\u001b[36mFile \u001b[39m\u001b[32mc:\\Users\\js000\\OneDrive\\Documents\\GitHub\\Back-end\\logic\\game.py:164\u001b[39m, in \u001b[36mGame.action\u001b[39m\u001b[34m(self, player, action)\u001b[39m\n\u001b[32m    161\u001b[39m         \u001b[38;5;28mself\u001b[39m.tasks.append({\u001b[33m\"\u001b[39m\u001b[33mplayer\u001b[39m\u001b[33m\"\u001b[39m:\u001b[33m\"\u001b[39m\u001b[33mserver\u001b[39m\u001b[33m\"\u001b[39m,\u001b[33m\"\u001b[39m\u001b[33mtarget\u001b[39m\u001b[33m\"\u001b[39m:player,\u001b[33m\"\u001b[39m\u001b[33mtype\u001b[39m\u001b[33m\"\u001b[39m:\u001b[33m\"\u001b[39m\u001b[33merror\u001b[39m\u001b[33m\"\u001b[39m,\u001b[33m\"\u001b[39m\u001b[33mdata\u001b[39m\u001b[33m\"\u001b[39m:result[\u001b[32m1\u001b[39m]})\n\u001b[32m    162\u001b[39m \u001b[38;5;28;01mcase\u001b[39;00m \u001b[33m\"\u001b[39m\u001b[33msabotage\u001b[39m\u001b[33m\"\u001b[39m: \u001b[38;5;66;03m# action = {\"type\":\"saboteur\",\"data\":{\"player\":self.currentPlayer,\"target\":str,\"handNum\":int}}\u001b[39;00m\n\u001b[32m    163\u001b[39m     \u001b[38;5;66;03m# 사보타주 행동\u001b[39;00m\n\u001b[32m--> \u001b[39m\u001b[32m164\u001b[39m     result = \u001b[38;5;28;43mself\u001b[39;49m\u001b[43m.\u001b[49m\u001b[43mplayers\u001b[49m\u001b[43m[\u001b[49m\u001b[43mtarget\u001b[49m\u001b[43m]\u001b[49m\u001b[43m.\u001b[49m\u001b[43msetLimit\u001b[49m\u001b[43m(\u001b[49m\u001b[43mactionType\u001b[49m\u001b[43m)\u001b[49m\n\u001b[32m    165\u001b[39m     \u001b[38;5;28;01mif\u001b[39;00m result == \u001b[38;5;28;01mTrue\u001b[39;00m:\n\u001b[32m    166\u001b[39m         \u001b[38;5;66;03m# 사보타주 성공\u001b[39;00m\n\u001b[32m    167\u001b[39m         \u001b[38;5;28mself\u001b[39m.tasks.append({\u001b[33m\"\u001b[39m\u001b[33mplayer\u001b[39m\u001b[33m\"\u001b[39m:\u001b[38;5;28mself\u001b[39m.currentPlayer,\u001b[33m\"\u001b[39m\u001b[33mtarget\u001b[39m\u001b[33m\"\u001b[39m:\u001b[33m\"\u001b[39m\u001b[33mall\u001b[39m\u001b[33m\"\u001b[39m,\u001b[33m\"\u001b[39m\u001b[33mtype\u001b[39m\u001b[33m\"\u001b[39m:\u001b[33m\"\u001b[39m\u001b[33msaboteur\u001b[39m\u001b[33m\"\u001b[39m,\u001b[33m\"\u001b[39m\u001b[33mdata\u001b[39m\u001b[33m\"\u001b[39m:{\u001b[33m\"\u001b[39m\u001b[33mplayer\u001b[39m\u001b[33m\"\u001b[39m:\u001b[38;5;28mself\u001b[39m.currentPlayer,\u001b[33m\"\u001b[39m\u001b[33mtarget\u001b[39m\u001b[33m\"\u001b[39m:target,\u001b[33m\"\u001b[39m\u001b[33mcardType\u001b[39m\u001b[33m\"\u001b[39m:actionType}})\n",
      "\u001b[36mFile \u001b[39m\u001b[32mc:\\Users\\js000\\OneDrive\\Documents\\GitHub\\Back-end\\logic\\player.py:39\u001b[39m, in \u001b[36mPlayer.setLimit\u001b[39m\u001b[34m(self, cardType)\u001b[39m\n\u001b[32m     38\u001b[39m \u001b[38;5;28;01mdef\u001b[39;00m\u001b[38;5;250m \u001b[39m\u001b[34msetLimit\u001b[39m(\u001b[38;5;28mself\u001b[39m, cardType:\u001b[38;5;28mstr\u001b[39m):\n\u001b[32m---> \u001b[39m\u001b[32m39\u001b[39m     \u001b[38;5;28;01mif\u001b[39;00m \u001b[38;5;28;43mself\u001b[39;49m\u001b[43m.\u001b[49m\u001b[43mlimit\u001b[49m\u001b[43m[\u001b[49m\u001b[43mcardType\u001b[49m\u001b[43m]\u001b[49m == \u001b[38;5;28;01mFalse\u001b[39;00m:\n\u001b[32m     40\u001b[39m         \u001b[38;5;28mself\u001b[39m.limit[cardType] = \u001b[38;5;28;01mTrue\u001b[39;00m\n\u001b[32m     41\u001b[39m         \u001b[38;5;28;01mreturn\u001b[39;00m \u001b[38;5;28;01mTrue\u001b[39;00m\n",
      "\u001b[31mTypeError\u001b[39m: unhashable type: 'list'"
     ]
    }
   ],
   "source": [
    "game.action(game.currentPlayer,{\"type\":\"sabotage\",\"data\":{\"target\":\"김두현\",\"handNum\":3}})"
   ]
  },
  {
   "cell_type": "code",
   "execution_count": null,
   "metadata": {},
   "outputs": [
    {
     "name": "stdout",
     "output_type": "stream",
     "text": [
      "action :  {'type': 'repair', 'data': {'target': '김재훈', 'handNum': 5}}\n",
      "[<card.Card object at 0x1188cbb00>, <card.Card object at 0x1188d0290>, <card.Card object at 0x1188cabd0>, <card.Card object at 0x1188cbf20>, <card.Card object at 0x1188d0080>, <card.Card object at 0x1188d0170>]\n"
     ]
    },
    {
     "data": {
      "text/plain": [
       "[{'type': 'repair', 'data': {'target': '김재훈', 'cardType': ['pickax']}},\n",
       " {'type': 'turn_change', 'data': '김도훈'}]"
      ]
     },
     "execution_count": 111,
     "metadata": {},
     "output_type": "execute_result"
    }
   ],
   "source": [
    "game.action(game.currentPlayer,{\"type\":\"repair\",\"data\":{\"target\":\"김재훈\",\"handNum\":5}})"
   ]
  },
  {
   "cell_type": "code",
   "execution_count": null,
   "metadata": {},
   "outputs": [
    {
     "name": "stdout",
     "output_type": "stream",
     "text": [
      "action :  {'type': 'discard', 'data': {'handNum': 4}}\n",
      "[<card.Card object at 0x115ffea20>, <card.Card object at 0x115ffe660>, <card.Card object at 0x115fce2a0>, <card.Card object at 0x115fce1e0>, <card.Card object at 0x115ffc4d0>]\n"
     ]
    },
    {
     "data": {
      "text/plain": [
       "[{'type': 'discard', 'data': {'handNum': 4}},\n",
       " {'type': 'drawCard', 'data': {'card': <card.Card at 0x115ffc260>}},\n",
       " {'type': 'turn_change', 'data': '김재훈'}]"
      ]
     },
     "execution_count": 20,
     "metadata": {},
     "output_type": "execute_result"
    }
   ],
   "source": [
    "game.action(game.currentPlayer, {\"type\":\"discard\",\"data\":{\"handNum\":4}})"
   ]
  },
  {
   "cell_type": "code",
   "execution_count": null,
   "metadata": {},
   "outputs": [
    {
     "name": "stdout",
     "output_type": "stream",
     "text": [
      "action :  {'type': 'path', 'data': {'x': 10, 'y': 6, 'handNum': 3}}\n",
      "[<card.Card object at 0x1188d0350>, <card.Card object at 0x1188d0230>, <card.Card object at 0x1188cafc0>, <card.Card object at 0x1188cb830>, <card.Card object at 0x1188cb410>, <card.Card object at 0x1188cbda0>]\n",
      "(1, 0)\n",
      "(2, 0)\n",
      "(4, 0)\n",
      "[((7, 13), (8, 13)), ((8, 6), (9, 6)), ((8, 12), (8, 13)), ((8, 13), (8, 14)), ((8, 13), (9, 13)), ((9, 5), (10, 5)), ((9, 6), (9, 7)), ((9, 13), (10, 13)), ((10, 4), (10, 5)), ((10, 5), (11, 5)), ((10, 12), (10, 13)), ((10, 13), (10, 14)), ((10, 13), (11, 13)), ((11, 13), (12, 13)), ((12, 12), (12, 13)), ((12, 13), (12, 14)), ((12, 13), (13, 13))]\n",
      "error totalPathVerification\n",
      "Result :  (False, 'error totalPathVerification')\n"
     ]
    },
    {
     "data": {
      "text/plain": [
       "[{'type': 'error', 'data': 'error totalPathVerification'}]"
      ]
     },
     "execution_count": 149,
     "metadata": {},
     "output_type": "execute_result"
    }
   ],
   "source": [
    "game.action(game.currentPlayer,{\"type\":\"path\",\"data\":{\"x\":10,\"y\":6,\"handNum\":3}})"
   ]
  },
  {
   "cell_type": "code",
   "execution_count": null,
   "metadata": {},
   "outputs": [],
   "source": [
    "game.players[game.currentPlayer].hand[3].reversePathCard()"
   ]
  },
  {
   "cell_type": "code",
   "execution_count": null,
   "metadata": {},
   "outputs": [
    {
     "name": "stdout",
     "output_type": "stream",
     "text": [
      "action :  {'type': 'path', 'data': {'x': 10, 'y': 6, 'handNum': 3}}\n",
      "[<card.Card object at 0x1128156a0>, <card.Card object at 0x112814fe0>, <card.Card object at 0x1128159d0>, <card.Card object at 0x112814cb0>, <card.Card object at 0x1128152b0>]\n"
     ]
    },
    {
     "data": {
      "text/plain": [
       "[{'type': 'error', 'data': '장비가 제한된 상태입니다.'}]"
      ]
     },
     "execution_count": 26,
     "metadata": {},
     "output_type": "execute_result"
    }
   ],
   "source": [
    "game.action(game.currentPlayer,{\"type\":\"path\",\"data\":{\"x\":10,\"y\":6,\"handNum\":3}})"
   ]
  },
  {
   "cell_type": "code",
   "execution_count": null,
   "metadata": {},
   "outputs": [
    {
     "name": "stdout",
     "output_type": "stream",
     "text": [
      "current player : 송하영\n",
      "0 : <card.Card object at 0x10d1eefc0>\n",
      "┏--┳--┓\n",
      "|  |  |\n",
      "┣-- --┫\n",
      "|     |\n",
      "┕-----┚\n",
      "1 : <card.Card object at 0x10d1ef7d0>\n",
      "type :  repair\n",
      "info :  ['mineCart', 'lentern']\n",
      "2 : <card.Card object at 0x10d1ef5c0>\n",
      "type :  sabotage\n",
      "info :  pickax\n",
      "3 : <card.Card object at 0x10d1eee40>\n",
      "┏--┳--┓\n",
      "|  |  |\n",
      "|   --┫\n",
      "|  |  |\n",
      "┕--┻--┚\n",
      "4 : <card.Card object at 0x10d1ee6f0>\n",
      "┏--┳--┓\n",
      "|  |  |\n",
      "┣--┻--┫\n",
      "|     |\n",
      "┕-----┚\n"
     ]
    }
   ],
   "source": [
    "show_hand()"
   ]
  },
  {
   "cell_type": "code",
   "execution_count": null,
   "metadata": {},
   "outputs": [],
   "source": [
    "game.players[game.currentPlayer].hand[0].reversePathCard()"
   ]
  },
  {
   "cell_type": "code",
   "execution_count": null,
   "metadata": {},
   "outputs": [
    {
     "name": "stdout",
     "output_type": "stream",
     "text": [
      "action :  {'type': 'path', 'data': {'x': 11, 'y': 5, 'handNum': 4}}\n",
      "[<card.Card object at 0x1108ca420>, <card.Card object at 0x1108ca5a0>, <card.Card object at 0x1108ca810>, <card.Card object at 0x112fe31a0>, <card.Card object at 0x1108c9f70>]\n",
      "(1, 2, 3)\n",
      "[((7, 13), (8, 13)), ((8, 12), (8, 13)), ((8, 13), (8, 14)), ((8, 13), (9, 13)), ((9, 5), (10, 5)), ((9, 13), (10, 13)), ((10, 4), (10, 5)), ((10, 5), (10, 6)), ((10, 5), (11, 5)), ((10, 12), (10, 13)), ((10, 13), (10, 14)), ((10, 13), (11, 13)), ((11, 5), (11, 6)), ((11, 5), (12, 5)), ((11, 13), (12, 13)), ((12, 12), (12, 13)), ((12, 13), (12, 14)), ((12, 13), (13, 13))]\n",
      "path:  [(10, 5), (11, 5)]\n",
      "Result :  True\n"
     ]
    },
    {
     "data": {
      "text/plain": [
       "[{'type': 'path',\n",
       "  'data': {'x': 11, 'y': 5, 'card': <card.Card at 0x1108c9f70>}},\n",
       " {'type': 'turn_change', 'data': '김도훈'}]"
      ]
     },
     "execution_count": 15,
     "metadata": {},
     "output_type": "execute_result"
    }
   ],
   "source": [
    "game.action(game.currentPlayer,{\"type\":\"path\",\"data\":{\"x\":11,\"y\":5,\"handNum\":4}})"
   ]
  },
  {
   "cell_type": "code",
   "execution_count": null,
   "metadata": {},
   "outputs": [
    {
     "name": "stdout",
     "output_type": "stream",
     "text": [
      "current player : 김도훈\n",
      "0 : <card.Card object at 0x112fe2840>\n",
      "┏--┳--┓\n",
      "|  |  |\n",
      "┣-- --┫\n",
      "|  |  |\n",
      "┕--┻--┚\n",
      "1 : <card.Card object at 0x112fe2e10>\n",
      "type :  sabotage\n",
      "info :  pickax\n",
      "2 : <card.Card object at 0x1108c9b80>\n",
      "┏--┳--┓\n",
      "|  |  |\n",
      "|  |  |\n",
      "|  |  |\n",
      "┕--┻--┚\n",
      "3 : <card.Card object at 0x1106ba300>\n",
      "┏--┳--┓\n",
      "|  |  |\n",
      "|     |\n",
      "|  |  |\n",
      "┕--┻--┚\n",
      "4 : <card.Card object at 0x1108ca960>\n",
      "┏--┳--┓\n",
      "|  |  |\n",
      "┣--   |\n",
      "|     |\n",
      "┕-----┚\n"
     ]
    }
   ],
   "source": [
    "show_hand()"
   ]
  },
  {
   "cell_type": "code",
   "execution_count": null,
   "metadata": {},
   "outputs": [],
   "source": [
    "game.players[game.currentPlayer].hand[0].reversePathCard()"
   ]
  },
  {
   "cell_type": "code",
   "execution_count": null,
   "metadata": {},
   "outputs": [
    {
     "name": "stdout",
     "output_type": "stream",
     "text": [
      "action :  {'type': 'path', 'data': {'x': 10, 'y': 6, 'handNum': 0}}\n",
      "[<card.Card object at 0x1108ca480>, <card.Card object at 0x112fe3020>, <card.Card object at 0x1108ca330>, <card.Card object at 0x1108ca6c0>, <card.Card object at 0x1108caa50>]\n",
      "(3, 0)\n",
      "(4, 0)\n",
      "(1, 0)\n",
      "[((7, 13), (8, 13)), ((8, 12), (8, 13)), ((8, 13), (8, 14)), ((8, 13), (9, 13)), ((9, 5), (10, 5)), ((9, 13), (10, 13)), ((10, 4), (10, 5)), ((10, 5), (10, 6)), ((10, 5), (11, 5)), ((10, 12), (10, 13)), ((10, 13), (10, 14)), ((10, 13), (11, 13)), ((11, 13), (12, 13)), ((12, 12), (12, 13)), ((12, 13), (12, 14)), ((12, 13), (13, 13))]\n",
      "path:  [(10, 5), (10, 6)]\n",
      "Result :  True\n"
     ]
    },
    {
     "data": {
      "text/plain": [
       "[{'type': 'path',\n",
       "  'data': {'x': 10, 'y': 6, 'card': <card.Card at 0x1108ca480>}},\n",
       " {'type': 'turn_change', 'data': '김두현'}]"
      ]
     },
     "metadata": {},
     "output_type": "display_data"
    }
   ],
   "source": [
    "game.action(game.currentPlayer,{\"type\":\"path\",\"data\":{\"x\":10,\"y\":6,\"handNum\":0}})"
   ]
  },
  {
   "cell_type": "code",
   "execution_count": null,
   "metadata": {},
   "outputs": [
    {
     "data": {
      "text/plain": [
       "[(8, 13), (10, 5), (10, 6), (10, 13), (12, 13)]"
      ]
     },
     "execution_count": 24,
     "metadata": {},
     "output_type": "execute_result"
    }
   ],
   "source": [
    "[n for n,attr in game.board.path.nodes(data=True) if attr.get(\"active\") == True]"
   ]
  },
  {
   "cell_type": "code",
   "execution_count": null,
   "metadata": {},
   "outputs": [
    {
     "data": {
      "text/plain": [
       "EdgeView([((7, 13), (8, 13)), ((8, 12), (8, 13)), ((8, 13), (8, 14)), ((8, 13), (9, 13)), ((9, 5), (10, 5)), ((9, 13), (10, 13)), ((10, 4), (10, 5)), ((10, 5), (10, 6)), ((10, 5), (11, 5)), ((10, 12), (10, 13)), ((10, 13), (10, 14)), ((10, 13), (11, 13)), ((11, 13), (12, 13)), ((12, 12), (12, 13)), ((12, 13), (12, 14)), ((12, 13), (13, 13))])"
      ]
     },
     "execution_count": 34,
     "metadata": {},
     "output_type": "execute_result"
    }
   ],
   "source": [
    "game.board.path.edges"
   ]
  },
  {
   "cell_type": "code",
   "execution_count": null,
   "metadata": {},
   "outputs": [],
   "source": []
  },
  {
   "cell_type": "code",
   "execution_count": null,
   "metadata": {},
   "outputs": [
    {
     "ename": "AttributeError",
     "evalue": "'AtlasView' object has no attribute 'edges'",
     "output_type": "error",
     "traceback": [
      "\u001b[0;31m---------------------------------------------------------------------------\u001b[0m",
      "\u001b[0;31mAttributeError\u001b[0m                            Traceback (most recent call last)",
      "Cell \u001b[0;32mIn[12], line 2\u001b[0m\n\u001b[1;32m      1\u001b[0m path \u001b[38;5;241m=\u001b[39m game\u001b[38;5;241m.\u001b[39mboard\u001b[38;5;241m.\u001b[39mpath[(\u001b[38;5;241m10\u001b[39m,\u001b[38;5;241m6\u001b[39m)]\n\u001b[0;32m----> 2\u001b[0m \u001b[43mpath\u001b[49m\u001b[38;5;241;43m.\u001b[39;49m\u001b[43medges\u001b[49m()\n",
      "\u001b[0;31mAttributeError\u001b[0m: 'AtlasView' object has no attribute 'edges'"
     ]
    }
   ],
   "source": [
    "path = game.board.path[(10,6)]\n",
    "\n",
    "path.edges()\n"
   ]
  },
  {
   "cell_type": "code",
   "execution_count": null,
   "metadata": {},
   "outputs": [],
   "source": []
  },
  {
   "cell_type": "code",
   "execution_count": null,
   "metadata": {},
   "outputs": [],
   "source": []
  },
  {
   "cell_type": "code",
   "execution_count": null,
   "metadata": {},
   "outputs": [],
   "source": [
    "print(list(path.edges))"
   ]
  },
  {
   "cell_type": "code",
   "execution_count": null,
   "metadata": {},
   "outputs": [],
   "source": []
  },
  {
   "cell_type": "code",
   "execution_count": null,
   "metadata": {},
   "outputs": [],
   "source": []
  },
  {
   "cell_type": "code",
   "execution_count": null,
   "metadata": {},
   "outputs": [],
   "source": []
  },
  {
   "cell_type": "code",
   "execution_count": null,
   "metadata": {},
   "outputs": [],
   "source": []
  },
  {
   "cell_type": "code",
   "execution_count": null,
   "metadata": {},
   "outputs": [],
   "source": []
  },
  {
   "cell_type": "code",
   "execution_count": null,
   "metadata": {},
   "outputs": [
    {
     "name": "stdout",
     "output_type": "stream",
     "text": [
      "current player : 송하영\n",
      "0 : <card.Card object at 0x11305af90>\n",
      "┏--┳--┓\n",
      "|  |  |\n",
      "┣--   |\n",
      "|     |\n",
      "┕-----┚\n",
      "1 : <card.Card object at 0x11305a450>\n",
      "┏--┳--┓\n",
      "|  |  |\n",
      "|  ┣--┫\n",
      "|  |  |\n",
      "┕--┻--┚\n",
      "2 : <card.Card object at 0x11305a510>\n",
      "┏--┳--┓\n",
      "|  |  |\n",
      "┣--┻--┫\n",
      "|     |\n",
      "┕-----┚\n",
      "3 : <card.Card object at 0x11305a690>\n",
      "┏-----┓\n",
      "|     |\n",
      "┣-----┫\n",
      "|     |\n",
      "┕-----┚\n",
      "4 : <card.Card object at 0x10dd6afc0>\n",
      "┏-----┓\n",
      "|     |\n",
      "|   --┫\n",
      "|     |\n",
      "┕-----┚\n"
     ]
    }
   ],
   "source": [
    "show_hand()"
   ]
  },
  {
   "cell_type": "code",
   "execution_count": null,
   "metadata": {},
   "outputs": [],
   "source": [
    "game.players[game.currentPlayer].hand[0].reversePathCard()"
   ]
  },
  {
   "cell_type": "code",
   "execution_count": null,
   "metadata": {},
   "outputs": [
    {
     "name": "stdout",
     "output_type": "stream",
     "text": [
      "current player : 송하영\n",
      "0 : <card.Card object at 0x11305af90>\n",
      "┏-----┓\n",
      "|     |\n",
      "|   --┫\n",
      "|  |  |\n",
      "┕--┻--┚\n",
      "1 : <card.Card object at 0x11305a450>\n",
      "┏--┳--┓\n",
      "|  |  |\n",
      "|  ┣--┫\n",
      "|  |  |\n",
      "┕--┻--┚\n",
      "2 : <card.Card object at 0x11305a510>\n",
      "┏--┳--┓\n",
      "|  |  |\n",
      "┣--┻--┫\n",
      "|     |\n",
      "┕-----┚\n",
      "3 : <card.Card object at 0x11305a690>\n",
      "┏-----┓\n",
      "|     |\n",
      "┣-----┫\n",
      "|     |\n",
      "┕-----┚\n",
      "4 : <card.Card object at 0x10dd6afc0>\n",
      "┏-----┓\n",
      "|     |\n",
      "|   --┫\n",
      "|     |\n",
      "┕-----┚\n"
     ]
    }
   ],
   "source": [
    "show_hand()"
   ]
  },
  {
   "cell_type": "code",
   "execution_count": null,
   "metadata": {},
   "outputs": [
    {
     "name": "stdout",
     "output_type": "stream",
     "text": [
      "action :  {'type': 'path', 'data': {'x': 10, 'y': 7, 'handNum': 0}}\n",
      "[<card.Card object at 0x11305af90>, <card.Card object at 0x11305a450>, <card.Card object at 0x11305a510>, <card.Card object at 0x11305a690>, <card.Card object at 0x10dd6afc0>]\n",
      "error totalPathVerification\n",
      "Result :  (False, 'error totalPathVerification')\n"
     ]
    },
    {
     "data": {
      "text/plain": [
       "[{'type': 'error', 'data': 'error totalPathVerification'}]"
      ]
     },
     "execution_count": 11,
     "metadata": {},
     "output_type": "execute_result"
    }
   ],
   "source": [
    "game.action(game.currentPlayer,{\"type\":\"path\",\"data\":{\"x\":10,\"y\":7,\"handNum\":0}})"
   ]
  },
  {
   "cell_type": "code",
   "execution_count": null,
   "metadata": {},
   "outputs": [
    {
     "name": "stdout",
     "output_type": "stream",
     "text": [
      "action :  {'type': 'path', 'data': {'x': 9, 'y': 6, 'handNum': 0}}\n",
      "[<card.Card object at 0x11305af90>, <card.Card object at 0x11305a450>, <card.Card object at 0x11305a510>, <card.Card object at 0x11305a690>, <card.Card object at 0x10dd6afc0>]\n",
      "error totalPathVerification\n",
      "Result :  (False, 'error totalPathVerification')\n"
     ]
    },
    {
     "data": {
      "text/plain": [
       "[{'type': 'error', 'data': 'error totalPathVerification'}]"
      ]
     },
     "execution_count": 15,
     "metadata": {},
     "output_type": "execute_result"
    }
   ],
   "source": [
    "game.action(game.currentPlayer,{\"type\":\"path\",\"data\":{\"x\":9,\"y\":6,\"handNum\":0}})"
   ]
  },
  {
   "cell_type": "code",
   "execution_count": null,
   "metadata": {},
   "outputs": [
    {
     "name": "stdout",
     "output_type": "stream",
     "text": [
      "action :  {'type': 'path', 'data': {'x': 10, 'y': 6, 'card': 3}}\n",
      "{'type': 'path', 'info': [(1, 2, 3, 4), False], 'map': array([['┏', '-', '-', '┳', '-', '-', '┓'],\n",
      "       ['|', ' ', ' ', '|', ' ', ' ', '|'],\n",
      "       ['┣', '-', '-', '╋', '-', '-', '┫'],\n",
      "       ['|', ' ', ' ', '|', ' ', ' ', '|'],\n",
      "       ['┕', '-', '-', '┻', '-', '-', '┚']], dtype='<U1')}\n",
      "Result :  True\n"
     ]
    },
    {
     "data": {
      "text/plain": [
       "[{'type': 'path', 'data': {'x': 10, 'y': 6, 'card': 3}},\n",
       " {'type': 'turn_change', 'data': 1}]"
      ]
     },
     "metadata": {},
     "output_type": "display_data"
    }
   ],
   "source": [
    "game.action(0,{\"type\":\"path\",\"data\":{\"x\":10,\"y\":6,\"card\":3}})"
   ]
  },
  {
   "cell_type": "code",
   "execution_count": null,
   "metadata": {},
   "outputs": [
    {
     "data": {
      "text/plain": [
       "1"
      ]
     },
     "metadata": {},
     "output_type": "display_data"
    }
   ],
   "source": [
    "game.current_player"
   ]
  },
  {
   "cell_type": "code",
   "execution_count": null,
   "metadata": {},
   "outputs": [
    {
     "data": {
      "text/plain": [
       "[{'type': 'error', 'data': 'not your turn'}]"
      ]
     },
     "metadata": {},
     "output_type": "display_data"
    }
   ],
   "source": [
    "game.action(0,{\"type\":\"path\",\"data\":{\"x\":10,\"y\":6,\"card\":3}})"
   ]
  },
  {
   "cell_type": "code",
   "execution_count": null,
   "metadata": {},
   "outputs": [
    {
     "name": "stdout",
     "output_type": "stream",
     "text": [
      "action :  {'type': 'path', 'data': {'x': 10, 'y': 6, 'card': 3}}\n",
      "{'type': 'path', 'info': [(1, 2, 3, 4), False], 'map': array([['┏', '-', '-', '┳', '-', '-', '┓'],\n",
      "       ['|', ' ', ' ', '|', ' ', ' ', '|'],\n",
      "       ['┣', '-', '-', '╋', '-', '-', '┫'],\n",
      "       ['|', ' ', ' ', '|', ' ', ' ', '|'],\n",
      "       ['┕', '-', '-', '┻', '-', '-', '┚']], dtype='<U1')}\n",
      "Result :  (False, 'error emptyVerification')\n"
     ]
    },
    {
     "data": {
      "text/plain": [
       "[{'type': 'error', 'data': 'error emptyVerification'}]"
      ]
     },
     "metadata": {},
     "output_type": "display_data"
    }
   ],
   "source": [
    "game.action(1,{\"type\":\"path\",\"data\":{\"x\":10,\"y\":6,\"card\":3}})"
   ]
  },
  {
   "cell_type": "code",
   "execution_count": null,
   "metadata": {},
   "outputs": [
    {
     "name": "stdout",
     "output_type": "stream",
     "text": [
      "action :  {'type': 'path', 'data': {'x': 10, 'y': 7, 'card': 3}}\n",
      "{'type': 'path', 'info': [(1, 2, 3, 4), False], 'map': array([['┏', '-', '-', '┳', '-', '-', '┓'],\n",
      "       ['|', ' ', ' ', '|', ' ', ' ', '|'],\n",
      "       ['┣', '-', '-', '╋', '-', '-', '┫'],\n",
      "       ['|', ' ', ' ', '|', ' ', ' ', '|'],\n",
      "       ['┕', '-', '-', '┻', '-', '-', '┚']], dtype='<U1')}\n",
      "Result :  True\n"
     ]
    },
    {
     "data": {
      "text/plain": [
       "[{'type': 'path', 'data': {'x': 10, 'y': 7, 'card': 3}},\n",
       " {'type': 'turn_change', 'data': 2}]"
      ]
     },
     "metadata": {},
     "output_type": "display_data"
    }
   ],
   "source": [
    "game.action(1,{\"type\":\"path\",\"data\":{\"x\":10,\"y\":7,\"card\":3}})"
   ]
  },
  {
   "cell_type": "code",
   "execution_count": null,
   "metadata": {},
   "outputs": [
    {
     "name": "stdout",
     "output_type": "stream",
     "text": [
      "action :  {'type': 'path', 'data': {'x': 10, 'y': 7, 'card': 3}}\n",
      "{'type': 'path', 'info': [(1, 2, 3, 4), False], 'map': array([['┏', '-', '-', '┳', '-', '-', '┓'],\n",
      "       ['|', ' ', ' ', '|', ' ', ' ', '|'],\n",
      "       ['┣', '-', '-', '╋', '-', '-', '┫'],\n",
      "       ['|', ' ', ' ', '|', ' ', ' ', '|'],\n",
      "       ['┕', '-', '-', '┻', '-', '-', '┚']], dtype='<U1')}\n",
      "Result :  (False, 'error emptyVerification')\n"
     ]
    },
    {
     "data": {
      "text/plain": [
       "[{'type': 'error', 'data': 'error emptyVerification'}]"
      ]
     },
     "metadata": {},
     "output_type": "display_data"
    }
   ],
   "source": [
    "game.action(2,{\"type\":\"path\",\"data\":{\"x\":10,\"y\":7,\"card\":3}})"
   ]
  },
  {
   "cell_type": "code",
   "execution_count": null,
   "metadata": {},
   "outputs": [
    {
     "name": "stdout",
     "output_type": "stream",
     "text": [
      "{'type': 'path', 'info': [(0, 0), False], 'map': array([[' ', ' ', ' ', ' ', ' ', ' ', ' '],\n",
      "       [' ', ' ', ' ', ' ', ' ', ' ', ' '],\n",
      "       [' ', ' ', ' ', ' ', ' ', ' ', ' '],\n",
      "       [' ', ' ', ' ', ' ', ' ', ' ', ' '],\n",
      "       [' ', ' ', ' ', ' ', ' ', ' ', ' ']], dtype='<U1')}\n"
     ]
    },
    {
     "data": {
      "text/plain": [
       "True"
      ]
     },
     "metadata": {},
     "output_type": "display_data"
    }
   ],
   "source": [
    "game.board.rockFail(10,7)"
   ]
  },
  {
   "cell_type": "code",
   "execution_count": null,
   "metadata": {},
   "outputs": [
    {
     "name": "stdout",
     "output_type": "stream",
     "text": [
      "action :  {'type': 'path', 'data': {'x': 10, 'y': 7, 'card': 3}}\n",
      "{'type': 'path', 'info': [(1, 2, 3, 4), False], 'map': array([['┏', '-', '-', '┳', '-', '-', '┓'],\n",
      "       ['|', ' ', ' ', '|', ' ', ' ', '|'],\n",
      "       ['┣', '-', '-', '╋', '-', '-', '┫'],\n",
      "       ['|', ' ', ' ', '|', ' ', ' ', '|'],\n",
      "       ['┕', '-', '-', '┻', '-', '-', '┚']], dtype='<U1')}\n",
      "Result :  (False, 'error emptyVerification')\n"
     ]
    },
    {
     "data": {
      "text/plain": [
       "[{'type': 'error', 'data': 'error emptyVerification'}]"
      ]
     },
     "metadata": {},
     "output_type": "display_data"
    }
   ],
   "source": [
    "game.action(3,{\"type\":\"path\",\"data\":{\"x\":10,\"y\":7,\"card\":3}})"
   ]
  },
  {
   "cell_type": "code",
   "execution_count": null,
   "metadata": {},
   "outputs": [
    {
     "name": "stdout",
     "output_type": "stream",
     "text": [
      "action :  {'type': 'rockFail', 'data': {'x': 10, 'y': 6}}\n",
      "{'type': 'path', 'info': [(0, 0), False], 'map': array([[' ', ' ', ' ', ' ', ' ', ' ', ' '],\n",
      "       [' ', ' ', ' ', ' ', ' ', ' ', ' '],\n",
      "       [' ', ' ', ' ', ' ', ' ', ' ', ' '],\n",
      "       [' ', ' ', ' ', ' ', ' ', ' ', ' '],\n",
      "       [' ', ' ', ' ', ' ', ' ', ' ', ' ']], dtype='<U1')}\n"
     ]
    },
    {
     "data": {
      "text/plain": [
       "[{'type': 'rockFail', 'data': {'x': 10, 'y': 6}},\n",
       " {'type': 'turn_change', 'data': 3}]"
      ]
     },
     "metadata": {},
     "output_type": "display_data"
    }
   ],
   "source": [
    "game.action(2,{\"type\":\"rockFail\",\"data\":{\"x\":10,\"y\":6}})"
   ]
  },
  {
   "cell_type": "code",
   "execution_count": null,
   "metadata": {},
   "outputs": [
    {
     "data": {
      "text/plain": [
       "[{'type': 'error', 'data': 'not your turn'}]"
      ]
     },
     "metadata": {},
     "output_type": "display_data"
    }
   ],
   "source": [
    "game.action(5,{\"type\":\"path\",\"data\":{\"x\":10,\"y\":6,\"card\":3}})"
   ]
  },
  {
   "cell_type": "code",
   "execution_count": null,
   "metadata": {},
   "outputs": [
    {
     "name": "stdout",
     "output_type": "stream",
     "text": [
      "                                                                                                                                                                               \n",
      "                                                                                                                                                                               \n",
      "( 0, 0) ( 0, 1) ( 0, 2) ( 0, 3) ( 0, 4) ( 0, 5) ( 0, 6) ( 0, 7) ( 0, 8) ( 0, 9) ( 0,10) ( 0,11) ( 0,12) ( 0,13) ( 0,14) ( 0,15) ( 0,16) ( 0,17) ( 0,18) ( 0,19) ( 0,20) ( 0,21)\n",
      "                                                                                                                                                                               \n",
      "                                                                                                                                                                               \n",
      "                                                                                                                                                                               \n",
      "                                                                                                                                                                               \n",
      "( 1, 0) ( 1, 1) ( 1, 2) ( 1, 3) ( 1, 4) ( 1, 5) ( 1, 6) ( 1, 7) ( 1, 8) ( 1, 9) ( 1,10) ( 1,11) ( 1,12) ( 1,13) ( 1,14) ( 1,15) ( 1,16) ( 1,17) ( 1,18) ( 1,19) ( 1,20) ( 1,21)\n",
      "                                                                                                                                                                               \n",
      "                                                                                                                                                                               \n",
      "                                                                                                                                                                               \n",
      "                                                                                                                                                                               \n",
      "( 2, 0) ( 2, 1) ( 2, 2) ( 2, 3) ( 2, 4) ( 2, 5) ( 2, 6) ( 2, 7) ( 2, 8) ( 2, 9) ( 2,10) ( 2,11) ( 2,12) ( 2,13) ( 2,14) ( 2,15) ( 2,16) ( 2,17) ( 2,18) ( 2,19) ( 2,20) ( 2,21)\n",
      "                                                                                                                                                                               \n",
      "                                                                                                                                                                               \n",
      "                                                                                                                                                                               \n",
      "                                                                                                                                                                               \n",
      "( 3, 0) ( 3, 1) ( 3, 2) ( 3, 3) ( 3, 4) ( 3, 5) ( 3, 6) ( 3, 7) ( 3, 8) ( 3, 9) ( 3,10) ( 3,11) ( 3,12) ( 3,13) ( 3,14) ( 3,15) ( 3,16) ( 3,17) ( 3,18) ( 3,19) ( 3,20) ( 3,21)\n",
      "                                                                                                                                                                               \n",
      "                                                                                                                                                                               \n",
      "                                                                                                                                                                               \n",
      "                                                                                                                                                                               \n",
      "( 4, 0) ( 4, 1) ( 4, 2) ( 4, 3) ( 4, 4) ( 4, 5) ( 4, 6) ( 4, 7) ( 4, 8) ( 4, 9) ( 4,10) ( 4,11) ( 4,12) ( 4,13) ( 4,14) ( 4,15) ( 4,16) ( 4,17) ( 4,18) ( 4,19) ( 4,20) ( 4,21)\n",
      "                                                                                                                                                                               \n",
      "                                                                                                                                                                               \n",
      "                                                                                                                                                                               \n",
      "                                                                                                                                                                               \n",
      "( 5, 0) ( 5, 1) ( 5, 2) ( 5, 3) ( 5, 4) ( 5, 5) ( 5, 6) ( 5, 7) ( 5, 8) ( 5, 9) ( 5,10) ( 5,11) ( 5,12) ( 5,13) ( 5,14) ( 5,15) ( 5,16) ( 5,17) ( 5,18) ( 5,19) ( 5,20) ( 5,21)\n",
      "                                                                                                                                                                               \n",
      "                                                                                                                                                                               \n",
      "                                                                                                                                                                               \n",
      "                                                                                                                                                                               \n",
      "( 6, 0) ( 6, 1) ( 6, 2) ( 6, 3) ( 6, 4) ( 6, 5) ( 6, 6) ( 6, 7) ( 6, 8) ( 6, 9) ( 6,10) ( 6,11) ( 6,12) ( 6,13) ( 6,14) ( 6,15) ( 6,16) ( 6,17) ( 6,18) ( 6,19) ( 6,20) ( 6,21)\n",
      "                                                                                                                                                                               \n",
      "                                                                                                                                                                               \n",
      "                                                                                                                                                                               \n",
      "                                                                                                                                                                               \n",
      "( 7, 0) ( 7, 1) ( 7, 2) ( 7, 3) ( 7, 4) ( 7, 5) ( 7, 6) ( 7, 7) ( 7, 8) ( 7, 9) ( 7,10) ( 7,11) ( 7,12) ( 7,13) ( 7,14) ( 7,15) ( 7,16) ( 7,17) ( 7,18) ( 7,19) ( 7,20) ( 7,21)\n",
      "                                                                                                                                                                               \n",
      "                                                                                                                                                                               \n",
      "                                                                                                        ┏-----┓                                                                \n",
      "                                                                                                        |#####|                                                                \n",
      "( 8, 0) ( 8, 1) ( 8, 2) ( 8, 3) ( 8, 4) ( 8, 5) ( 8, 6) ( 8, 7) ( 8, 8) ( 8, 9) ( 8,10) ( 8,11) ( 8,12) |#####| ( 8,14) ( 8,15) ( 8,16) ( 8,17) ( 8,18) ( 8,19) ( 8,20) ( 8,21)\n",
      "                                                                                                        |hiden|                                                                \n",
      "                                                                                                        ┕-----┚                                                                \n",
      "                                                                                                                                                                               \n",
      "                                                                                                                                                                               \n",
      "( 9, 0) ( 9, 1) ( 9, 2) ( 9, 3) ( 9, 4) ( 9, 5) ( 9, 6) ( 9, 7) ( 9, 8) ( 9, 9) ( 9,10) ( 9,11) ( 9,12) ( 9,13) ( 9,14) ( 9,15) ( 9,16) ( 9,17) ( 9,18) ( 9,19) ( 9,20) ( 9,21)\n",
      "                                                                                                                                                                               \n",
      "                                                                                                                                                                               \n",
      "                                        ┏--┳--┓ ┏--┳--┓ ┏--┳--┓                                         ┏--┳--┓                                                                \n",
      "                                        |##|##| |  |  | |  |  |                                         |  |##|                                                                \n",
      "(10, 0) (10, 1) (10, 2) (10, 3) (10, 4) ┣--╋--┫ ┣--╋--┫ ┣--╋--┫ (10, 8) (10, 9) (10,10) (10,11) (10,12) |  ┕--┫ (10,14) (10,15) (10,16) (10,17) (10,18) (10,19) (10,20) (10,21)\n",
      "                                        |##|##| |  |  | |  |  |                                         |hiden|                                                                \n",
      "                                        ┕--┻--┚ ┕--┻--┚ ┕--┻--┚                                         ┕-----┚                                                                \n",
      "                                                                                                                                                                               \n",
      "                                                                                                                                                                               \n",
      "(11, 0) (11, 1) (11, 2) (11, 3) (11, 4) (11, 5) (11, 6) (11, 7) (11, 8) (11, 9) (11,10) (11,11) (11,12) (11,13) (11,14) (11,15) (11,16) (11,17) (11,18) (11,19) (11,20) (11,21)\n",
      "                                                                                                                                                                               \n",
      "                                                                                                                                                                               \n",
      "                                                                                                        ┏--┳--┓                                                                \n",
      "                                                                                                        |  |##|                                                                \n",
      "(12, 0) (12, 1) (12, 2) (12, 3) (12, 4) (12, 5) (12, 6) (12, 7) (12, 8) (12, 9) (12,10) (12,11) (12,12) |  ┕--┫ (12,14) (12,15) (12,16) (12,17) (12,18) (12,19) (12,20) (12,21)\n",
      "                                                                                                        |hiden|                                                                \n",
      "                                                                                                        ┕-----┚                                                                \n",
      "                                                                                                                                                                               \n",
      "                                                                                                                                                                               \n",
      "(13, 0) (13, 1) (13, 2) (13, 3) (13, 4) (13, 5) (13, 6) (13, 7) (13, 8) (13, 9) (13,10) (13,11) (13,12) (13,13) (13,14) (13,15) (13,16) (13,17) (13,18) (13,19) (13,20) (13,21)\n",
      "                                                                                                                                                                               \n",
      "                                                                                                                                                                               \n",
      "                                                                                                                                                                               \n",
      "                                                                                                                                                                               \n",
      "(14, 0) (14, 1) (14, 2) (14, 3) (14, 4) (14, 5) (14, 6) (14, 7) (14, 8) (14, 9) (14,10) (14,11) (14,12) (14,13) (14,14) (14,15) (14,16) (14,17) (14,18) (14,19) (14,20) (14,21)\n",
      "                                                                                                                                                                               \n",
      "                                                                                                                                                                               \n",
      "                                                                                                                                                                               \n",
      "                                                                                                                                                                               \n",
      "(15, 0) (15, 1) (15, 2) (15, 3) (15, 4) (15, 5) (15, 6) (15, 7) (15, 8) (15, 9) (15,10) (15,11) (15,12) (15,13) (15,14) (15,15) (15,16) (15,17) (15,18) (15,19) (15,20) (15,21)\n",
      "                                                                                                                                                                               \n",
      "                                                                                                                                                                               \n",
      "                                                                                                                                                                               \n",
      "                                                                                                                                                                               \n",
      "(16, 0) (16, 1) (16, 2) (16, 3) (16, 4) (16, 5) (16, 6) (16, 7) (16, 8) (16, 9) (16,10) (16,11) (16,12) (16,13) (16,14) (16,15) (16,16) (16,17) (16,18) (16,19) (16,20) (16,21)\n",
      "                                                                                                                                                                               \n",
      "                                                                                                                                                                               \n",
      "                                                                                                                                                                               \n",
      "                                                                                                                                                                               \n",
      "(17, 0) (17, 1) (17, 2) (17, 3) (17, 4) (17, 5) (17, 6) (17, 7) (17, 8) (17, 9) (17,10) (17,11) (17,12) (17,13) (17,14) (17,15) (17,16) (17,17) (17,18) (17,19) (17,20) (17,21)\n",
      "                                                                                                                                                                               \n",
      "                                                                                                                                                                               \n",
      "                                                                                                                                                                               \n",
      "                                                                                                                                                                               \n",
      "(18, 0) (18, 1) (18, 2) (18, 3) (18, 4) (18, 5) (18, 6) (18, 7) (18, 8) (18, 9) (18,10) (18,11) (18,12) (18,13) (18,14) (18,15) (18,16) (18,17) (18,18) (18,19) (18,20) (18,21)\n",
      "                                                                                                                                                                               \n",
      "                                                                                                                                                                               \n",
      "                                                                                                                                                                               \n",
      "                                                                                                                                                                               \n",
      "(19, 0) (19, 1) (19, 2) (19, 3) (19, 4) (19, 5) (19, 6) (19, 7) (19, 8) (19, 9) (19,10) (19,11) (19,12) (19,13) (19,14) (19,15) (19,16) (19,17) (19,18) (19,19) (19,20) (19,21)\n",
      "                                                                                                                                                                               \n",
      "                                                                                                                                                                               \n",
      "                                                                                                                                                                               \n",
      "                                                                                                                                                                               \n",
      "(20, 0) (20, 1) (20, 2) (20, 3) (20, 4) (20, 5) (20, 6) (20, 7) (20, 8) (20, 9) (20,10) (20,11) (20,12) (20,13) (20,14) (20,15) (20,16) (20,17) (20,18) (20,19) (20,20) (20,21)\n",
      "                                                                                                                                                                               \n",
      "                                                                                                                                                                               \n",
      "                                                                                                                                                                               \n",
      "                                                                                                                                                                               \n",
      "(21, 0) (21, 1) (21, 2) (21, 3) (21, 4) (21, 5) (21, 6) (21, 7) (21, 8) (21, 9) (21,10) (21,11) (21,12) (21,13) (21,14) (21,15) (21,16) (21,17) (21,18) (21,19) (21,20) (21,21)\n",
      "                                                                                                                                                                               \n",
      "                                                                                                                                                                               \n"
     ]
    }
   ],
   "source": [
    "game.board.showBoard()"
   ]
  },
  {
   "cell_type": "code",
   "execution_count": null,
   "metadata": {},
   "outputs": [
    {
     "name": "stdout",
     "output_type": "stream",
     "text": [
      "action :  {'type': 'path', 'data': {'x': 11, 'y': 6, 'card': 3}}\n",
      "{'type': 'path', 'info': [(1, 2, 3, 4), False], 'map': array([['┏', '-', '-', '┳', '-', '-', '┓'],\n",
      "       ['|', ' ', ' ', '|', ' ', ' ', '|'],\n",
      "       ['┣', '-', '-', '╋', '-', '-', '┫'],\n",
      "       ['|', ' ', ' ', '|', ' ', ' ', '|'],\n",
      "       ['┕', '-', '-', '┻', '-', '-', '┚']], dtype='<U1')}\n",
      "Result :  True\n"
     ]
    },
    {
     "data": {
      "text/plain": [
       "[{'type': 'path', 'data': {'x': 11, 'y': 6, 'card': 3}},\n",
       " {'type': 'turn_change', 'data': 4}]"
      ]
     },
     "metadata": {},
     "output_type": "display_data"
    }
   ],
   "source": [
    "game.action(3,{\"type\":\"path\",\"data\":{\"x\":11,\"y\":6,\"card\":3}})\n"
   ]
  },
  {
   "cell_type": "code",
   "execution_count": null,
   "metadata": {},
   "outputs": [
    {
     "data": {
      "text/plain": [
       "4"
      ]
     },
     "metadata": {},
     "output_type": "display_data"
    }
   ],
   "source": [
    "game.current_player"
   ]
  },
  {
   "cell_type": "code",
   "execution_count": null,
   "metadata": {},
   "outputs": [
    {
     "name": "stdout",
     "output_type": "stream",
     "text": [
      "game continue\n",
      "False\n"
     ]
    }
   ],
   "source": [
    "print(game.board.checkEnd())"
   ]
  },
  {
   "cell_type": "code",
   "execution_count": null,
   "metadata": {},
   "outputs": [
    {
     "data": {
      "text/plain": [
       "{'id': '',\n",
       " 'name': '김도훈',\n",
       " 'role': 'saboteur',\n",
       " 'hand': [<card.Card at 0x114798ef0>,\n",
       "  <card.Card at 0x114741af0>,\n",
       "  <card.Card at 0x114799e50>,\n",
       "  <card.Card at 0x11479a2d0>,\n",
       "  <card.Card at 0x114799490>],\n",
       " 'gold': 0,\n",
       " 'limit': False,\n",
       " 'alive': True}"
      ]
     },
     "metadata": {},
     "output_type": "display_data"
    }
   ],
   "source": [
    "game.players[\"김도훈\"].__dict__"
   ]
  },
  {
   "cell_type": "code",
   "execution_count": null,
   "metadata": {},
   "outputs": [
    {
     "data": {
      "text/plain": [
       "<bound method Card.reversePathCard of <card.Card object at 0x1147416d0>>"
      ]
     },
     "metadata": {},
     "output_type": "display_data"
    }
   ],
   "source": [
    "game.players[\"이다미\"].hand[-1].reversePathCard"
   ]
  },
  {
   "cell_type": "code",
   "execution_count": null,
   "metadata": {},
   "outputs": [
    {
     "name": "stdout",
     "output_type": "stream",
     "text": [
      "4\n",
      "┏--┳--┓\n",
      "|  |  |\n",
      "┣--╋--┫\n",
      "|  |  |\n",
      "┕--┻--┚\n",
      "{'type': 'action', 'info': ('rockFail',)}\n",
      "┏--┳--┓\n",
      "|  |  |\n",
      "┣-- --┫\n",
      "|     |\n",
      "┕-----┚\n",
      "┏--┳--┓\n",
      "|  |  |\n",
      "|   --┫\n",
      "|     |\n",
      "┕-----┚\n",
      "┏--┳--┓\n",
      "|  |  |\n",
      "|  ┕--┫\n",
      "|     |\n",
      "┕-----┚\n"
     ]
    }
   ],
   "source": [
    "print(game.current_player)\n",
    "for i in game.players[\"이다미\"].hand:\n",
    "    if type(i.map)!=type(None):\n",
    "        for j in i.map:\n",
    "            for k in j:\n",
    "                print(k, end=\"\")\n",
    "            print()\n",
    "    else:\n",
    "        print(i.Info)"
   ]
  },
  {
   "cell_type": "code",
   "execution_count": null,
   "metadata": {},
   "outputs": [
    {
     "name": "stdout",
     "output_type": "stream",
     "text": [
      "action :  {'type': 'path', 'data': {'x': 10, 'y': 8, 'card': 3}}\n",
      "{'type': 'path', 'info': [(1, 2, 3, 4), False], 'map': array([['┏', '-', '-', '┳', '-', '-', '┓'],\n",
      "       ['|', ' ', ' ', '|', ' ', ' ', '|'],\n",
      "       ['┣', '-', '-', '╋', '-', '-', '┫'],\n",
      "       ['|', ' ', ' ', '|', ' ', ' ', '|'],\n",
      "       ['┕', '-', '-', '┻', '-', '-', '┚']], dtype='<U1')}\n",
      "Result :  True\n"
     ]
    },
    {
     "data": {
      "text/plain": [
       "[{'type': 'path', 'data': {'x': 10, 'y': 8, 'card': 3}},\n",
       " {'type': 'turn_change', 'data': 5}]"
      ]
     },
     "metadata": {},
     "output_type": "display_data"
    }
   ],
   "source": [
    "hand = 0 \n",
    "card = game.players[\"이다미\"].hand[hand].num\n",
    "game.action(4,{\"type\":\"path\",\"data\":{\"x\":10,\"y\":8,\"card\":card}})\n"
   ]
  },
  {
   "cell_type": "code",
   "execution_count": null,
   "metadata": {},
   "outputs": [
    {
     "name": "stdout",
     "output_type": "stream",
     "text": [
      "                                                                                                                                                                               \n",
      "                                                                                                                                                                               \n",
      "( 0, 0) ( 0, 1) ( 0, 2) ( 0, 3) ( 0, 4) ( 0, 5) ( 0, 6) ( 0, 7) ( 0, 8) ( 0, 9) ( 0,10) ( 0,11) ( 0,12) ( 0,13) ( 0,14) ( 0,15) ( 0,16) ( 0,17) ( 0,18) ( 0,19) ( 0,20) ( 0,21)\n",
      "                                                                                                                                                                               \n",
      "                                                                                                                                                                               \n",
      "                                                                                                                                                                               \n",
      "                                                                                                                                                                               \n",
      "( 1, 0) ( 1, 1) ( 1, 2) ( 1, 3) ( 1, 4) ( 1, 5) ( 1, 6) ( 1, 7) ( 1, 8) ( 1, 9) ( 1,10) ( 1,11) ( 1,12) ( 1,13) ( 1,14) ( 1,15) ( 1,16) ( 1,17) ( 1,18) ( 1,19) ( 1,20) ( 1,21)\n",
      "                                                                                                                                                                               \n",
      "                                                                                                                                                                               \n",
      "                                                                                                                                                                               \n",
      "                                                                                                                                                                               \n",
      "( 2, 0) ( 2, 1) ( 2, 2) ( 2, 3) ( 2, 4) ( 2, 5) ( 2, 6) ( 2, 7) ( 2, 8) ( 2, 9) ( 2,10) ( 2,11) ( 2,12) ( 2,13) ( 2,14) ( 2,15) ( 2,16) ( 2,17) ( 2,18) ( 2,19) ( 2,20) ( 2,21)\n",
      "                                                                                                                                                                               \n",
      "                                                                                                                                                                               \n",
      "                                                                                                                                                                               \n",
      "                                                                                                                                                                               \n",
      "( 3, 0) ( 3, 1) ( 3, 2) ( 3, 3) ( 3, 4) ( 3, 5) ( 3, 6) ( 3, 7) ( 3, 8) ( 3, 9) ( 3,10) ( 3,11) ( 3,12) ( 3,13) ( 3,14) ( 3,15) ( 3,16) ( 3,17) ( 3,18) ( 3,19) ( 3,20) ( 3,21)\n",
      "                                                                                                                                                                               \n",
      "                                                                                                                                                                               \n",
      "                                                                                                                                                                               \n",
      "                                                                                                                                                                               \n",
      "( 4, 0) ( 4, 1) ( 4, 2) ( 4, 3) ( 4, 4) ( 4, 5) ( 4, 6) ( 4, 7) ( 4, 8) ( 4, 9) ( 4,10) ( 4,11) ( 4,12) ( 4,13) ( 4,14) ( 4,15) ( 4,16) ( 4,17) ( 4,18) ( 4,19) ( 4,20) ( 4,21)\n",
      "                                                                                                                                                                               \n",
      "                                                                                                                                                                               \n",
      "                                                                                                                                                                               \n",
      "                                                                                                                                                                               \n",
      "( 5, 0) ( 5, 1) ( 5, 2) ( 5, 3) ( 5, 4) ( 5, 5) ( 5, 6) ( 5, 7) ( 5, 8) ( 5, 9) ( 5,10) ( 5,11) ( 5,12) ( 5,13) ( 5,14) ( 5,15) ( 5,16) ( 5,17) ( 5,18) ( 5,19) ( 5,20) ( 5,21)\n",
      "                                                                                                                                                                               \n",
      "                                                                                                                                                                               \n",
      "                                                                                                                                                                               \n",
      "                                                                                                                                                                               \n",
      "( 6, 0) ( 6, 1) ( 6, 2) ( 6, 3) ( 6, 4) ( 6, 5) ( 6, 6) ( 6, 7) ( 6, 8) ( 6, 9) ( 6,10) ( 6,11) ( 6,12) ( 6,13) ( 6,14) ( 6,15) ( 6,16) ( 6,17) ( 6,18) ( 6,19) ( 6,20) ( 6,21)\n",
      "                                                                                                                                                                               \n",
      "                                                                                                                                                                               \n",
      "                                                                                                                                                                               \n",
      "                                                                                                                                                                               \n",
      "( 7, 0) ( 7, 1) ( 7, 2) ( 7, 3) ( 7, 4) ( 7, 5) ( 7, 6) ( 7, 7) ( 7, 8) ( 7, 9) ( 7,10) ( 7,11) ( 7,12) ( 7,13) ( 7,14) ( 7,15) ( 7,16) ( 7,17) ( 7,18) ( 7,19) ( 7,20) ( 7,21)\n",
      "                                                                                                                                                                               \n",
      "                                                                                                                                                                               \n",
      "                                                                                                        ┏-----┓                                                                \n",
      "                                                                                                        |#####|                                                                \n",
      "( 8, 0) ( 8, 1) ( 8, 2) ( 8, 3) ( 8, 4) ( 8, 5) ( 8, 6) ( 8, 7) ( 8, 8) ( 8, 9) ( 8,10) ( 8,11) ( 8,12) |#####| ( 8,14) ( 8,15) ( 8,16) ( 8,17) ( 8,18) ( 8,19) ( 8,20) ( 8,21)\n",
      "                                                                                                        |hiden|                                                                \n",
      "                                                                                                        ┕-----┚                                                                \n",
      "                                                                                                                                                                               \n",
      "                                                                                                                                                                               \n",
      "( 9, 0) ( 9, 1) ( 9, 2) ( 9, 3) ( 9, 4) ( 9, 5) ( 9, 6) ( 9, 7) ( 9, 8) ( 9, 9) ( 9,10) ( 9,11) ( 9,12) ( 9,13) ( 9,14) ( 9,15) ( 9,16) ( 9,17) ( 9,18) ( 9,19) ( 9,20) ( 9,21)\n",
      "                                                                                                                                                                               \n",
      "                                                                                                                                                                               \n",
      "                                        ┏--┳--┓ ┏--┳--┓ ┏--┳--┓ ┏--┳--┓                                 ┏--┳--┓                                                                \n",
      "                                        |##|##| |  |  | |  |  | |  |  |                                 |  |##|                                                                \n",
      "(10, 0) (10, 1) (10, 2) (10, 3) (10, 4) ┣--╋--┫ ┣--╋--┫ ┣--╋--┫ ┣--╋--┫ (10, 9) (10,10) (10,11) (10,12) |  ┕--┫ (10,14) (10,15) (10,16) (10,17) (10,18) (10,19) (10,20) (10,21)\n",
      "                                        |##|##| |  |  | |  |  | |  |  |                                 |hiden|                                                                \n",
      "                                        ┕--┻--┚ ┕--┻--┚ ┕--┻--┚ ┕--┻--┚                                 ┕-----┚                                                                \n",
      "                                                ┏--┳--┓                                                                                                                        \n",
      "                                                |  |  |                                                                                                                        \n",
      "(11, 0) (11, 1) (11, 2) (11, 3) (11, 4) (11, 5) ┣--╋--┫ (11, 7) (11, 8) (11, 9) (11,10) (11,11) (11,12) (11,13) (11,14) (11,15) (11,16) (11,17) (11,18) (11,19) (11,20) (11,21)\n",
      "                                                |  |  |                                                                                                                        \n",
      "                                                ┕--┻--┚                                                                                                                        \n",
      "                                                                                                        ┏--┳--┓                                                                \n",
      "                                                                                                        |  |##|                                                                \n",
      "(12, 0) (12, 1) (12, 2) (12, 3) (12, 4) (12, 5) (12, 6) (12, 7) (12, 8) (12, 9) (12,10) (12,11) (12,12) |  ┕--┫ (12,14) (12,15) (12,16) (12,17) (12,18) (12,19) (12,20) (12,21)\n",
      "                                                                                                        |hiden|                                                                \n",
      "                                                                                                        ┕-----┚                                                                \n",
      "                                                                                                                                                                               \n",
      "                                                                                                                                                                               \n",
      "(13, 0) (13, 1) (13, 2) (13, 3) (13, 4) (13, 5) (13, 6) (13, 7) (13, 8) (13, 9) (13,10) (13,11) (13,12) (13,13) (13,14) (13,15) (13,16) (13,17) (13,18) (13,19) (13,20) (13,21)\n",
      "                                                                                                                                                                               \n",
      "                                                                                                                                                                               \n",
      "                                                                                                                                                                               \n",
      "                                                                                                                                                                               \n",
      "(14, 0) (14, 1) (14, 2) (14, 3) (14, 4) (14, 5) (14, 6) (14, 7) (14, 8) (14, 9) (14,10) (14,11) (14,12) (14,13) (14,14) (14,15) (14,16) (14,17) (14,18) (14,19) (14,20) (14,21)\n",
      "                                                                                                                                                                               \n",
      "                                                                                                                                                                               \n",
      "                                                                                                                                                                               \n",
      "                                                                                                                                                                               \n",
      "(15, 0) (15, 1) (15, 2) (15, 3) (15, 4) (15, 5) (15, 6) (15, 7) (15, 8) (15, 9) (15,10) (15,11) (15,12) (15,13) (15,14) (15,15) (15,16) (15,17) (15,18) (15,19) (15,20) (15,21)\n",
      "                                                                                                                                                                               \n",
      "                                                                                                                                                                               \n",
      "                                                                                                                                                                               \n",
      "                                                                                                                                                                               \n",
      "(16, 0) (16, 1) (16, 2) (16, 3) (16, 4) (16, 5) (16, 6) (16, 7) (16, 8) (16, 9) (16,10) (16,11) (16,12) (16,13) (16,14) (16,15) (16,16) (16,17) (16,18) (16,19) (16,20) (16,21)\n",
      "                                                                                                                                                                               \n",
      "                                                                                                                                                                               \n",
      "                                                                                                                                                                               \n",
      "                                                                                                                                                                               \n",
      "(17, 0) (17, 1) (17, 2) (17, 3) (17, 4) (17, 5) (17, 6) (17, 7) (17, 8) (17, 9) (17,10) (17,11) (17,12) (17,13) (17,14) (17,15) (17,16) (17,17) (17,18) (17,19) (17,20) (17,21)\n",
      "                                                                                                                                                                               \n",
      "                                                                                                                                                                               \n",
      "                                                                                                                                                                               \n",
      "                                                                                                                                                                               \n",
      "(18, 0) (18, 1) (18, 2) (18, 3) (18, 4) (18, 5) (18, 6) (18, 7) (18, 8) (18, 9) (18,10) (18,11) (18,12) (18,13) (18,14) (18,15) (18,16) (18,17) (18,18) (18,19) (18,20) (18,21)\n",
      "                                                                                                                                                                               \n",
      "                                                                                                                                                                               \n",
      "                                                                                                                                                                               \n",
      "                                                                                                                                                                               \n",
      "(19, 0) (19, 1) (19, 2) (19, 3) (19, 4) (19, 5) (19, 6) (19, 7) (19, 8) (19, 9) (19,10) (19,11) (19,12) (19,13) (19,14) (19,15) (19,16) (19,17) (19,18) (19,19) (19,20) (19,21)\n",
      "                                                                                                                                                                               \n",
      "                                                                                                                                                                               \n",
      "                                                                                                                                                                               \n",
      "                                                                                                                                                                               \n",
      "(20, 0) (20, 1) (20, 2) (20, 3) (20, 4) (20, 5) (20, 6) (20, 7) (20, 8) (20, 9) (20,10) (20,11) (20,12) (20,13) (20,14) (20,15) (20,16) (20,17) (20,18) (20,19) (20,20) (20,21)\n",
      "                                                                                                                                                                               \n",
      "                                                                                                                                                                               \n",
      "                                                                                                                                                                               \n",
      "                                                                                                                                                                               \n",
      "(21, 0) (21, 1) (21, 2) (21, 3) (21, 4) (21, 5) (21, 6) (21, 7) (21, 8) (21, 9) (21,10) (21,11) (21,12) (21,13) (21,14) (21,15) (21,16) (21,17) (21,18) (21,19) (21,20) (21,21)\n",
      "                                                                                                                                                                               \n",
      "                                                                                                                                                                               \n"
     ]
    }
   ],
   "source": [
    "game.board.showBoard()"
   ]
  },
  {
   "cell_type": "markdown",
   "metadata": {},
   "source": []
  },
  {
   "cell_type": "code",
   "execution_count": null,
   "metadata": {},
   "outputs": [
    {
     "data": {
      "text/plain": [
       "True"
      ]
     },
     "metadata": {},
     "output_type": "display_data"
    }
   ],
   "source": [
    "game.board.addCard(3,10,6)\n",
    "game.board.addCard(3,10,7)\n",
    "game.board.addCard(3,10,8)\n",
    "game.board.addCard(3,10,9)\n",
    "game.board.addCard(3,10,10)\n",
    "game.board.addCard(3,10,11)\n",
    "game.board.addCard(3,10,12)\n",
    "# game.board.addCard(3,9,12)\n",
    "# game.board.addCard(3,8,12)\n",
    "game.board.addCard(3,11,12)\n",
    "game.board.addCard(3,12,12)"
   ]
  },
  {
   "cell_type": "code",
   "execution_count": null,
   "metadata": {},
   "outputs": [],
   "source": [
    "# 손서진 200666299465"
   ]
  }
 ],
 "metadata": {
  "kernelspec": {
   "display_name": ".venv",
   "language": "python",
   "name": "python3"
  },
  "language_info": {
   "codemirror_mode": {
    "name": "ipython",
    "version": 3
   },
   "file_extension": ".py",
   "mimetype": "text/x-python",
   "name": "python",
   "nbconvert_exporter": "python",
   "pygments_lexer": "ipython3",
   "version": "3.13.1"
  }
 },
 "nbformat": 4,
 "nbformat_minor": 2
}
